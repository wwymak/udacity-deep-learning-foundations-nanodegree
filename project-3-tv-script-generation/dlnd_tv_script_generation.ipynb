{
 "cells": [
  {
   "cell_type": "markdown",
   "metadata": {},
   "source": [
    "# TV Script Generation\n",
    "In this project, you'll generate your own [Simpsons](https://en.wikipedia.org/wiki/The_Simpsons) TV scripts using RNNs.  You'll be using part of the [Simpsons dataset](https://www.kaggle.com/wcukierski/the-simpsons-by-the-data) of scripts from 27 seasons.  The Neural Network you'll build will generate a new TV script for a scene at [Moe's Tavern](https://simpsonswiki.com/wiki/Moe's_Tavern).\n",
    "## Get the Data\n",
    "The data is already provided for you.  You'll be using a subset of the original dataset.  It consists of only the scenes in Moe's Tavern.  This doesn't include other versions of the tavern, like \"Moe's Cavern\", \"Flaming Moe's\", \"Uncle Moe's Family Feed-Bag\", etc.."
   ]
  },
  {
   "cell_type": "code",
   "execution_count": 1,
   "metadata": {
    "collapsed": true
   },
   "outputs": [],
   "source": [
    "\"\"\"\n",
    "DON'T MODIFY ANYTHING IN THIS CELL\n",
    "\"\"\"\n",
    "import helper\n",
    "\n",
    "data_dir = './data/simpsons/moes_tavern_lines.txt'\n",
    "text = helper.load_data(data_dir)\n",
    "# Ignore notice, since we don't use it for analysing the data\n",
    "text = text[81:]"
   ]
  },
  {
   "cell_type": "markdown",
   "metadata": {},
   "source": [
    "## Explore the Data\n",
    "Play around with `view_sentence_range` to view different parts of the data."
   ]
  },
  {
   "cell_type": "code",
   "execution_count": 2,
   "metadata": {
    "collapsed": false
   },
   "outputs": [
    {
     "name": "stdout",
     "output_type": "stream",
     "text": [
      "Dataset Stats\n",
      "Roughly the number of unique words: 11492\n",
      "Number of scenes: 262\n",
      "Average number of sentences in each scene: 15.248091603053435\n",
      "Number of lines: 4257\n",
      "Average number of words in each line: 11.50434578341555\n",
      "\n",
      "The sentences 100 to 200:\n",
      "Barney_Gumble: Wow, it really works.\n",
      "HARV: (CHUCKLING) I'll be back.\n",
      "Homer_Simpson: Moe, I haven't seen the place this crowded since the government cracked down on you for accepting food stamps. Do you think my drink had something to do with it?\n",
      "Moe_Szyslak: Who can say? It's probably a combination of things.\n",
      "Patron_#1: (TO MOE) Another pitcher of those amazing \"Flaming Moe's\".\n",
      "Patron_#2: Boy, I hate this joint, but I love that drink.\n",
      "Collette: Barkeep, I couldn't help noticing your sign.\n",
      "Moe_Szyslak: The one that says, \"Bartenders Do It 'Til You Barf\"?\n",
      "Collette: No, above that store-bought drollery.\n",
      "Moe_Szyslak: Oh great! Why don't we fill out an application? (READING) I'll need your name, measurements and turn ons..\n",
      "Collette: You really expect me to tell you my measurements?\n",
      "Moe_Szyslak: You could, but I find this way is much more accurate... and fun.\n",
      "Collette: (DISGUSTED) what do you offer in the way of salary?\n",
      "Moe_Szyslak: Minimum wage and tips. (MEANINGFULLY) Of course there are fringe benefits.\n",
      "Collette: Such as?\n",
      "Moe_Szyslak: An unforgettable weekend at Club Moe.\n",
      "Collette: I prefer to take my vacations someplace hot.\n",
      "Moe_Szyslak: I like your moxie, kid. You're hired.\n",
      "Collette: You shan't regret this.\n",
      "Moe_Szyslak: Methinks I shan't.\n",
      "HARV: (TO MOE) Pardon me, are you the genius behind the \"Flaming Moe\"?\n",
      "Homer_Simpson: Why yes I --\n",
      "Moe_Szyslak: (CUTTING HIM OFF) I'm your man.\n",
      "HARV: Huh uh. My name is Harv Bannister. I work for \"Tipsy McStagger's Good Time Drinking and Eating Emporium\".\n",
      "Moe_Szyslak: Oh yeah? Hey, what's Mr. McStagger really like?\n",
      "HARV: Actually, there is no Tipsy McStagger. He's just a composite of other successful logos.\n",
      "Moe_Szyslak: Well, you tell him from me that he makes one great mozzarella stick.\n",
      "HARV: (QUICKLY) Yes, fine, I will. Anyway, I've got a proposition for you.\n",
      "Moe_Szyslak: Keep talkin'.\n",
      "HARV: We feel your \"Flaming Moe\" is perfect for our restaurant chain. We want to buy the recipe.\n",
      "Moe_Szyslak: No dice. The \"Flaming Moe\" is not for sale. Do you know how much of my blood and sweat are in this drink?\n",
      "Barney_Gumble: Good for you, Moe. Only an idiot would give away a million dollar idea like that.\n",
      "Moe_Szyslak: (TO HARV) I'm sorry, but the secret ingredient dies with me.\n",
      "Delivery_Man: (TO MOE) Thirty cases of cough syrup. Sign here.\n",
      "Moe_Szyslak: (COVERING NERVOUS LAUGHING) I got hooked on this stuff in the service.\n",
      "Homer_Simpson: (QUIETLY) Hi, Moe. Where's that waitress of yours?\n",
      "Moe_Szyslak: Ah, she left to pursue a movie career. Frankly I think she was better off here.\n",
      "Homer_Simpson: Moe, sorry I lost you hundreds of thousands of dollars.\n",
      "Moe_Szyslak: Oh, hey, hey. Maybe some things are too good to be kept a secret.\n",
      "Homer_Simpson: I guess so.\n",
      "Moe_Szyslak: Compliments of the house. (WARMLY) One \"Flaming Homer\".\n",
      "Homer_Simpson: Ahh. Thanks, Moe. You're the greatest friend a guy could ever have.\n",
      "Homer_Simpson: Hey, do you think Aerosmith will be in tonight?\n",
      "Moe_Szyslak: I doubt it.\n",
      "\n",
      "\n",
      "Moe_Szyslak: (SHOCKED) Are you sure? Cuz once I open the bottle there's no refund.\n",
      "Moe_Szyslak: Hey, Homer. Wanna Duff?\n",
      "Homer_Simpson: (SMOOTHLY) No, I'd like a bottle of Henry K. Duff's Private Reserve.\n",
      "Homer_Simpson: For your information, I just made a cool twenty-five dollars playing the market. Buy low, sell high, that's my motto. I may just quit my job at the power plant to become a full-time stock market guy.\n",
      "Homer_Simpson: Have a Duff, boys!\n",
      "Hans: (GERMAN ACCENT, FRIENDLY) Oh, thank you. My English is not perfect, but I have to tell you your beer is like swill to us. Do I have that right? I am saying that only a swine would drink this beer.\n",
      "Fritz: (GERMAN ACCENT) Yeah, but thank you anyway.\n",
      "Homer_Simpson: Hey, you guys aren't from around here, are you?\n",
      "Hans: Ech, nein. We are from Germany. He is from the East. I am from the West.\n",
      "Fritz: I had a big company and he had a big company. Now we have a very big company.\n",
      "Hans: We are interested in buying the power plant. Do you think the owner would ever sell it?\n",
      "Homer_Simpson: (VERY CONFIDENT) Well, I happen to know that he won't sell it for less than 100 million dollars.\n",
      "Fritz: A hundred million?\n",
      "Hans: Oh, don't worry! We'll still have enough left to buy the Cleveland Browns.\n",
      "Moe_Szyslak: (INTO PHONE) Moe's Tavern. Moe speaking.\n",
      "Bart_Simpson: (INTO PHONE) Uh yes, I'm looking for a Mrs. O'Problem. First name... Bee.\n",
      "Moe_Szyslak: (INTO PHONE) Ah, yeah. Just a minute, I'll check. (CALLING OUT) Uh, Bee O'Problem. Bee O'Problem. C'mon, guys. Do I have an O'Problem here?\n",
      "Barney_Gumble: You sure do!\n",
      "Moe_Szyslak: (REALIZING) Awwww. (INTO PHONE) It's you, isn't it?\n",
      "Moe_Szyslak: Listen you, when I get a hold of you, I'm gonna use your head for a bucket and paint my house with your brains!\n",
      "Bart_Simpson: Excuse me, I'm looking for --\n",
      "Moe_Szyslak: Wait a minute. I know that voice.\n",
      "Moe_Szyslak: If it isn't little Bart Simpson! I haven't seen you in years.\n",
      "Bart_Simpson: That's right. That's my pop!\n",
      "Moe_Szyslak: Ah, little Bart... we hear all about your monkeyshines.\n",
      "Moe_Szyslak: (CONSPIRATORIAL) Bet you get into all kinds of trouble he don't even know about. Am I right? Huh? Am I right?\n",
      "Bart_Simpson: (CAN'T RESIST) Yeah, well, I make some crank phone calls.\n",
      "Moe_Szyslak: (MUSSES BART'S HAIR) (LAUGHS) That's great! Hey, would you sing that old song you used to sing for me?\n",
      "Bart_Simpson: (A LITTLE EMBARRASSED) Moe, for you... anything?\n",
      "Bart_Simpson: (SINGING) EVERY TEDDY BEAR WHO'S BEEN GOOD IS SURE OF A TREAT TODAY/ THERE'S LOTS OF MARVELOUS THINGS TO EAT, AND WONDERFUL GAMES TO PLAY/ BENEATH THE TREES, WHERE NOBODY SEES/ THEY'LL HIDE AND SEEK AS LONG AS THEY PLEASE/ TODAY'S THE DAY THE TEDDY BEARS HAVE THEIR PICNIC!\n",
      "Moe_Szyslak: He's a pip, this one is!\n",
      "C._Montgomery_Burns: Ah, the mirthless laugh of the damned. Hold your nose, Smithers, we're going in!\n",
      "C._Montgomery_Burns: (TO SMITHERS) Watch me blend in. (TO MOE) Barkeep, some cheap domestic beer for me and my \"buddy\" here.\n",
      "Homer_Simpson: I'm not your buddy, you greedy old reptile!\n",
      "C._Montgomery_Burns: Smithers, who is this saucy fellow?\n",
      "Waylon_Smithers: Homer Simpson, sir. Sector Sieben-gruben -- I mean, Sector 7G. Recently terminated.\n",
      "Homer_Simpson: That's right. I lost my job so that you could have another 100 million dollars.\n",
      "Homer_Simpson: (POINTED) Let me ask you something. Does your money cheer you up when you're feeling blue?\n",
      "C._Montgomery_Burns: Yes.\n",
      "Homer_Simpson: Okay, bad example. So let me ask you this, does your money ever hug you when you come home at night?\n",
      "C._Montgomery_Burns: (SHAKEN) Why, no.\n",
      "Homer_Simpson: And does it ever say, \"I love you?\"\n",
      "C._Montgomery_Burns: (SHAKEN) No, it doesn't.\n",
      "Homer_Simpson: (SING-SONG) Nobody loves you. Nobody loves you. You're old and you're ugly. Nobody loves you. Yea, yea, yea yea!\n",
      "Homer_Simpson: Nobody loves you...\n",
      "C._Montgomery_Burns: Good heavens, Smithers! They're not afraid of me anymore!\n",
      "Bart_Simpson: Hey Mr. Burns, did you get that letter I sent?\n",
      "C._Montgomery_Burns: Letter? I don't recall any letter...\n",
      "Bart_Simpson: That's because I forgot to stamp it.\n",
      "Moe_Szyslak: (LAUGHING) Ah, that kid slays me.\n",
      "C._Montgomery_Burns: That was no accident. Let's get out of here.\n",
      "Homer_Simpson: (SINGING) Na na na na / Na na na na /\n",
      "Barflies: Hey hey hey / Goodbye -- Na na na na / na na na na / hey hey hey / goodbye...\n",
      "C._Montgomery_Burns: What good is money if you can't inspire terror in your fellow man? (DETERMINED) I've got to get my plant back!\n"
     ]
    }
   ],
   "source": [
    "view_sentence_range = (100, 200)\n",
    "\n",
    "\"\"\"\n",
    "DON'T MODIFY ANYTHING IN THIS CELL\n",
    "\"\"\"\n",
    "import numpy as np\n",
    "\n",
    "print('Dataset Stats')\n",
    "print('Roughly the number of unique words: {}'.format(len({word: None for word in text.split()})))\n",
    "scenes = text.split('\\n\\n')\n",
    "print('Number of scenes: {}'.format(len(scenes)))\n",
    "sentence_count_scene = [scene.count('\\n') for scene in scenes]\n",
    "print('Average number of sentences in each scene: {}'.format(np.average(sentence_count_scene)))\n",
    "\n",
    "sentences = [sentence for scene in scenes for sentence in scene.split('\\n')]\n",
    "print('Number of lines: {}'.format(len(sentences)))\n",
    "word_count_sentence = [len(sentence.split()) for sentence in sentences]\n",
    "print('Average number of words in each line: {}'.format(np.average(word_count_sentence)))\n",
    "\n",
    "print()\n",
    "print('The sentences {} to {}:'.format(*view_sentence_range))\n",
    "print('\\n'.join(text.split('\\n')[view_sentence_range[0]:view_sentence_range[1]]))"
   ]
  },
  {
   "cell_type": "markdown",
   "metadata": {},
   "source": [
    "## Implement Preprocessing Functions\n",
    "The first thing to do to any dataset is preprocessing.  Implement the following preprocessing functions below:\n",
    "- Lookup Table\n",
    "- Tokenize Punctuation\n",
    "\n",
    "### Lookup Table\n",
    "To create a word embedding, you first need to transform the words to ids.  In this function, create two dictionaries:\n",
    "- Dictionary to go from the words to an id, we'll call `vocab_to_int`\n",
    "- Dictionary to go from the id to word, we'll call `int_to_vocab`\n",
    "\n",
    "Return these dictionaries in the following tuple `(vocab_to_int, int_to_vocab)`"
   ]
  },
  {
   "cell_type": "code",
   "execution_count": 3,
   "metadata": {
    "collapsed": false
   },
   "outputs": [
    {
     "name": "stdout",
     "output_type": "stream",
     "text": [
      "Tests Passed\n"
     ]
    }
   ],
   "source": [
    "import numpy as np\n",
    "import problem_unittests as tests\n",
    "\n",
    "from collections import Counter\n",
    "\n",
    "def create_lookup_tables(text):\n",
    "    \"\"\"\n",
    "    Create lookup tables for vocabulary\n",
    "    :param text: The text of tv scripts split into words\n",
    "    :return: A tuple of dicts (vocab_to_int, int_to_vocab)\n",
    "    \"\"\"\n",
    "    word_counts = Counter(text);\n",
    "    sorted_words = [x[0] for x in word_counts.most_common()]\n",
    "    int_to_vocab ={}\n",
    "    vocab_to_int = {}\n",
    "    for idx, value in enumerate(sorted_words):\n",
    "        vocab_to_int[value] = idx\n",
    "        int_to_vocab[idx] = value\n",
    "    return vocab_to_int,int_to_vocab\n",
    "\n",
    "\n",
    "\"\"\"\n",
    "DON'T MODIFY ANYTHING IN THIS CELL THAT IS BELOW THIS LINE\n",
    "\"\"\"\n",
    "tests.test_create_lookup_tables(create_lookup_tables)"
   ]
  },
  {
   "cell_type": "markdown",
   "metadata": {},
   "source": [
    "### Tokenize Punctuation\n",
    "We'll be splitting the script into a word array using spaces as delimiters.  However, punctuations like periods and exclamation marks make it hard for the neural network to distinguish between the word \"bye\" and \"bye!\".\n",
    "\n",
    "Implement the function `token_lookup` to return a dict that will be used to tokenize symbols like \"!\" into \"||Exclamation_Mark||\".  Create a dictionary for the following symbols where the symbol is the key and value is the token:\n",
    "- Period ( . )\n",
    "- Comma ( , )\n",
    "- Quotation Mark ( \" )\n",
    "- Semicolon ( ; )\n",
    "- Exclamation mark ( ! )\n",
    "- Question mark ( ? )\n",
    "- Left Parentheses ( ( )\n",
    "- Right Parentheses ( ) )\n",
    "- Dash ( -- )\n",
    "- Return ( \\n )\n",
    "\n",
    "This dictionary will be used to token the symbols and add the delimiter (space) around it.  This separates the symbols as it's own word, making it easier for the neural network to predict on the next word. Make sure you don't use a token that could be confused as a word. Instead of using the token \"dash\", try using something like \"||dash||\"."
   ]
  },
  {
   "cell_type": "code",
   "execution_count": 4,
   "metadata": {
    "collapsed": false
   },
   "outputs": [
    {
     "name": "stdout",
     "output_type": "stream",
     "text": [
      "Tests Passed\n"
     ]
    }
   ],
   "source": [
    "def token_lookup():\n",
    "    \"\"\"\n",
    "    Generate a dict to turn punctuation into a token.\n",
    "    :return: Tokenize dictionary where the key is the punctuation and the value is the token\n",
    "    \"\"\"\n",
    "    return {\n",
    "        \".\": \"||period||\",\n",
    "        \",\": \"||comma||\",\n",
    "#         \":\": \"||colon||\",\n",
    "        \";\": \"||semicolon||\",\n",
    "        \"!\": \"||exclamation||\",\n",
    "        \"(\": \"||left-paren||\",\n",
    "        \")\": \"||right-paren||\",\n",
    "        \"--\": \"||dash||\",\n",
    "        \"\\n\": \"||return||\",\n",
    "        \"--\": \"||dash||\",\n",
    "        '\"': \"||quotation||\",\n",
    "        \"?\": \"||question-mark||\"\n",
    "    }\n",
    "    \n",
    "\n",
    "\"\"\"\n",
    "DON'T MODIFY ANYTHING IN THIS CELL THAT IS BELOW THIS LINE\n",
    "\"\"\"\n",
    "tests.test_tokenize(token_lookup)"
   ]
  },
  {
   "cell_type": "code",
   "execution_count": 5,
   "metadata": {
    "collapsed": true
   },
   "outputs": [],
   "source": [
    "def token_lookup_v2():\n",
    "    \"\"\"\n",
    "    Generate a dict to turn punctuation into a token.\n",
    "    :return: Tokenize dictionary where the key is the punctuation and the value is the token\n",
    "    \"\"\"\n",
    "    return {\n",
    "        \".\": \"||period||\",\n",
    "        \",\": \"||comma||\",\n",
    "        \":\": \"||colon||\",\n",
    "        \";\": \"||semicolon||\",\n",
    "        \"!\": \"||exclamation||\",\n",
    "        \"(\": \"||left-paren||\",\n",
    "        \")\": \"||right-paren||\",\n",
    "        \"--\": \"||dash||\",\n",
    "        \"\\n\": \"||return||\",\n",
    "        \"--\": \"||dash||\",\n",
    "        '\"': \"||quotation||\",\n",
    "        \"?\": \"||question-mark||\"\n",
    "    }"
   ]
  },
  {
   "cell_type": "markdown",
   "metadata": {},
   "source": [
    "## Preprocess all the data and save it\n",
    "Running the code cell below will preprocess all the data and save it to file."
   ]
  },
  {
   "cell_type": "code",
   "execution_count": 6,
   "metadata": {
    "collapsed": true
   },
   "outputs": [],
   "source": [
    "\"\"\"\n",
    "DON'T MODIFY ANYTHING IN THIS CELL\n",
    "\"\"\"\n",
    "# Preprocess Training, Validation, and Testing Data\n",
    "helper.preprocess_and_save_data(data_dir, token_lookup_v2, create_lookup_tables)"
   ]
  },
  {
   "cell_type": "code",
   "execution_count": 9,
   "metadata": {
    "collapsed": true
   },
   "outputs": [],
   "source": [
    "helper??"
   ]
  },
  {
   "cell_type": "markdown",
   "metadata": {},
   "source": [
    "# Check Point\n",
    "This is your first checkpoint. If you ever decide to come back to this notebook or have to restart the notebook, you can start from here. The preprocessed data has been saved to disk."
   ]
  },
  {
   "cell_type": "code",
   "execution_count": 1,
   "metadata": {
    "collapsed": true
   },
   "outputs": [],
   "source": [
    "\"\"\"\n",
    "DON'T MODIFY ANYTHING IN THIS CELL\n",
    "\"\"\"\n",
    "import helper\n",
    "import numpy as np\n",
    "import problem_unittests as tests\n",
    "\n",
    "int_text, vocab_to_int, int_to_vocab, token_dict = helper.load_preprocess()"
   ]
  },
  {
   "cell_type": "markdown",
   "metadata": {},
   "source": [
    "## Build the Neural Network\n",
    "You'll build the components necessary to build a RNN by implementing the following functions below:\n",
    "- get_inputs\n",
    "- get_init_cell\n",
    "- get_embed\n",
    "- build_rnn\n",
    "- build_nn\n",
    "- get_batches\n",
    "\n",
    "### Check the Version of TensorFlow and Access to GPU"
   ]
  },
  {
   "cell_type": "code",
   "execution_count": 3,
   "metadata": {
    "collapsed": false
   },
   "outputs": [
    {
     "name": "stdout",
     "output_type": "stream",
     "text": [
      "TensorFlow Version: 1.3.0\n",
      "Default GPU Device: /gpu:0\n"
     ]
    }
   ],
   "source": [
    "\"\"\"\n",
    "DON'T MODIFY ANYTHING IN THIS CELL\n",
    "\"\"\"\n",
    "from distutils.version import LooseVersion\n",
    "import warnings\n",
    "import tensorflow as tf\n",
    "\n",
    "# Check TensorFlow Version\n",
    "assert LooseVersion(tf.__version__) >= LooseVersion('1.0'), 'Please use TensorFlow version 1.0 or newer'\n",
    "print('TensorFlow Version: {}'.format(tf.__version__))\n",
    "\n",
    "# Check for a GPU\n",
    "if not tf.test.gpu_device_name():\n",
    "    warnings.warn('No GPU found. Please use a GPU to train your neural network.')\n",
    "else:\n",
    "    print('Default GPU Device: {}'.format(tf.test.gpu_device_name()))"
   ]
  },
  {
   "cell_type": "markdown",
   "metadata": {},
   "source": [
    "### Input\n",
    "Implement the `get_inputs()` function to create TF Placeholders for the Neural Network.  It should create the following placeholders:\n",
    "- Input text placeholder named \"input\" using the [TF Placeholder](https://www.tensorflow.org/api_docs/python/tf/placeholder) `name` parameter.\n",
    "- Targets placeholder\n",
    "- Learning Rate placeholder\n",
    "\n",
    "Return the placeholders in the following tuple `(Input, Targets, LearningRate)`"
   ]
  },
  {
   "cell_type": "code",
   "execution_count": 4,
   "metadata": {
    "collapsed": false
   },
   "outputs": [
    {
     "name": "stdout",
     "output_type": "stream",
     "text": [
      "Tests Passed\n"
     ]
    }
   ],
   "source": [
    "def get_inputs():\n",
    "    \"\"\"\n",
    "    Create TF Placeholders for input, targets, and learning rate.\n",
    "    :return: Tuple (input, targets, learning rate)\n",
    "    \"\"\"\n",
    "    inputs = tf.placeholder(tf.int32, shape=[None, None], name='input')\n",
    "    targets = tf.placeholder(tf.int32, shape=[None, None], name='targets')\n",
    "    learning_rate = tf.placeholder(tf.float32)\n",
    "    return inputs, targets, learning_rate\n",
    "\n",
    "\n",
    "\"\"\"\n",
    "DON'T MODIFY ANYTHING IN THIS CELL THAT IS BELOW THIS LINE\n",
    "\"\"\"\n",
    "tests.test_get_inputs(get_inputs)"
   ]
  },
  {
   "cell_type": "markdown",
   "metadata": {},
   "source": [
    "### Build RNN Cell and Initialize\n",
    "Stack one or more [`BasicLSTMCells`](https://www.tensorflow.org/api_docs/python/tf/contrib/rnn/BasicLSTMCell) in a [`MultiRNNCell`](https://www.tensorflow.org/api_docs/python/tf/contrib/rnn/MultiRNNCell).\n",
    "- The Rnn size should be set using `rnn_size`\n",
    "- Initalize Cell State using the MultiRNNCell's [`zero_state()`](https://www.tensorflow.org/api_docs/python/tf/contrib/rnn/MultiRNNCell#zero_state) function\n",
    "    - Apply the name \"initial_state\" to the initial state using [`tf.identity()`](https://www.tensorflow.org/api_docs/python/tf/identity)\n",
    "\n",
    "Return the cell and initial state in the following tuple `(Cell, InitialState)`"
   ]
  },
  {
   "cell_type": "code",
   "execution_count": 68,
   "metadata": {
    "collapsed": false
   },
   "outputs": [
    {
     "name": "stdout",
     "output_type": "stream",
     "text": [
      "Tests Passed\n"
     ]
    }
   ],
   "source": [
    "lstm_size = 256\n",
    "num_layers = 2\n",
    "batch_size = 500\n",
    "learning_rate = 0.001\n",
    "keep_prob=0.6\n",
    "\n",
    "def get_init_cell(batch_size, rnn_size):\n",
    "    \"\"\"\n",
    "    Create an RNN Cell and initialize it.\n",
    "    :param batch_size: Size of batches\n",
    "    :param rnn_size: Size of RNNs\n",
    "    :return: Tuple (cell, initialize state)\n",
    "    \"\"\"\n",
    "#     keep_prob = tf.constant(keep_prob)\n",
    "    base_unit = tf.contrib.rnn.BasicLSTMCell(rnn_size)\n",
    "    drop = tf.contrib.rnn.DropoutWrapper(base_unit, output_keep_prob=1.0)\n",
    "    cell = tf.contrib.rnn.MultiRNNCell([drop for _ in range(num_layers)])\n",
    "    initial_state = tf.identity(cell.zero_state(batch_size, tf.float32), name='initial_state')\n",
    "    return cell, initial_state\n",
    "\n",
    "\n",
    "\"\"\"\n",
    "DON'T MODIFY ANYTHING IN THIS CELL THAT IS BELOW THIS LINE\n",
    "\"\"\"\n",
    "tests.test_get_init_cell(get_init_cell)"
   ]
  },
  {
   "cell_type": "markdown",
   "metadata": {},
   "source": [
    "### Word Embedding\n",
    "Apply embedding to `input_data` using TensorFlow.  Return the embedded sequence."
   ]
  },
  {
   "cell_type": "code",
   "execution_count": 57,
   "metadata": {
    "collapsed": false
   },
   "outputs": [
    {
     "name": "stdout",
     "output_type": "stream",
     "text": [
      "Tests Passed\n"
     ]
    }
   ],
   "source": [
    "def get_embed(input_data, vocab_size, embed_dim):\n",
    "    \"\"\"\n",
    "    Create embedding for <input_data>.\n",
    "    :param input_data: TF placeholder for text input.\n",
    "    :param vocab_size: Number of words in vocabulary.\n",
    "    :param embed_dim: Number of embedding dimensions\n",
    "    :return: Embedded input.\n",
    "    \"\"\"\n",
    "    embedding = tf.Variable(tf.random_normal(( vocab_size, embed_dim), -1, 1))\n",
    "    embed = tf.nn.embedding_lookup(embedding, input_data )\n",
    "    return embed\n",
    "\n",
    "\n",
    "\"\"\"\n",
    "DON'T MODIFY ANYTHING IN THIS CELL THAT IS BELOW THIS LINE\n",
    "\"\"\"\n",
    "tests.test_get_embed(get_embed)"
   ]
  },
  {
   "cell_type": "markdown",
   "metadata": {},
   "source": [
    "### Build RNN\n",
    "You created a RNN Cell in the `get_init_cell()` function.  Time to use the cell to create a RNN.\n",
    "- Build the RNN using the [`tf.nn.dynamic_rnn()`](https://www.tensorflow.org/api_docs/python/tf/nn/dynamic_rnn)\n",
    " - Apply the name \"final_state\" to the final state using [`tf.identity()`](https://www.tensorflow.org/api_docs/python/tf/identity)\n",
    "\n",
    "Return the outputs and final_state state in the following tuple `(Outputs, FinalState)` "
   ]
  },
  {
   "cell_type": "code",
   "execution_count": 70,
   "metadata": {
    "collapsed": false
   },
   "outputs": [
    {
     "name": "stdout",
     "output_type": "stream",
     "text": [
      "Tests Passed\n"
     ]
    }
   ],
   "source": [
    "def build_rnn(cell, inputs, dtype=tf.float32):\n",
    "    \"\"\"\n",
    "    Create a RNN using a RNN Cell\n",
    "    :param cell: RNN Cell\n",
    "    :param inputs: Input text data\n",
    "    :return: Tuple (Outputs, Final State)\n",
    "    \"\"\"\n",
    "   \n",
    "#     a = cell.zero_states(inputs.shape[0], tf.float32)\n",
    "#     state = tf.Variable(cell.zero_states(batch_size, tf.float32), trainable=False)\n",
    "    outputs, state = tf.nn.dynamic_rnn(cell, inputs, dtype=dtype)\n",
    "    final_state = tf.identity(state, name='final_state')\n",
    "    return outputs, final_state\n",
    "    \n",
    "\n",
    "\n",
    "\"\"\"\n",
    "DON'T MODIFY ANYTHING IN THIS CELL THAT IS BELOW THIS LINE\n",
    "\"\"\"\n",
    "tests.test_build_rnn(build_rnn)"
   ]
  },
  {
   "cell_type": "markdown",
   "metadata": {},
   "source": [
    "### Build the Neural Network\n",
    "Apply the functions you implemented above to:\n",
    "- Apply embedding to `input_data` using your `get_embed(input_data, vocab_size, embed_dim)` function.\n",
    "- Build RNN using `cell` and your `build_rnn(cell, inputs)` function.\n",
    "- Apply a fully connected layer with a linear activation and `vocab_size` as the number of outputs.\n",
    "\n",
    "Return the logits and final state in the following tuple (Logits, FinalState) "
   ]
  },
  {
   "cell_type": "code",
   "execution_count": 87,
   "metadata": {
    "collapsed": false
   },
   "outputs": [
    {
     "data": {
      "text/plain": [
       "<module 'problem_unittests' from '/home/wwymak/udacity-deep-learning/tv-script-generation/problem_unittests.py'>"
      ]
     },
     "execution_count": 87,
     "metadata": {},
     "output_type": "execute_result"
    }
   ],
   "source": [
    "import importlib\n",
    "importlib.reload(tests)"
   ]
  },
  {
   "cell_type": "code",
   "execution_count": 88,
   "metadata": {
    "collapsed": false
   },
   "outputs": [
    {
     "name": "stdout",
     "output_type": "stream",
     "text": [
      "Tests Passed\n"
     ]
    }
   ],
   "source": [
    "def build_nn(cell, rnn_size, input_data, vocab_size, embed_dim):\n",
    "    \"\"\"\n",
    "    Build part of the neural network\n",
    "    :param cell: RNN cell\n",
    "    :param rnn_size: Size of rnns\n",
    "    :param input_data: Input data\n",
    "    :param vocab_size: Vocabulary size\n",
    "    :param embed_dim: Number of embedding dimensions\n",
    "    :return: Tuple (Logits, FinalState)\n",
    "    \"\"\"\n",
    "#     cell2, initial_state = get_init_cell(batch_size, rnn_size)\n",
    "    embed = get_embed(input_data, vocab_size, embed_dim)\n",
    "    outputs_rnn, final_state = build_rnn(cell, embed)\n",
    "    logits = tf.contrib.layers.fully_connected(outputs_rnn, vocab_size,activation_fn=None)\n",
    "#     out = tf.nn.softmax(logits, name='final_state')\n",
    "    return logits, final_state\n",
    "\n",
    "\n",
    "\"\"\"\n",
    "DON'T MODIFY ANYTHING IN THIS CELL THAT IS BELOW THIS LINE\n",
    "\"\"\"\n",
    "tests.test_build_nn(build_nn)"
   ]
  },
  {
   "cell_type": "markdown",
   "metadata": {},
   "source": [
    "### Batches\n",
    "Implement `get_batches` to create batches of input and targets using `int_text`.  The batches should be a Numpy array with the shape `(number of batches, 2, batch size, sequence length)`. Each batch contains two elements:\n",
    "- The first element is a single batch of **input** with the shape `[batch size, sequence length]`\n",
    "- The second element is a single batch of **targets** with the shape `[batch size, sequence length]`\n",
    "\n",
    "If you can't fill the last batch with enough data, drop the last batch.\n",
    "\n",
    "For exmple, `get_batches([1, 2, 3, 4, 5, 6, 7, 8, 9, 10, 11, 12, 13, 14, 15, 16, 17, 18, 19, 20], 3, 2)` would return a Numpy array of the following:\n",
    "```\n",
    "[\n",
    "  # First Batch\n",
    "  [\n",
    "    # Batch of Input\n",
    "    [[ 1  2], [ 7  8], [13 14]]\n",
    "    # Batch of targets\n",
    "    [[ 2  3], [ 8  9], [14 15]]\n",
    "  ]\n",
    "\n",
    "  # Second Batch\n",
    "  [\n",
    "    # Batch of Input\n",
    "    [[ 3  4], [ 9 10], [15 16]]\n",
    "    # Batch of targets\n",
    "    [[ 4  5], [10 11], [16 17]]\n",
    "  ]\n",
    "\n",
    "  # Third Batch\n",
    "  [\n",
    "    # Batch of Input\n",
    "    [[ 5  6], [11 12], [17 18]]\n",
    "    # Batch of targets\n",
    "    [[ 6  7], [12 13], [18  1]]\n",
    "  ]\n",
    "]\n",
    "```\n",
    "\n",
    "Notice that the last target value in the last batch is the first input value of the first batch. In this case, `1`. This is a common technique used when creating sequence batches, although it is rather unintuitive."
   ]
  },
  {
   "cell_type": "code",
   "execution_count": 41,
   "metadata": {
    "collapsed": false
   },
   "outputs": [
    {
     "name": "stdout",
     "output_type": "stream",
     "text": [
      "Tests Passed\n"
     ]
    }
   ],
   "source": [
    "def get_batches(int_text, batch_size, seq_length):\n",
    "    \"\"\"\n",
    "    Return batches of input and target\n",
    "    :param int_text: Text with the words replaced by their ids\n",
    "    :param batch_size: The size of batch\n",
    "    :param seq_length: The length of sequence\n",
    "    :return: Batches as a Numpy array\n",
    "    \"\"\"\n",
    " \n",
    "    int_text = np.array(int_text)\n",
    "    words_per_batch = batch_size * seq_length\n",
    "    n_batches = len(int_text) // words_per_batch\n",
    "    int_text = int_text[:n_batches * words_per_batch]\n",
    "    targets = np.zeros_like(int_text)\n",
    "    \n",
    "    targets[:-1] = int_text[1:]\n",
    "    targets[-1] = int_text[0]\n",
    "\n",
    "    int_text = int_text.reshape((batch_size, -1))\n",
    "    targets = targets.reshape((batch_size, -1))\n",
    "\n",
    "    out = np.zeros((n_batches, 2, batch_size, seq_length))\n",
    "\n",
    "    for n in range(0, int_text.shape[1],seq_length):\n",
    "        x = int_text[:, n: n+seq_length ]\n",
    "        y = targets[:, n: n+seq_length ]\n",
    "        \n",
    "        x = x.reshape((batch_size, -1))\n",
    "        y = y.reshape((batch_size, -1))\n",
    "        intermediate = np.array((x,y))\n",
    "        out[int(n/seq_length)] = intermediate\n",
    "        \n",
    "    return out\n",
    "\n",
    "\n",
    "\"\"\"\n",
    "DON'T MODIFY ANYTHING IN THIS CELL THAT IS BELOW THIS LINE\n",
    "\"\"\"\n",
    "tests.test_get_batches(get_batches)"
   ]
  },
  {
   "cell_type": "markdown",
   "metadata": {},
   "source": [
    "## Neural Network Training\n",
    "### Hyperparameters\n",
    "Tune the following parameters:\n",
    "\n",
    "- Set `num_epochs` to the number of epochs.\n",
    "- Set `batch_size` to the batch size.\n",
    "- Set `rnn_size` to the size of the RNNs.\n",
    "- Set `embed_dim` to the size of the embedding.\n",
    "- Set `seq_length` to the length of sequence.\n",
    "- Set `learning_rate` to the learning rate.\n",
    "- Set `show_every_n_batches` to the number of batches the neural network should print progress."
   ]
  },
  {
   "cell_type": "code",
   "execution_count": 77,
   "metadata": {
    "collapsed": true
   },
   "outputs": [],
   "source": [
    "# Number of Epochs\n",
    "num_epochs = 200\n",
    "# Batch Size\n",
    "batch_size = 64\n",
    "# RNN Size\n",
    "rnn_size = 300\n",
    "# Embedding Dimension Size\n",
    "embed_dim = 300\n",
    "# Sequence Length\n",
    "seq_length = 100\n",
    "# Learning Rate\n",
    "learning_rate = 0.01\n",
    "# Show stats for every n number of batches\n",
    "show_every_n_batches = 20\n",
    "\n",
    "\"\"\"\n",
    "DON'T MODIFY ANYTHING IN THIS CELL THAT IS BELOW THIS LINE\n",
    "\"\"\"\n",
    "save_dir = './save'"
   ]
  },
  {
   "cell_type": "markdown",
   "metadata": {},
   "source": [
    "### Build the Graph\n",
    "Build the graph using the neural network you implemented."
   ]
  },
  {
   "cell_type": "code",
   "execution_count": 73,
   "metadata": {
    "collapsed": false
   },
   "outputs": [],
   "source": [
    "\"\"\"\n",
    "DON'T MODIFY ANYTHING IN THIS CELL\n",
    "\"\"\"\n",
    "from tensorflow.contrib import seq2seq\n",
    "\n",
    "train_graph = tf.Graph()\n",
    "with train_graph.as_default():\n",
    "    vocab_size = len(int_to_vocab)\n",
    "    input_text, targets, lr = get_inputs()\n",
    "    input_data_shape = tf.shape(input_text)\n",
    "    cell, initial_state = get_init_cell(input_data_shape[0], rnn_size)\n",
    "    logits, final_state = build_nn(cell, rnn_size, input_text, vocab_size, embed_dim)\n",
    "\n",
    "    # Probabilities for generating words\n",
    "    probs = tf.nn.softmax(logits, name='probs')\n",
    "\n",
    "    # Loss function\n",
    "    cost = seq2seq.sequence_loss(\n",
    "        logits,\n",
    "        targets,\n",
    "        tf.ones([input_data_shape[0], input_data_shape[1]]))\n",
    "\n",
    "    # Optimizer\n",
    "    optimizer = tf.train.AdamOptimizer(lr)\n",
    "\n",
    "    # Gradient Clipping\n",
    "    gradients = optimizer.compute_gradients(cost)\n",
    "    capped_gradients = [(tf.clip_by_value(grad, -1., 1.), var) for grad, var in gradients if grad is not None]\n",
    "    train_op = optimizer.apply_gradients(capped_gradients)"
   ]
  },
  {
   "cell_type": "markdown",
   "metadata": {},
   "source": [
    "## Train\n",
    "Train the neural network on the preprocessed data.  If you have a hard time getting a good loss, check the [forums](https://discussions.udacity.com/) to see if anyone is having the same problem."
   ]
  },
  {
   "cell_type": "code",
   "execution_count": 78,
   "metadata": {
    "collapsed": false
   },
   "outputs": [
    {
     "name": "stdout",
     "output_type": "stream",
     "text": [
      "Epoch   0 Batch    0/11   train_loss = 8.864\n",
      "Epoch   1 Batch    9/11   train_loss = 5.922\n",
      "Epoch   3 Batch    7/11   train_loss = 5.675\n",
      "Epoch   5 Batch    5/11   train_loss = 5.511\n",
      "Epoch   7 Batch    3/11   train_loss = 5.177\n",
      "Epoch   9 Batch    1/11   train_loss = 5.028\n",
      "Epoch  10 Batch   10/11   train_loss = 4.830\n",
      "Epoch  12 Batch    8/11   train_loss = 4.807\n",
      "Epoch  14 Batch    6/11   train_loss = 4.708\n",
      "Epoch  16 Batch    4/11   train_loss = 4.602\n",
      "Epoch  18 Batch    2/11   train_loss = 4.538\n",
      "Epoch  20 Batch    0/11   train_loss = 4.358\n",
      "Epoch  21 Batch    9/11   train_loss = 4.339\n",
      "Epoch  23 Batch    7/11   train_loss = 4.220\n",
      "Epoch  25 Batch    5/11   train_loss = 4.265\n",
      "Epoch  27 Batch    3/11   train_loss = 4.115\n",
      "Epoch  29 Batch    1/11   train_loss = 4.141\n",
      "Epoch  30 Batch   10/11   train_loss = 4.059\n",
      "Epoch  32 Batch    8/11   train_loss = 4.087\n",
      "Epoch  34 Batch    6/11   train_loss = 4.071\n",
      "Epoch  36 Batch    4/11   train_loss = 3.958\n",
      "Epoch  38 Batch    2/11   train_loss = 3.966\n",
      "Epoch  40 Batch    0/11   train_loss = 3.811\n",
      "Epoch  41 Batch    9/11   train_loss = 3.826\n",
      "Epoch  43 Batch    7/11   train_loss = 3.743\n",
      "Epoch  45 Batch    5/11   train_loss = 3.764\n",
      "Epoch  47 Batch    3/11   train_loss = 3.703\n",
      "Epoch  49 Batch    1/11   train_loss = 3.708\n",
      "Epoch  50 Batch   10/11   train_loss = 3.622\n",
      "Epoch  52 Batch    8/11   train_loss = 3.617\n",
      "Epoch  54 Batch    6/11   train_loss = 3.581\n",
      "Epoch  56 Batch    4/11   train_loss = 3.544\n",
      "Epoch  58 Batch    2/11   train_loss = 3.594\n",
      "Epoch  60 Batch    0/11   train_loss = 3.489\n",
      "Epoch  61 Batch    9/11   train_loss = 3.448\n",
      "Epoch  63 Batch    7/11   train_loss = 3.417\n",
      "Epoch  65 Batch    5/11   train_loss = 3.412\n",
      "Epoch  67 Batch    3/11   train_loss = 3.340\n",
      "Epoch  69 Batch    1/11   train_loss = 3.376\n",
      "Epoch  70 Batch   10/11   train_loss = 3.279\n",
      "Epoch  72 Batch    8/11   train_loss = 3.274\n",
      "Epoch  74 Batch    6/11   train_loss = 3.307\n",
      "Epoch  76 Batch    4/11   train_loss = 3.259\n",
      "Epoch  78 Batch    2/11   train_loss = 3.274\n",
      "Epoch  80 Batch    0/11   train_loss = 3.096\n",
      "Epoch  81 Batch    9/11   train_loss = 3.085\n",
      "Epoch  83 Batch    7/11   train_loss = 3.012\n",
      "Epoch  85 Batch    5/11   train_loss = 2.970\n",
      "Epoch  87 Batch    3/11   train_loss = 2.932\n",
      "Epoch  89 Batch    1/11   train_loss = 2.924\n",
      "Epoch  90 Batch   10/11   train_loss = 2.829\n",
      "Epoch  92 Batch    8/11   train_loss = 2.740\n",
      "Epoch  94 Batch    6/11   train_loss = 2.723\n",
      "Epoch  96 Batch    4/11   train_loss = 2.650\n",
      "Epoch  98 Batch    2/11   train_loss = 2.673\n",
      "Epoch 100 Batch    0/11   train_loss = 2.582\n",
      "Epoch 101 Batch    9/11   train_loss = 2.542\n",
      "Epoch 103 Batch    7/11   train_loss = 2.520\n",
      "Epoch 105 Batch    5/11   train_loss = 2.448\n",
      "Epoch 107 Batch    3/11   train_loss = 2.432\n",
      "Epoch 109 Batch    1/11   train_loss = 2.433\n",
      "Epoch 110 Batch   10/11   train_loss = 2.342\n",
      "Epoch 112 Batch    8/11   train_loss = 2.249\n",
      "Epoch 114 Batch    6/11   train_loss = 2.264\n",
      "Epoch 116 Batch    4/11   train_loss = 2.165\n",
      "Epoch 118 Batch    2/11   train_loss = 2.183\n",
      "Epoch 120 Batch    0/11   train_loss = 2.155\n",
      "Epoch 121 Batch    9/11   train_loss = 2.092\n",
      "Epoch 123 Batch    7/11   train_loss = 2.057\n",
      "Epoch 125 Batch    5/11   train_loss = 1.973\n",
      "Epoch 127 Batch    3/11   train_loss = 1.954\n",
      "Epoch 129 Batch    1/11   train_loss = 1.922\n",
      "Epoch 130 Batch   10/11   train_loss = 1.893\n",
      "Epoch 132 Batch    8/11   train_loss = 1.818\n",
      "Epoch 134 Batch    6/11   train_loss = 1.853\n",
      "Epoch 136 Batch    4/11   train_loss = 1.767\n",
      "Epoch 138 Batch    2/11   train_loss = 1.768\n",
      "Epoch 140 Batch    0/11   train_loss = 1.732\n",
      "Epoch 141 Batch    9/11   train_loss = 1.718\n",
      "Epoch 143 Batch    7/11   train_loss = 1.684\n",
      "Epoch 145 Batch    5/11   train_loss = 1.659\n",
      "Epoch 147 Batch    3/11   train_loss = 1.658\n",
      "Epoch 149 Batch    1/11   train_loss = 1.578\n",
      "Epoch 150 Batch   10/11   train_loss = 1.534\n",
      "Epoch 152 Batch    8/11   train_loss = 1.468\n",
      "Epoch 154 Batch    6/11   train_loss = 1.496\n",
      "Epoch 156 Batch    4/11   train_loss = 1.459\n",
      "Epoch 158 Batch    2/11   train_loss = 1.525\n",
      "Epoch 160 Batch    0/11   train_loss = 1.499\n",
      "Epoch 161 Batch    9/11   train_loss = 1.527\n",
      "Epoch 163 Batch    7/11   train_loss = 1.471\n",
      "Epoch 165 Batch    5/11   train_loss = 1.433\n",
      "Epoch 167 Batch    3/11   train_loss = 1.460\n",
      "Epoch 169 Batch    1/11   train_loss = 1.416\n",
      "Epoch 170 Batch   10/11   train_loss = 1.332\n",
      "Epoch 172 Batch    8/11   train_loss = 1.318\n",
      "Epoch 174 Batch    6/11   train_loss = 1.259\n",
      "Epoch 176 Batch    4/11   train_loss = 1.248\n",
      "Epoch 178 Batch    2/11   train_loss = 1.213\n",
      "Epoch 180 Batch    0/11   train_loss = 1.230\n",
      "Epoch 181 Batch    9/11   train_loss = 1.212\n",
      "Epoch 183 Batch    7/11   train_loss = 1.126\n",
      "Epoch 185 Batch    5/11   train_loss = 1.059\n",
      "Epoch 187 Batch    3/11   train_loss = 1.093\n",
      "Epoch 189 Batch    1/11   train_loss = 1.057\n",
      "Epoch 190 Batch   10/11   train_loss = 1.041\n",
      "Epoch 192 Batch    8/11   train_loss = 0.986\n",
      "Epoch 194 Batch    6/11   train_loss = 1.042\n",
      "Epoch 196 Batch    4/11   train_loss = 0.992\n",
      "Epoch 198 Batch    2/11   train_loss = 0.994\n",
      "Model Trained and Saved\n"
     ]
    }
   ],
   "source": [
    "\"\"\"\n",
    "DON'T MODIFY ANYTHING IN THIS CELL\n",
    "\"\"\"\n",
    "batches = get_batches(int_text, batch_size, seq_length)\n",
    "\n",
    "with tf.Session(graph=train_graph) as sess:\n",
    "    sess.run(tf.global_variables_initializer())\n",
    "\n",
    "    for epoch_i in range(num_epochs):\n",
    "        state = sess.run(initial_state, {input_text: batches[0][0]})\n",
    "\n",
    "        for batch_i, (x, y) in enumerate(batches):\n",
    "            feed = {\n",
    "                input_text: x,\n",
    "                targets: y,\n",
    "                initial_state: state,\n",
    "                lr: learning_rate}\n",
    "            train_loss, state, _ = sess.run([cost, final_state, train_op], feed)\n",
    "\n",
    "            # Show every <show_every_n_batches> batches\n",
    "            if (epoch_i * len(batches) + batch_i) % show_every_n_batches == 0:\n",
    "                print('Epoch {:>3} Batch {:>4}/{}   train_loss = {:.3f}'.format(\n",
    "                    epoch_i,\n",
    "                    batch_i,\n",
    "                    len(batches),\n",
    "                    train_loss))\n",
    "\n",
    "    # Save Model\n",
    "    saver = tf.train.Saver()\n",
    "    saver.save(sess, save_dir)\n",
    "    print('Model Trained and Saved')"
   ]
  },
  {
   "cell_type": "markdown",
   "metadata": {},
   "source": [
    "## Save Parameters\n",
    "Save `seq_length` and `save_dir` for generating a new TV script."
   ]
  },
  {
   "cell_type": "code",
   "execution_count": 82,
   "metadata": {
    "collapsed": true
   },
   "outputs": [],
   "source": [
    "\"\"\"\n",
    "DON'T MODIFY ANYTHING IN THIS CELL\n",
    "\"\"\"\n",
    "# Save parameters for checkpoint\n",
    "helper.save_params((seq_length, save_dir))"
   ]
  },
  {
   "cell_type": "markdown",
   "metadata": {},
   "source": [
    "# Checkpoint"
   ]
  },
  {
   "cell_type": "code",
   "execution_count": 83,
   "metadata": {
    "collapsed": true
   },
   "outputs": [],
   "source": [
    "\"\"\"\n",
    "DON'T MODIFY ANYTHING IN THIS CELL\n",
    "\"\"\"\n",
    "import tensorflow as tf\n",
    "import numpy as np\n",
    "import helper\n",
    "import problem_unittests as tests\n",
    "\n",
    "_, vocab_to_int, int_to_vocab, token_dict = helper.load_preprocess()\n",
    "seq_length, load_dir = helper.load_params()"
   ]
  },
  {
   "cell_type": "markdown",
   "metadata": {},
   "source": [
    "## Implement Generate Functions\n",
    "### Get Tensors\n",
    "Get tensors from `loaded_graph` using the function [`get_tensor_by_name()`](https://www.tensorflow.org/api_docs/python/tf/Graph#get_tensor_by_name).  Get the tensors using the following names:\n",
    "- \"input:0\"\n",
    "- \"initial_state:0\"\n",
    "- \"final_state:0\"\n",
    "- \"probs:0\"\n",
    "\n",
    "Return the tensors in the following tuple `(InputTensor, InitialStateTensor, FinalStateTensor, ProbsTensor)` "
   ]
  },
  {
   "cell_type": "code",
   "execution_count": 81,
   "metadata": {
    "collapsed": false
   },
   "outputs": [
    {
     "name": "stdout",
     "output_type": "stream",
     "text": [
      "Tests Passed\n"
     ]
    }
   ],
   "source": [
    "def get_tensors(loaded_graph):\n",
    "    \"\"\"\n",
    "    Get input, initial state, final state, and probabilities tensor from <loaded_graph>\n",
    "    :param loaded_graph: TensorFlow graph loaded from file\n",
    "    :return: Tuple (InputTensor, InitialStateTensor, FinalStateTensor, ProbsTensor)\n",
    "    \"\"\"\n",
    "    # TODO: Implement Function\n",
    "    return loaded_graph.get_tensor_by_name(\"input:0\"), loaded_graph.get_tensor_by_name(\"initial_state:0\"), loaded_graph.get_tensor_by_name(\"final_state:0\"), loaded_graph.get_tensor_by_name(\"probs:0\")\n",
    "\n",
    "\n",
    "\"\"\"\n",
    "DON'T MODIFY ANYTHING IN THIS CELL THAT IS BELOW THIS LINE\n",
    "\"\"\"\n",
    "tests.test_get_tensors(get_tensors)"
   ]
  },
  {
   "cell_type": "markdown",
   "metadata": {},
   "source": [
    "### Choose Word\n",
    "Implement the `pick_word()` function to select the next word using `probabilities`."
   ]
  },
  {
   "cell_type": "code",
   "execution_count": 125,
   "metadata": {
    "collapsed": false
   },
   "outputs": [
    {
     "name": "stdout",
     "output_type": "stream",
     "text": [
      "Tests Passed\n"
     ]
    }
   ],
   "source": [
    "def pick_word(probabilities, int_to_vocab):\n",
    "    \"\"\"\n",
    "    Pick the next word in the generated text\n",
    "    :param probabilities: Probabilites of the next word\n",
    "    :param int_to_vocab: Dictionary of word ids as the keys and words as the values\n",
    "    :return: String of the predicted word\n",
    "    \"\"\"\n",
    "    idx = np.argsort(-np.squeeze(probabilities))[0]\n",
    "    return int_to_vocab[idx]\n",
    "\n",
    "\n",
    "\"\"\"\n",
    "DON'T MODIFY ANYTHING IN THIS CELL THAT IS BELOW THIS LINE\n",
    "\"\"\"\n",
    "tests.test_pick_word(pick_word)"
   ]
  },
  {
   "cell_type": "markdown",
   "metadata": {},
   "source": [
    "## Generate TV Script\n",
    "This will generate the TV script for you.  Set `gen_length` to the length of TV script you want to generate."
   ]
  },
  {
   "cell_type": "code",
   "execution_count": 126,
   "metadata": {
    "collapsed": false
   },
   "outputs": [
    {
     "name": "stdout",
     "output_type": "stream",
     "text": [
      "INFO:tensorflow:Restoring parameters from ./save\n",
      "moe_szyslak.(to moe) i am not home in the world?\n",
      "homer_simpson: woo! rumaki!\n",
      "\n",
      "\n",
      "homer_simpson:(to camera) hey, weren't these cameras installed to keep america's enemies from blowin'...(looks at watch) moe, what about your time at the bar!\n",
      "moe_szyslak:(furious to jailbird) i'm sorry. but it says it's not like drivin' a car.\n",
      "homer_simpson:(insulted) heavyset?\n",
      "lisa_simpson:(talk-sings) my car is bucks?\n",
      "moe_szyslak:(to homer) how'd you gonna be back.\n",
      "lenny_leonard:(amid curious sounds) i wrap my own sports next sunday?\n",
      "detective_homer_simpson:(haplessly) uh-oh.\n",
      "duffman:(hopeful) yeah.\n",
      "seymour_skinner:(to moe) the one who doesn't talk for it.\n",
      "moe_szyslak:(exasperated sigh) i am not one lousy applicant at the hospital.\n",
      "homer_simpson:(to thought bubble) this is one texan and i'm going to the theater i'm not 'cause you're a little\n"
     ]
    }
   ],
   "source": [
    "gen_length = 200\n",
    "# homer_simpson, moe_szyslak, or Barney_Gumble\n",
    "prime_word = 'moe_szyslak'\n",
    "\n",
    "\"\"\"\n",
    "DON'T MODIFY ANYTHING IN THIS CELL THAT IS BELOW THIS LINE\n",
    "\"\"\"\n",
    "loaded_graph = tf.Graph()\n",
    "with tf.Session(graph=loaded_graph) as sess:\n",
    "    # Load saved model\n",
    "    loader = tf.train.import_meta_graph(load_dir + '.meta')\n",
    "    loader.restore(sess, load_dir)\n",
    "\n",
    "    # Get Tensors from loaded model\n",
    "    input_text, initial_state, final_state, probs = get_tensors(loaded_graph)\n",
    "\n",
    "    # Sentences generation setup\n",
    "    gen_sentences = [prime_word]\n",
    "    prev_state = sess.run(initial_state, {input_text: np.array([[1]])})\n",
    "\n",
    "    # Generate sentences\n",
    "    for n in range(gen_length):\n",
    "        # Dynamic Input\n",
    "        dyn_input = [[vocab_to_int[word] for word in gen_sentences[-seq_length:]]]\n",
    "        dyn_seq_length = len(dyn_input[0])\n",
    "\n",
    "        # Get Prediction\n",
    "        probabilities, prev_state = sess.run(\n",
    "            [probs, final_state],\n",
    "            {input_text: dyn_input, initial_state: prev_state})\n",
    "        pred_word = pick_word(np.squeeze(probabilities)[dyn_seq_length-1], int_to_vocab)   \n",
    "        gen_sentences.append(pred_word)\n",
    "    \n",
    "    # Remove tokens\n",
    "    tv_script = ' '.join(gen_sentences)\n",
    "    for key, token in token_dict.items():\n",
    "        ending = ' ' if key in ['\\n', '(', '\"'] else ''\n",
    "        tv_script = tv_script.replace(' ' + token.lower(), key)\n",
    "    tv_script = tv_script.replace('\\n ', '\\n')\n",
    "    tv_script = tv_script.replace('( ', '(')\n",
    "        \n",
    "    print(tv_script)"
   ]
  },
  {
   "cell_type": "markdown",
   "metadata": {},
   "source": [
    "# The TV Script is Nonsensical\n",
    "It's ok if the TV script doesn't make any sense.  We trained on less than a megabyte of text.  In order to get good results, you'll have to use a smaller vocabulary or get more data.  Luckly there's more data!  As we mentioned in the begging of this project, this is a subset of [another dataset](https://www.kaggle.com/wcukierski/the-simpsons-by-the-data).  We didn't have you train on all the data, because that would take too long.  However, you are free to train your neural network on all the data.  After you complete the project, of course.\n",
    "# Submitting This Project\n",
    "When submitting this project, make sure to run all the cells before saving the notebook. Save the notebook file as \"dlnd_tv_script_generation.ipynb\" and save it as a HTML file under \"File\" -> \"Download as\". Include the \"helper.py\" and \"problem_unittests.py\" files in your submission."
   ]
  }
 ],
 "metadata": {
  "anaconda-cloud": {},
  "kernelspec": {
   "display_name": "Python 3",
   "language": "python",
   "name": "python3"
  },
  "language_info": {
   "codemirror_mode": {
    "name": "ipython",
    "version": 3
   },
   "file_extension": ".py",
   "mimetype": "text/x-python",
   "name": "python",
   "nbconvert_exporter": "python",
   "pygments_lexer": "ipython3",
   "version": "3.6.0"
  }
 },
 "nbformat": 4,
 "nbformat_minor": 1
}
