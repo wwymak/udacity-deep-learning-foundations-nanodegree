{
 "cells": [
  {
   "cell_type": "markdown",
   "metadata": {
    "collapsed": true
   },
   "source": [
    "# Language Translation\n",
    "In this project, you’re going to take a peek into the realm of neural network machine translation.  You’ll be training a sequence to sequence model on a dataset of English and French sentences that can translate new sentences from English to French.\n",
    "## Get the Data\n",
    "Since translating the whole language of English to French will take lots of time to train, we have provided you with a small portion of the English corpus."
   ]
  },
  {
   "cell_type": "code",
   "execution_count": 2,
   "metadata": {
    "collapsed": false
   },
   "outputs": [],
   "source": [
    "\"\"\"\n",
    "DON'T MODIFY ANYTHING IN THIS CELL\n",
    "\"\"\"\n",
    "import helper\n",
    "import problem_unittests as tests\n",
    "\n",
    "source_path = 'data/small_vocab_en'\n",
    "target_path = 'data/small_vocab_fr'\n",
    "source_text = helper.load_data(source_path)\n",
    "target_text = helper.load_data(target_path)"
   ]
  },
  {
   "cell_type": "markdown",
   "metadata": {},
   "source": [
    "## Explore the Data\n",
    "Play around with view_sentence_range to view different parts of the data."
   ]
  },
  {
   "cell_type": "code",
   "execution_count": 2,
   "metadata": {
    "collapsed": false
   },
   "outputs": [
    {
     "name": "stdout",
     "output_type": "stream",
     "text": [
      "Dataset Stats\n",
      "Roughly the number of unique words: 227\n",
      "Number of sentences: 137861\n",
      "Average number of words in a sentence: 13.225277634719028\n",
      "\n",
      "English sentences 0 to 10:\n",
      "new jersey is sometimes quiet during autumn , and it is snowy in april .\n",
      "the united states is usually chilly during july , and it is usually freezing in november .\n",
      "california is usually quiet during march , and it is usually hot in june .\n",
      "the united states is sometimes mild during june , and it is cold in september .\n",
      "your least liked fruit is the grape , but my least liked is the apple .\n",
      "his favorite fruit is the orange , but my favorite is the grape .\n",
      "paris is relaxing during december , but it is usually chilly in july .\n",
      "new jersey is busy during spring , and it is never hot in march .\n",
      "our least liked fruit is the lemon , but my least liked is the grape .\n",
      "the united states is sometimes busy during january , and it is sometimes warm in november .\n",
      "\n",
      "French sentences 0 to 10:\n",
      "new jersey est parfois calme pendant l' automne , et il est neigeux en avril .\n",
      "les états-unis est généralement froid en juillet , et il gèle habituellement en novembre .\n",
      "california est généralement calme en mars , et il est généralement chaud en juin .\n",
      "les états-unis est parfois légère en juin , et il fait froid en septembre .\n",
      "votre moins aimé fruit est le raisin , mais mon moins aimé est la pomme .\n",
      "son fruit préféré est l'orange , mais mon préféré est le raisin .\n",
      "paris est relaxant en décembre , mais il est généralement froid en juillet .\n",
      "new jersey est occupé au printemps , et il est jamais chaude en mars .\n",
      "notre fruit est moins aimé le citron , mais mon moins aimé est le raisin .\n",
      "les états-unis est parfois occupé en janvier , et il est parfois chaud en novembre .\n"
     ]
    }
   ],
   "source": [
    "view_sentence_range = (0, 10)\n",
    "\n",
    "\"\"\"\n",
    "DON'T MODIFY ANYTHING IN THIS CELL\n",
    "\"\"\"\n",
    "import numpy as np\n",
    "\n",
    "print('Dataset Stats')\n",
    "print('Roughly the number of unique words: {}'.format(len({word: None for word in source_text.split()})))\n",
    "\n",
    "sentences = source_text.split('\\n')\n",
    "word_counts = [len(sentence.split()) for sentence in sentences]\n",
    "print('Number of sentences: {}'.format(len(sentences)))\n",
    "print('Average number of words in a sentence: {}'.format(np.average(word_counts)))\n",
    "\n",
    "print()\n",
    "print('English sentences {} to {}:'.format(*view_sentence_range))\n",
    "print('\\n'.join(source_text.split('\\n')[view_sentence_range[0]:view_sentence_range[1]]))\n",
    "print()\n",
    "print('French sentences {} to {}:'.format(*view_sentence_range))\n",
    "print('\\n'.join(target_text.split('\\n')[view_sentence_range[0]:view_sentence_range[1]]))"
   ]
  },
  {
   "cell_type": "markdown",
   "metadata": {},
   "source": [
    "## Implement Preprocessing Function\n",
    "### Text to Word Ids\n",
    "As you did with other RNNs, you must turn the text into a number so the computer can understand it. In the function `text_to_ids()`, you'll turn `source_text` and `target_text` from words to ids.  However, you need to add the `<EOS>` word id at the end of `target_text`.  This will help the neural network predict when the sentence should end.\n",
    "\n",
    "You can get the `<EOS>` word id by doing:\n",
    "```python\n",
    "target_vocab_to_int['<EOS>']\n",
    "```\n",
    "You can get other word ids using `source_vocab_to_int` and `target_vocab_to_int`."
   ]
  },
  {
   "cell_type": "code",
   "execution_count": 3,
   "metadata": {
    "collapsed": false
   },
   "outputs": [
    {
     "name": "stdout",
     "output_type": "stream",
     "text": [
      "Tests Passed\n"
     ]
    }
   ],
   "source": [
    "def text_to_ids(source_text, target_text, source_vocab_to_int, target_vocab_to_int):\n",
    "    \"\"\"\n",
    "    Convert source and target text to proper word ids\n",
    "    :param source_text: String that contains all the source text.\n",
    "    :param target_text: String that contains all the target text.\n",
    "    :param source_vocab_to_int: Dictionary to go from the source words to an id\n",
    "    :param target_vocab_to_int: Dictionary to go from the target words to an id\n",
    "    :return: A tuple of lists (source_id_text, target_id_text)\n",
    "    \"\"\"\n",
    "    sentences = source_text.split('\\n')\n",
    "    target_sentences = target_text.split('\\n')\n",
    "    source = [[source_vocab_to_int[x] for x in y.split() if x in y.split()] for y in sentences]\n",
    "    target = [[target_vocab_to_int[x] for x in y.split() if x in y.split()] for y in target_sentences]\n",
    "   \n",
    "    for x in target:\n",
    "        x.append(target_vocab_to_int['<EOS>'])\n",
    "    return source, target\n",
    "\"\"\"\n",
    "DON'T MODIFY ANYTHING IN THIS CELL THAT IS BELOW THIS LINE\n",
    "\"\"\"\n",
    "tests.test_text_to_ids(text_to_ids)"
   ]
  },
  {
   "cell_type": "markdown",
   "metadata": {},
   "source": [
    "### Preprocess all the data and save it\n",
    "Running the code cell below will preprocess all the data and save it to file."
   ]
  },
  {
   "cell_type": "code",
   "execution_count": 4,
   "metadata": {
    "collapsed": true
   },
   "outputs": [],
   "source": [
    "\"\"\"\n",
    "DON'T MODIFY ANYTHING IN THIS CELL\n",
    "\"\"\"\n",
    "helper.preprocess_and_save_data(source_path, target_path, text_to_ids)"
   ]
  },
  {
   "cell_type": "markdown",
   "metadata": {},
   "source": [
    "# Check Point\n",
    "This is your first checkpoint. If you ever decide to come back to this notebook or have to restart the notebook, you can start from here. The preprocessed data has been saved to disk."
   ]
  },
  {
   "cell_type": "code",
   "execution_count": 18,
   "metadata": {
    "collapsed": true
   },
   "outputs": [],
   "source": [
    "\"\"\"\n",
    "DON'T MODIFY ANYTHING IN THIS CELL\n",
    "\"\"\"\n",
    "import numpy as np\n",
    "import helper\n",
    "import problem_unittests as tests\n",
    "\n",
    "(source_int_text, target_int_text), (source_vocab_to_int, target_vocab_to_int), _ = helper.load_preprocess()"
   ]
  },
  {
   "cell_type": "markdown",
   "metadata": {},
   "source": [
    "### Check the Version of TensorFlow and Access to GPU\n",
    "This will check to make sure you have the correct version of TensorFlow and access to a GPU"
   ]
  },
  {
   "cell_type": "code",
   "execution_count": 6,
   "metadata": {
    "collapsed": false
   },
   "outputs": [
    {
     "name": "stdout",
     "output_type": "stream",
     "text": [
      "TensorFlow Version: 1.3.0\n",
      "Default GPU Device: /gpu:0\n"
     ]
    }
   ],
   "source": [
    "\"\"\"\n",
    "DON'T MODIFY ANYTHING IN THIS CELL\n",
    "\"\"\"\n",
    "from distutils.version import LooseVersion\n",
    "import warnings\n",
    "import tensorflow as tf\n",
    "from tensorflow.python.layers.core import Dense\n",
    "\n",
    "# Check TensorFlow Version\n",
    "assert LooseVersion(tf.__version__) >= LooseVersion('1.1'), 'Please use TensorFlow version 1.1 or newer'\n",
    "print('TensorFlow Version: {}'.format(tf.__version__))\n",
    "\n",
    "# Check for a GPU\n",
    "if not tf.test.gpu_device_name():\n",
    "    warnings.warn('No GPU found. Please use a GPU to train your neural network.')\n",
    "else:\n",
    "    print('Default GPU Device: {}'.format(tf.test.gpu_device_name()))"
   ]
  },
  {
   "cell_type": "markdown",
   "metadata": {},
   "source": [
    "## Build the Neural Network\n",
    "You'll build the components necessary to build a Sequence-to-Sequence model by implementing the following functions below:\n",
    "- `model_inputs`\n",
    "- `process_decoder_input`\n",
    "- `encoding_layer`\n",
    "- `decoding_layer_train`\n",
    "- `decoding_layer_infer`\n",
    "- `decoding_layer`\n",
    "- `seq2seq_model`\n",
    "\n",
    "### Input\n",
    "Implement the `model_inputs()` function to create TF Placeholders for the Neural Network. It should create the following placeholders:\n",
    "\n",
    "- Input text placeholder named \"input\" using the TF Placeholder name parameter with rank 2.\n",
    "- Targets placeholder with rank 2.\n",
    "- Learning rate placeholder with rank 0.\n",
    "- Keep probability placeholder named \"keep_prob\" using the TF Placeholder name parameter with rank 0.\n",
    "- Target sequence length placeholder named \"target_sequence_length\" with rank 1\n",
    "- Max target sequence length tensor named \"max_target_len\" getting its value from applying tf.reduce_max on the target_sequence_length placeholder. Rank 0.\n",
    "- Source sequence length placeholder named \"source_sequence_length\" with rank 1\n",
    "\n",
    "Return the placeholders in the following the tuple (input, targets, learning rate, keep probability, target sequence length, max target sequence length, source sequence length)"
   ]
  },
  {
   "cell_type": "code",
   "execution_count": 7,
   "metadata": {
    "collapsed": false
   },
   "outputs": [
    {
     "name": "stdout",
     "output_type": "stream",
     "text": [
      "Tests Passed\n"
     ]
    }
   ],
   "source": [
    "def model_inputs():\n",
    "    \"\"\"\n",
    "    Create TF Placeholders for input, targets, learning rate, and lengths of source and target sequences.\n",
    "    :return: Tuple (input, targets, learning rate, keep probability, target sequence length,\n",
    "    max target sequence length, source sequence length)\n",
    "    \"\"\"\n",
    "    inputs = tf.placeholder(tf.int32, [None, None], name='input')\n",
    "    targets = tf.placeholder(tf.int32, [None, None], name='targets')\n",
    "    keep_proba = tf.placeholder(tf.float32, shape=(), name='keep_prob')\n",
    "    learning_rate = tf.placeholder(tf.float32, shape=(), name='lr')\n",
    "    target_sequence_length = tf.placeholder(tf.int32, [None], name='target_sequence_length')\n",
    "    max_target_sequence_length = tf.reduce_max(target_sequence_length, name='max_target_sequence_length')\n",
    "    source_sequence_length = tf.placeholder(tf.int32, [None], name='source_sequence_length')\n",
    "    return inputs, targets, learning_rate, keep_proba, target_sequence_length,max_target_sequence_length, source_sequence_length\n",
    "\n",
    "\"\"\"\n",
    "DON'T MODIFY ANYTHING IN THIS CELL THAT IS BELOW THIS LINE\n",
    "\"\"\"\n",
    "tests.test_model_inputs(model_inputs)"
   ]
  },
  {
   "cell_type": "markdown",
   "metadata": {},
   "source": [
    "### Process Decoder Input\n",
    "Implement `process_decoder_input` by removing the last word id from each batch in `target_data` and concat the GO ID to the begining of each batch."
   ]
  },
  {
   "cell_type": "code",
   "execution_count": 8,
   "metadata": {
    "collapsed": false
   },
   "outputs": [
    {
     "name": "stdout",
     "output_type": "stream",
     "text": [
      "Tests Passed\n"
     ]
    }
   ],
   "source": [
    "def process_decoder_input(target_data, target_vocab_to_int, batch_size):\n",
    "    \"\"\"\n",
    "    Preprocess target data for encoding\n",
    "    :param target_data: Target Placehoder\n",
    "    :param target_vocab_to_int: Dictionary to go from the target words to an id\n",
    "    :param batch_size: Batch Size\n",
    "    :return: Preprocessed target data\n",
    "    \"\"\"\n",
    "    sliced_data = tf.strided_slice(target_data, [0,0], [batch_size, -1], [1,1])\n",
    "    decoder_input =  tf.concat([tf.fill([batch_size, 1], target_vocab_to_int['<GO>']), sliced_data], 1)\n",
    "    return decoder_input\n",
    "\n",
    "\"\"\"\n",
    "DON'T MODIFY ANYTHING IN THIS CELL THAT IS BELOW THIS LINE\n",
    "\"\"\"\n",
    "tests.test_process_encoding_input(process_decoder_input)"
   ]
  },
  {
   "cell_type": "markdown",
   "metadata": {},
   "source": [
    "### Encoding\n",
    "Implement `encoding_layer()` to create a Encoder RNN layer:\n",
    " * Embed the encoder input using [`tf.contrib.layers.embed_sequence`](https://www.tensorflow.org/api_docs/python/tf/contrib/layers/embed_sequence)\n",
    " * Construct a [stacked](https://github.com/tensorflow/tensorflow/blob/6947f65a374ebf29e74bb71e36fd82760056d82c/tensorflow/docs_src/tutorials/recurrent.md#stacking-multiple-lstms) [`tf.contrib.rnn.LSTMCell`](https://www.tensorflow.org/api_docs/python/tf/contrib/rnn/LSTMCell) wrapped in a [`tf.contrib.rnn.DropoutWrapper`](https://www.tensorflow.org/api_docs/python/tf/contrib/rnn/DropoutWrapper)\n",
    " * Pass cell and embedded input to [`tf.nn.dynamic_rnn()`](https://www.tensorflow.org/api_docs/python/tf/nn/dynamic_rnn)"
   ]
  },
  {
   "cell_type": "code",
   "execution_count": 9,
   "metadata": {
    "collapsed": false,
    "scrolled": false
   },
   "outputs": [
    {
     "name": "stdout",
     "output_type": "stream",
     "text": [
      "Tests Passed\n"
     ]
    }
   ],
   "source": [
    "from imp import reload\n",
    "reload(tests)\n",
    "\n",
    "def encoding_layer(rnn_inputs, rnn_size, num_layers, keep_prob, \n",
    "                   source_sequence_length, source_vocab_size, \n",
    "                   encoding_embedding_size):\n",
    "    \"\"\"\n",
    "    Create encoding layer\n",
    "    :param rnn_inputs: Inputs for the RNN\n",
    "    :param rnn_size: RNN Size\n",
    "    :param num_layers: Number of layers\n",
    "    :param keep_prob: Dropout keep probability\n",
    "    :param source_sequence_length: a list of the lengths of each sequence in the batch\n",
    "    :param source_vocab_size: vocabulary size of source data\n",
    "    :param encoding_embedding_size: embedding size of source data\n",
    "    :return: tuple (RNN output, RNN state)\n",
    "    \"\"\"\n",
    "    embeded_input = tf.contrib.layers.embed_sequence(rnn_inputs, source_vocab_size,encoding_embedding_size)\n",
    "    #build rnn\n",
    "    def base_cell(rnn_size):\n",
    "        base_unit = tf.contrib.rnn.LSTMCell(rnn_size,initializer=tf.random_uniform_initializer(-0.1, 0.1))\n",
    "        return tf.contrib.rnn.DropoutWrapper(base_unit, input_keep_prob=keep_prob)\n",
    "        \n",
    "    cell = tf.contrib.rnn.MultiRNNCell([base_cell(rnn_size) for i in range(num_layers)] )\n",
    "    rnn_output, final_state = tf.nn.dynamic_rnn(cell, embeded_input, sequence_length=source_sequence_length, dtype=tf.float32)\n",
    "    \n",
    "    return rnn_output, final_state\n",
    "\n",
    "\"\"\"\n",
    "DON'T MODIFY ANYTHING IN THIS CELL THAT IS BELOW THIS LINE\n",
    "\"\"\"\n",
    "tests.test_encoding_layer(encoding_layer)"
   ]
  },
  {
   "cell_type": "markdown",
   "metadata": {},
   "source": [
    "### Decoding - Training\n",
    "Create a training decoding layer:\n",
    "* Create a [`tf.contrib.seq2seq.TrainingHelper`](https://www.tensorflow.org/api_docs/python/tf/contrib/seq2seq/TrainingHelper) \n",
    "* Create a [`tf.contrib.seq2seq.BasicDecoder`](https://www.tensorflow.org/api_docs/python/tf/contrib/seq2seq/BasicDecoder)\n",
    "* Obtain the decoder outputs from [`tf.contrib.seq2seq.dynamic_decode`](https://www.tensorflow.org/api_docs/python/tf/contrib/seq2seq/dynamic_decode)"
   ]
  },
  {
   "cell_type": "code",
   "execution_count": 10,
   "metadata": {
    "collapsed": false
   },
   "outputs": [
    {
     "name": "stdout",
     "output_type": "stream",
     "text": [
      "Tests Passed\n"
     ]
    }
   ],
   "source": [
    "\n",
    "def decoding_layer_train(encoder_state, dec_cell, dec_embed_input, \n",
    "                         target_sequence_length, max_summary_length, \n",
    "                         output_layer, keep_prob):\n",
    "    \"\"\"\n",
    "    Create a decoding layer for training\n",
    "    :param encoder_state: Encoder State\n",
    "    :param dec_cell: Decoder RNN Cell\n",
    "    :param dec_embed_input: Decoder embedded input\n",
    "    :param target_sequence_length: The lengths of each sequence in the target batch\n",
    "    :param max_summary_length: The length of the longest sequence in the batch\n",
    "    :param output_layer: Function to apply the output layer\n",
    "    :param keep_prob: Dropout keep probability\n",
    "    :return: BasicDecoderOutput containing training logits and sample_id\n",
    "    \"\"\"\n",
    "#     with tf.variable_scope(\"decoding\"):\n",
    "    training_helper = tf.contrib.seq2seq.TrainingHelper(inputs=dec_embed_input, \n",
    "                                                        sequence_length=target_sequence_length, time_major=False)\n",
    "    training_decoder = tf.contrib.seq2seq.BasicDecoder(dec_cell, training_helper, encoder_state, output_layer)\n",
    "    training_decoder_output = tf.contrib.seq2seq.dynamic_decode(training_decoder, \n",
    "                                                                 impute_finished=True, \n",
    "                                                                 maximum_iterations=max_summary_length)[0]\n",
    "    \n",
    "    return training_decoder_output\n",
    "\n",
    "\n",
    "\n",
    "\"\"\"\n",
    "DON'T MODIFY ANYTHING IN THIS CELL THAT IS BELOW THIS LINE\n",
    "\"\"\"\n",
    "tests.test_decoding_layer_train(decoding_layer_train)"
   ]
  },
  {
   "cell_type": "markdown",
   "metadata": {},
   "source": [
    "### Decoding - Inference\n",
    "Create inference decoder:\n",
    "* Create a [`tf.contrib.seq2seq.GreedyEmbeddingHelper`](https://www.tensorflow.org/api_docs/python/tf/contrib/seq2seq/GreedyEmbeddingHelper)\n",
    "* Create a [`tf.contrib.seq2seq.BasicDecoder`](https://www.tensorflow.org/api_docs/python/tf/contrib/seq2seq/BasicDecoder)\n",
    "* Obtain the decoder outputs from [`tf.contrib.seq2seq.dynamic_decode`](https://www.tensorflow.org/api_docs/python/tf/contrib/seq2seq/dynamic_decode)"
   ]
  },
  {
   "cell_type": "code",
   "execution_count": 11,
   "metadata": {
    "collapsed": false,
    "scrolled": true
   },
   "outputs": [
    {
     "name": "stdout",
     "output_type": "stream",
     "text": [
      "Tests Passed\n"
     ]
    }
   ],
   "source": [
    "def decoding_layer_infer(encoder_state, dec_cell, dec_embeddings, start_of_sequence_id,\n",
    "                         end_of_sequence_id, max_target_sequence_length,\n",
    "                         vocab_size, output_layer, batch_size, keep_prob):\n",
    "    \"\"\"\n",
    "    Create a decoding layer for inference\n",
    "    :param encoder_state: Encoder state\n",
    "    :param dec_cell: Decoder RNN Cell\n",
    "    :param dec_embeddings: Decoder embeddings\n",
    "    :param start_of_sequence_id: GO ID\n",
    "    :param end_of_sequence_id: EOS Id\n",
    "    :param max_target_sequence_length: Maximum length of target sequences\n",
    "    :param vocab_size: Size of decoder/target vocabulary\n",
    "    :param decoding_scope: TenorFlow Variable Scope for decoding\n",
    "    :param output_layer: Function to apply the output layer\n",
    "    :param batch_size: Batch size\n",
    "    :param keep_prob: Dropout keep probability\n",
    "    :return: BasicDecoderOutput containing inference logits and sample_id\n",
    "    \"\"\"\n",
    "#     with tf.variable_scope(\"decoding\"):\n",
    "    start_tokens = tf.tile(tf.constant([start_of_sequence_id], dtype=tf.int32), [batch_size], name='start_tokens')\n",
    "    inference_helper =  tf.contrib.seq2seq.GreedyEmbeddingHelper(dec_embeddings, \n",
    "                                                                 start_tokens, end_of_sequence_id)\n",
    "    inference_decoder = tf.contrib.seq2seq.BasicDecoder(dec_cell, inference_helper, encoder_state, \n",
    "                                                        output_layer )\n",
    "\n",
    "    inference_decoder_output = tf.contrib.seq2seq.dynamic_decode(inference_decoder,\n",
    "                                                                 output_time_major=False,\n",
    "                                                        impute_finished=True,\n",
    "                                                        maximum_iterations=max_target_sequence_length)[0]\n",
    "                                                                                             \n",
    "        \n",
    "    return inference_decoder_output\n",
    "\n",
    "\n",
    "\n",
    "\"\"\"\n",
    "DON'T MODIFY ANYTHING IN THIS CELL THAT IS BELOW THIS LINE\n",
    "\"\"\"\n",
    "tests.test_decoding_layer_infer(decoding_layer_infer)"
   ]
  },
  {
   "cell_type": "markdown",
   "metadata": {},
   "source": [
    "### Build the Decoding Layer\n",
    "Implement `decoding_layer()` to create a Decoder RNN layer.\n",
    "\n",
    "* Embed the target sequences\n",
    "* Construct the decoder LSTM cell (just like you constructed the encoder cell above)\n",
    "* Create an output layer to map the outputs of the decoder to the elements of our vocabulary\n",
    "* Use the your `decoding_layer_train(encoder_state, dec_cell, dec_embed_input, target_sequence_length, max_target_sequence_length, output_layer, keep_prob)` function to get the training logits.\n",
    "* Use your `decoding_layer_infer(encoder_state, dec_cell, dec_embeddings, start_of_sequence_id, end_of_sequence_id, max_target_sequence_length, vocab_size, output_layer, batch_size, keep_prob)` function to get the inference logits.\n",
    "\n",
    "Note: You'll need to use [tf.variable_scope](https://www.tensorflow.org/api_docs/python/tf/variable_scope) to share variables between training and inference."
   ]
  },
  {
   "cell_type": "code",
   "execution_count": 12,
   "metadata": {
    "collapsed": false
   },
   "outputs": [
    {
     "name": "stdout",
     "output_type": "stream",
     "text": [
      "Tests Passed\n"
     ]
    }
   ],
   "source": [
    "def decoding_layer(dec_input, encoder_state,\n",
    "                   target_sequence_length, max_target_sequence_length,\n",
    "                   rnn_size,\n",
    "                   num_layers, target_vocab_to_int, target_vocab_size,\n",
    "                   batch_size, keep_prob, decoding_embedding_size):\n",
    "    \"\"\"\n",
    "    Create decoding layer\n",
    "    :param dec_input: Decoder input\n",
    "    :param encoder_state: Encoder state\n",
    "    :param target_sequence_length: The lengths of each sequence in the target batch\n",
    "    :param max_target_sequence_length: Maximum length of target sequences\n",
    "    :param rnn_size: RNN Size\n",
    "    :param num_layers: Number of layers\n",
    "    :param target_vocab_to_int: Dictionary to go from the target words to an id\n",
    "    :param target_vocab_size: Size of target vocabulary\n",
    "    :param batch_size: The size of the batch\n",
    "    :param keep_prob: Dropout keep probability\n",
    "    :param decoding_embedding_size: Decoding embedding size\n",
    "    :return: Tuple of (Training BasicDecoderOutput, Inference BasicDecoderOutput)\n",
    "    \"\"\"\n",
    "    def base_cell(rnn_size):\n",
    "        base_unit = tf.contrib.rnn.LSTMCell(rnn_size,initializer=tf.random_uniform_initializer(-0.1, 0.1))\n",
    "        return tf.contrib.rnn.DropoutWrapper(base_unit, input_keep_prob=keep_prob)\n",
    "    dec_embeddings = tf.Variable(tf.random_uniform([target_vocab_size, decoding_embedding_size]))\n",
    "    dec_embed_input = tf.nn.embedding_lookup(dec_embeddings, dec_input) \n",
    "    dec_cell = tf.contrib.rnn.MultiRNNCell([base_cell(rnn_size) for i in range(num_layers)])\n",
    "    output_layer = Dense(target_vocab_size, \n",
    "                                   kernel_initializer=tf.truncated_normal_initializer(mean=0.0,stddev=0.1))\n",
    "    with tf.variable_scope(\"decoding\"):\n",
    "        training_logits = decoding_layer_train(encoder_state, dec_cell, dec_embed_input, target_sequence_length, \n",
    "                                               max_target_sequence_length, output_layer, keep_prob)\n",
    "    with tf.variable_scope(\"decoding\", reuse=True):\n",
    "        inference_logits = decoding_layer_infer(encoder_state, dec_cell, dec_embeddings, \n",
    "                                                target_vocab_to_int['<GO>'], target_vocab_to_int['<EOS>'], \n",
    "                                                max_target_sequence_length, target_vocab_size, \n",
    "                                                output_layer, batch_size, keep_prob)\n",
    "    return training_logits, inference_logits\n",
    "\n",
    "\n",
    "\n",
    "\"\"\"\n",
    "DON'T MODIFY ANYTHING IN THIS CELL THAT IS BELOW THIS LINE\n",
    "\"\"\"\n",
    "tests.test_decoding_layer(decoding_layer)"
   ]
  },
  {
   "cell_type": "markdown",
   "metadata": {},
   "source": [
    "### Build the Neural Network\n",
    "Apply the functions you implemented above to:\n",
    "\n",
    "- Encode the input using your `encoding_layer(rnn_inputs, rnn_size, num_layers, keep_prob,  source_sequence_length, source_vocab_size, encoding_embedding_size)`.\n",
    "- Process target data using your `process_decoder_input(target_data, target_vocab_to_int, batch_size)` function.\n",
    "- Decode the encoded input using your `decoding_layer(dec_input, enc_state, target_sequence_length, max_target_sentence_length, rnn_size, num_layers, target_vocab_to_int, target_vocab_size, batch_size, keep_prob, dec_embedding_size)` function."
   ]
  },
  {
   "cell_type": "code",
   "execution_count": 13,
   "metadata": {
    "collapsed": false
   },
   "outputs": [
    {
     "name": "stdout",
     "output_type": "stream",
     "text": [
      "Tests Passed\n"
     ]
    }
   ],
   "source": [
    "def seq2seq_model(input_data, target_data, keep_prob, batch_size,\n",
    "                  source_sequence_length, target_sequence_length,\n",
    "                  max_target_sentence_length,\n",
    "                  source_vocab_size, target_vocab_size,\n",
    "                  enc_embedding_size, dec_embedding_size,\n",
    "                  rnn_size, num_layers, target_vocab_to_int):\n",
    "    \"\"\"\n",
    "    Build the Sequence-to-Sequence part of the neural network\n",
    "    :param input_data: Input placeholder\n",
    "    :param target_data: Target placeholder\n",
    "    :param keep_prob: Dropout keep probability placeholder\n",
    "    :param batch_size: Batch Size\n",
    "    :param source_sequence_length: Sequence Lengths of source sequences in the batch\n",
    "    :param target_sequence_length: Sequence Lengths of target sequences in the batch\n",
    "    :param source_vocab_size: Source vocabulary size\n",
    "    :param target_vocab_size: Target vocabulary size\n",
    "    :param enc_embedding_size: Decoder embedding size\n",
    "    :param dec_embedding_size: Encoder embedding size\n",
    "    :param rnn_size: RNN Size\n",
    "    :param num_layers: Number of layers\n",
    "    :param target_vocab_to_int: Dictionary to go from the target words to an id\n",
    "    :return: Tuple of (Training BasicDecoderOutput, Inference BasicDecoderOutput)\n",
    "    \"\"\"\n",
    "    enc_embeddings = tf.Variable(tf.random_uniform([source_vocab_size, enc_embedding_size]))\n",
    "    enc_embed_input = tf.nn.embedding_lookup(enc_embeddings, input_data)\n",
    "    \n",
    "    dec_embeddings = tf.Variable(tf.random_uniform([target_vocab_size, dec_embedding_size]))\n",
    "    dec_embed_input = tf.nn.embedding_lookup(dec_embeddings, target_data)\n",
    "    \n",
    "    _, enc_state = encoding_layer(input_data, rnn_size, num_layers, keep_prob,  \n",
    "                               source_sequence_length, source_vocab_size, enc_embedding_size)\n",
    "    dec_input = process_decoder_input(target_data, target_vocab_to_int, batch_size)\n",
    "    decoder_train_output, decode_infer_output = decoding_layer(dec_input, enc_state, target_sequence_length, max_target_sentence_length, rnn_size, \n",
    "                   num_layers, target_vocab_to_int, target_vocab_size, \n",
    "                   batch_size, keep_prob, dec_embedding_size)\n",
    "\n",
    "    return decoder_train_output, decode_infer_output\n",
    "\n",
    "\n",
    "\"\"\"\n",
    "DON'T MODIFY ANYTHING IN THIS CELL THAT IS BELOW THIS LINE\n",
    "\"\"\"\n",
    "tests.test_seq2seq_model(seq2seq_model)"
   ]
  },
  {
   "cell_type": "markdown",
   "metadata": {},
   "source": [
    "## Neural Network Training\n",
    "### Hyperparameters\n",
    "Tune the following parameters:\n",
    "\n",
    "- Set `epochs` to the number of epochs.\n",
    "- Set `batch_size` to the batch size.\n",
    "- Set `rnn_size` to the size of the RNNs.\n",
    "- Set `num_layers` to the number of layers.\n",
    "- Set `encoding_embedding_size` to the size of the embedding for the encoder.\n",
    "- Set `decoding_embedding_size` to the size of the embedding for the decoder.\n",
    "- Set `learning_rate` to the learning rate.\n",
    "- Set `keep_probability` to the Dropout keep probability\n",
    "- Set `display_step` to state how many steps between each debug output statement"
   ]
  },
  {
   "cell_type": "code",
   "execution_count": 21,
   "metadata": {
    "collapsed": true
   },
   "outputs": [],
   "source": [
    "# Number of Epochs\n",
    "epochs = 40\n",
    "# Batch Size\n",
    "batch_size = 128\n",
    "# RNN Size\n",
    "rnn_size = 50\n",
    "# Number of Layers\n",
    "num_layers = 2\n",
    "# Embedding Size\n",
    "encoding_embedding_size = 50\n",
    "decoding_embedding_size = 50\n",
    "# Learning Rate\n",
    "learning_rate = 0.001\n",
    "# Dropout Keep Probability\n",
    "keep_probability = 0.8\n",
    "display_step = 200"
   ]
  },
  {
   "cell_type": "markdown",
   "metadata": {},
   "source": [
    "### Build the Graph\n",
    "Build the graph using the neural network you implemented."
   ]
  },
  {
   "cell_type": "code",
   "execution_count": 15,
   "metadata": {
    "collapsed": true
   },
   "outputs": [],
   "source": [
    "\"\"\"\n",
    "DON'T MODIFY ANYTHING IN THIS CELL\n",
    "\"\"\"\n",
    "save_path = 'checkpoints/dev'\n",
    "(source_int_text, target_int_text), (source_vocab_to_int, target_vocab_to_int), _ = helper.load_preprocess()\n",
    "max_target_sentence_length = max([len(sentence) for sentence in source_int_text])\n",
    "\n",
    "train_graph = tf.Graph()\n",
    "with train_graph.as_default():\n",
    "    input_data, targets, lr, keep_prob, target_sequence_length, max_target_sequence_length, source_sequence_length = model_inputs()\n",
    "\n",
    "    #sequence_length = tf.placeholder_with_default(max_target_sentence_length, None, name='sequence_length')\n",
    "    input_shape = tf.shape(input_data)\n",
    "\n",
    "    train_logits, inference_logits = seq2seq_model(tf.reverse(input_data, [-1]),\n",
    "                                                   targets,\n",
    "                                                   keep_prob,\n",
    "                                                   batch_size,\n",
    "                                                   source_sequence_length,\n",
    "                                                   target_sequence_length,\n",
    "                                                   max_target_sequence_length,\n",
    "                                                   len(source_vocab_to_int),\n",
    "                                                   len(target_vocab_to_int),\n",
    "                                                   encoding_embedding_size,\n",
    "                                                   decoding_embedding_size,\n",
    "                                                   rnn_size,\n",
    "                                                   num_layers,\n",
    "                                                   target_vocab_to_int)\n",
    "\n",
    "\n",
    "    training_logits = tf.identity(train_logits.rnn_output, name='logits')\n",
    "    inference_logits = tf.identity(inference_logits.sample_id, name='predictions')\n",
    "\n",
    "    masks = tf.sequence_mask(target_sequence_length, max_target_sequence_length, dtype=tf.float32, name='masks')\n",
    "\n",
    "    with tf.name_scope(\"optimization\"):\n",
    "        # Loss function\n",
    "        cost = tf.contrib.seq2seq.sequence_loss(\n",
    "            training_logits,\n",
    "            targets,\n",
    "            masks)\n",
    "\n",
    "        # Optimizer\n",
    "        optimizer = tf.train.AdamOptimizer(lr)\n",
    "\n",
    "        # Gradient Clipping\n",
    "        gradients = optimizer.compute_gradients(cost)\n",
    "        capped_gradients = [(tf.clip_by_value(grad, -1., 1.), var) for grad, var in gradients if grad is not None]\n",
    "        train_op = optimizer.apply_gradients(capped_gradients)\n"
   ]
  },
  {
   "cell_type": "markdown",
   "metadata": {},
   "source": [
    "Batch and pad the source and target sequences"
   ]
  },
  {
   "cell_type": "code",
   "execution_count": 16,
   "metadata": {
    "collapsed": true
   },
   "outputs": [],
   "source": [
    "\"\"\"\n",
    "DON'T MODIFY ANYTHING IN THIS CELL\n",
    "\"\"\"\n",
    "def pad_sentence_batch(sentence_batch, pad_int):\n",
    "    \"\"\"Pad sentences with <PAD> so that each sentence of a batch has the same length\"\"\"\n",
    "    max_sentence = max([len(sentence) for sentence in sentence_batch])\n",
    "    return [sentence + [pad_int] * (max_sentence - len(sentence)) for sentence in sentence_batch]\n",
    "\n",
    "\n",
    "def get_batches(sources, targets, batch_size, source_pad_int, target_pad_int):\n",
    "    \"\"\"Batch targets, sources, and the lengths of their sentences together\"\"\"\n",
    "    for batch_i in range(0, len(sources)//batch_size):\n",
    "        start_i = batch_i * batch_size\n",
    "\n",
    "        # Slice the right amount for the batch\n",
    "        sources_batch = sources[start_i:start_i + batch_size]\n",
    "        targets_batch = targets[start_i:start_i + batch_size]\n",
    "\n",
    "        # Pad\n",
    "        pad_sources_batch = np.array(pad_sentence_batch(sources_batch, source_pad_int))\n",
    "        pad_targets_batch = np.array(pad_sentence_batch(targets_batch, target_pad_int))\n",
    "\n",
    "        # Need the lengths for the _lengths parameters\n",
    "        pad_targets_lengths = []\n",
    "        for target in pad_targets_batch:\n",
    "            pad_targets_lengths.append(len(target))\n",
    "\n",
    "        pad_source_lengths = []\n",
    "        for source in pad_sources_batch:\n",
    "            pad_source_lengths.append(len(source))\n",
    "\n",
    "        yield pad_sources_batch, pad_targets_batch, pad_source_lengths, pad_targets_lengths\n"
   ]
  },
  {
   "cell_type": "markdown",
   "metadata": {},
   "source": [
    "### Train\n",
    "Train the neural network on the preprocessed data. If you have a hard time getting a good loss, check the forms to see if anyone is having the same problem."
   ]
  },
  {
   "cell_type": "code",
   "execution_count": 22,
   "metadata": {
    "collapsed": false,
    "scrolled": true
   },
   "outputs": [
    {
     "name": "stdout",
     "output_type": "stream",
     "text": [
      "Epoch   0 Batch  200/1077 - Train Accuracy: 0.3375, Validation Accuracy: 0.3878, Loss: 2.8781\n",
      "Epoch   0 Batch  400/1077 - Train Accuracy: 0.4109, Validation Accuracy: 0.4663, Loss: 2.4642\n",
      "Epoch   0 Batch  600/1077 - Train Accuracy: 0.4892, Validation Accuracy: 0.5064, Loss: 1.9212\n",
      "Epoch   0 Batch  800/1077 - Train Accuracy: 0.4473, Validation Accuracy: 0.4972, Loss: 1.5882\n",
      "Epoch   0 Batch 1000/1077 - Train Accuracy: 0.3787, Validation Accuracy: 0.3597, Loss: 1.1434\n",
      "Epoch   1 Batch  200/1077 - Train Accuracy: 0.4043, Validation Accuracy: 0.4350, Loss: 1.0162\n",
      "Epoch   1 Batch  400/1077 - Train Accuracy: 0.5320, Validation Accuracy: 0.5746, Loss: 0.9091\n",
      "Epoch   1 Batch  600/1077 - Train Accuracy: 0.5696, Validation Accuracy: 0.5863, Loss: 0.7884\n",
      "Epoch   1 Batch  800/1077 - Train Accuracy: 0.5500, Validation Accuracy: 0.6016, Loss: 0.7819\n",
      "Epoch   1 Batch 1000/1077 - Train Accuracy: 0.6458, Validation Accuracy: 0.6207, Loss: 0.6751\n",
      "Epoch   2 Batch  200/1077 - Train Accuracy: 0.5766, Validation Accuracy: 0.6282, Loss: 0.6806\n",
      "Epoch   2 Batch  400/1077 - Train Accuracy: 0.6254, Validation Accuracy: 0.6509, Loss: 0.6342\n",
      "Epoch   2 Batch  600/1077 - Train Accuracy: 0.6403, Validation Accuracy: 0.6261, Loss: 0.5566\n",
      "Epoch   2 Batch  800/1077 - Train Accuracy: 0.6328, Validation Accuracy: 0.6420, Loss: 0.5570\n",
      "Epoch   2 Batch 1000/1077 - Train Accuracy: 0.6975, Validation Accuracy: 0.6708, Loss: 0.4958\n",
      "Epoch   3 Batch  200/1077 - Train Accuracy: 0.6648, Validation Accuracy: 0.6708, Loss: 0.5096\n",
      "Epoch   3 Batch  400/1077 - Train Accuracy: 0.6832, Validation Accuracy: 0.6676, Loss: 0.4785\n",
      "Epoch   3 Batch  600/1077 - Train Accuracy: 0.7057, Validation Accuracy: 0.6758, Loss: 0.4240\n",
      "Epoch   3 Batch  800/1077 - Train Accuracy: 0.6969, Validation Accuracy: 0.6744, Loss: 0.4308\n",
      "Epoch   3 Batch 1000/1077 - Train Accuracy: 0.7563, Validation Accuracy: 0.6900, Loss: 0.3897\n",
      "Epoch   4 Batch  200/1077 - Train Accuracy: 0.7465, Validation Accuracy: 0.7216, Loss: 0.3977\n",
      "Epoch   4 Batch  400/1077 - Train Accuracy: 0.7578, Validation Accuracy: 0.7425, Loss: 0.3897\n",
      "Epoch   4 Batch  600/1077 - Train Accuracy: 0.7377, Validation Accuracy: 0.7372, Loss: 0.3496\n",
      "Epoch   4 Batch  800/1077 - Train Accuracy: 0.7602, Validation Accuracy: 0.7401, Loss: 0.3469\n",
      "Epoch   4 Batch 1000/1077 - Train Accuracy: 0.7786, Validation Accuracy: 0.7539, Loss: 0.3131\n",
      "Epoch   5 Batch  200/1077 - Train Accuracy: 0.7660, Validation Accuracy: 0.7795, Loss: 0.3264\n",
      "Epoch   5 Batch  400/1077 - Train Accuracy: 0.7777, Validation Accuracy: 0.7855, Loss: 0.3237\n",
      "Epoch   5 Batch  600/1077 - Train Accuracy: 0.8073, Validation Accuracy: 0.7884, Loss: 0.2758\n",
      "Epoch   5 Batch  800/1077 - Train Accuracy: 0.8012, Validation Accuracy: 0.7869, Loss: 0.2830\n",
      "Epoch   5 Batch 1000/1077 - Train Accuracy: 0.7939, Validation Accuracy: 0.7866, Loss: 0.2574\n",
      "Epoch   6 Batch  200/1077 - Train Accuracy: 0.8051, Validation Accuracy: 0.7947, Loss: 0.2648\n",
      "Epoch   6 Batch  400/1077 - Train Accuracy: 0.8184, Validation Accuracy: 0.8018, Loss: 0.2638\n",
      "Epoch   6 Batch  600/1077 - Train Accuracy: 0.8456, Validation Accuracy: 0.8008, Loss: 0.2236\n",
      "Epoch   6 Batch  800/1077 - Train Accuracy: 0.8223, Validation Accuracy: 0.8178, Loss: 0.2279\n",
      "Epoch   6 Batch 1000/1077 - Train Accuracy: 0.8423, Validation Accuracy: 0.8324, Loss: 0.2035\n",
      "Epoch   7 Batch  200/1077 - Train Accuracy: 0.8262, Validation Accuracy: 0.8356, Loss: 0.2182\n",
      "Epoch   7 Batch  400/1077 - Train Accuracy: 0.8484, Validation Accuracy: 0.8324, Loss: 0.2089\n",
      "Epoch   7 Batch  600/1077 - Train Accuracy: 0.8817, Validation Accuracy: 0.8285, Loss: 0.1852\n",
      "Epoch   7 Batch  800/1077 - Train Accuracy: 0.8645, Validation Accuracy: 0.8377, Loss: 0.1749\n",
      "Epoch   7 Batch 1000/1077 - Train Accuracy: 0.8467, Validation Accuracy: 0.8448, Loss: 0.1610\n",
      "Epoch   8 Batch  200/1077 - Train Accuracy: 0.8422, Validation Accuracy: 0.8466, Loss: 0.1710\n",
      "Epoch   8 Batch  400/1077 - Train Accuracy: 0.8809, Validation Accuracy: 0.8679, Loss: 0.1678\n",
      "Epoch   8 Batch  600/1077 - Train Accuracy: 0.9014, Validation Accuracy: 0.8643, Loss: 0.1456\n",
      "Epoch   8 Batch  800/1077 - Train Accuracy: 0.8824, Validation Accuracy: 0.8746, Loss: 0.1514\n",
      "Epoch   8 Batch 1000/1077 - Train Accuracy: 0.8568, Validation Accuracy: 0.8739, Loss: 0.1302\n",
      "Epoch   9 Batch  200/1077 - Train Accuracy: 0.8598, Validation Accuracy: 0.8810, Loss: 0.1473\n",
      "Epoch   9 Batch  400/1077 - Train Accuracy: 0.8766, Validation Accuracy: 0.8782, Loss: 0.1422\n",
      "Epoch   9 Batch  600/1077 - Train Accuracy: 0.8969, Validation Accuracy: 0.8775, Loss: 0.1351\n",
      "Epoch   9 Batch  800/1077 - Train Accuracy: 0.9008, Validation Accuracy: 0.8796, Loss: 0.1179\n",
      "Epoch   9 Batch 1000/1077 - Train Accuracy: 0.8635, Validation Accuracy: 0.8750, Loss: 0.1194\n",
      "Epoch  10 Batch  200/1077 - Train Accuracy: 0.8754, Validation Accuracy: 0.8849, Loss: 0.1267\n",
      "Epoch  10 Batch  400/1077 - Train Accuracy: 0.8953, Validation Accuracy: 0.8828, Loss: 0.1224\n",
      "Epoch  10 Batch  600/1077 - Train Accuracy: 0.9118, Validation Accuracy: 0.8910, Loss: 0.1112\n",
      "Epoch  10 Batch  800/1077 - Train Accuracy: 0.9141, Validation Accuracy: 0.8949, Loss: 0.1089\n",
      "Epoch  10 Batch 1000/1077 - Train Accuracy: 0.8843, Validation Accuracy: 0.8775, Loss: 0.0997\n",
      "Epoch  11 Batch  200/1077 - Train Accuracy: 0.8930, Validation Accuracy: 0.8878, Loss: 0.1071\n",
      "Epoch  11 Batch  400/1077 - Train Accuracy: 0.9277, Validation Accuracy: 0.9070, Loss: 0.1024\n",
      "Epoch  11 Batch  600/1077 - Train Accuracy: 0.9111, Validation Accuracy: 0.8860, Loss: 0.0869\n",
      "Epoch  11 Batch  800/1077 - Train Accuracy: 0.9285, Validation Accuracy: 0.9048, Loss: 0.0916\n",
      "Epoch  11 Batch 1000/1077 - Train Accuracy: 0.8981, Validation Accuracy: 0.8896, Loss: 0.0897\n",
      "Epoch  12 Batch  200/1077 - Train Accuracy: 0.9059, Validation Accuracy: 0.9023, Loss: 0.0884\n",
      "Epoch  12 Batch  400/1077 - Train Accuracy: 0.9156, Validation Accuracy: 0.9031, Loss: 0.0872\n",
      "Epoch  12 Batch  600/1077 - Train Accuracy: 0.9126, Validation Accuracy: 0.8938, Loss: 0.0800\n",
      "Epoch  12 Batch  800/1077 - Train Accuracy: 0.9418, Validation Accuracy: 0.9023, Loss: 0.0766\n",
      "Epoch  12 Batch 1000/1077 - Train Accuracy: 0.8947, Validation Accuracy: 0.8942, Loss: 0.0819\n",
      "Epoch  13 Batch  200/1077 - Train Accuracy: 0.9117, Validation Accuracy: 0.9055, Loss: 0.0861\n",
      "Epoch  13 Batch  400/1077 - Train Accuracy: 0.9180, Validation Accuracy: 0.9066, Loss: 0.0833\n",
      "Epoch  13 Batch  600/1077 - Train Accuracy: 0.9286, Validation Accuracy: 0.9169, Loss: 0.0712\n",
      "Epoch  13 Batch  800/1077 - Train Accuracy: 0.9344, Validation Accuracy: 0.9134, Loss: 0.0752\n",
      "Epoch  13 Batch 1000/1077 - Train Accuracy: 0.9074, Validation Accuracy: 0.9091, Loss: 0.0768\n",
      "Epoch  14 Batch  200/1077 - Train Accuracy: 0.9176, Validation Accuracy: 0.9098, Loss: 0.0668\n",
      "Epoch  14 Batch  400/1077 - Train Accuracy: 0.9117, Validation Accuracy: 0.9112, Loss: 0.0765\n",
      "Epoch  14 Batch  600/1077 - Train Accuracy: 0.9356, Validation Accuracy: 0.9190, Loss: 0.0704\n",
      "Epoch  14 Batch  800/1077 - Train Accuracy: 0.9391, Validation Accuracy: 0.9187, Loss: 0.0658\n",
      "Epoch  14 Batch 1000/1077 - Train Accuracy: 0.8936, Validation Accuracy: 0.9116, Loss: 0.0706\n",
      "Epoch  15 Batch  200/1077 - Train Accuracy: 0.9375, Validation Accuracy: 0.9123, Loss: 0.0674\n",
      "Epoch  15 Batch  400/1077 - Train Accuracy: 0.9059, Validation Accuracy: 0.9116, Loss: 0.0762\n",
      "Epoch  15 Batch  600/1077 - Train Accuracy: 0.9535, Validation Accuracy: 0.9176, Loss: 0.0585\n",
      "Epoch  15 Batch  800/1077 - Train Accuracy: 0.9512, Validation Accuracy: 0.9123, Loss: 0.0578\n",
      "Epoch  15 Batch 1000/1077 - Train Accuracy: 0.9074, Validation Accuracy: 0.9098, Loss: 0.0692\n",
      "Epoch  16 Batch  200/1077 - Train Accuracy: 0.9461, Validation Accuracy: 0.8991, Loss: 0.0616\n",
      "Epoch  16 Batch  400/1077 - Train Accuracy: 0.9055, Validation Accuracy: 0.9080, Loss: 0.0657\n",
      "Epoch  16 Batch  600/1077 - Train Accuracy: 0.9453, Validation Accuracy: 0.9329, Loss: 0.0627\n",
      "Epoch  16 Batch  800/1077 - Train Accuracy: 0.9512, Validation Accuracy: 0.9197, Loss: 0.0534\n",
      "Epoch  16 Batch 1000/1077 - Train Accuracy: 0.8973, Validation Accuracy: 0.9134, Loss: 0.0657\n",
      "Epoch  17 Batch  200/1077 - Train Accuracy: 0.9422, Validation Accuracy: 0.9272, Loss: 0.0639\n",
      "Epoch  17 Batch  400/1077 - Train Accuracy: 0.9055, Validation Accuracy: 0.9322, Loss: 0.0680\n",
      "Epoch  17 Batch  600/1077 - Train Accuracy: 0.9580, Validation Accuracy: 0.9304, Loss: 0.0614\n",
      "Epoch  17 Batch  800/1077 - Train Accuracy: 0.9602, Validation Accuracy: 0.9286, Loss: 0.0452\n",
      "Epoch  17 Batch 1000/1077 - Train Accuracy: 0.9126, Validation Accuracy: 0.9265, Loss: 0.0566\n",
      "Epoch  18 Batch  200/1077 - Train Accuracy: 0.9457, Validation Accuracy: 0.9283, Loss: 0.0494\n",
      "Epoch  18 Batch  400/1077 - Train Accuracy: 0.9270, Validation Accuracy: 0.9109, Loss: 0.0572\n",
      "Epoch  18 Batch  600/1077 - Train Accuracy: 0.9468, Validation Accuracy: 0.9315, Loss: 0.0529\n",
      "Epoch  18 Batch  800/1077 - Train Accuracy: 0.9555, Validation Accuracy: 0.9332, Loss: 0.0457\n",
      "Epoch  18 Batch 1000/1077 - Train Accuracy: 0.9036, Validation Accuracy: 0.9411, Loss: 0.0618\n",
      "Epoch  19 Batch  200/1077 - Train Accuracy: 0.9418, Validation Accuracy: 0.9379, Loss: 0.0529\n",
      "Epoch  19 Batch  400/1077 - Train Accuracy: 0.9246, Validation Accuracy: 0.9304, Loss: 0.0519\n",
      "Epoch  19 Batch  600/1077 - Train Accuracy: 0.9528, Validation Accuracy: 0.9506, Loss: 0.0486\n",
      "Epoch  19 Batch  800/1077 - Train Accuracy: 0.9508, Validation Accuracy: 0.9350, Loss: 0.0436\n",
      "Epoch  19 Batch 1000/1077 - Train Accuracy: 0.9185, Validation Accuracy: 0.9261, Loss: 0.0587\n",
      "Epoch  20 Batch  200/1077 - Train Accuracy: 0.9449, Validation Accuracy: 0.9318, Loss: 0.0458\n",
      "Epoch  20 Batch  400/1077 - Train Accuracy: 0.9305, Validation Accuracy: 0.9297, Loss: 0.0557\n",
      "Epoch  20 Batch  600/1077 - Train Accuracy: 0.9427, Validation Accuracy: 0.9542, Loss: 0.0504\n",
      "Epoch  20 Batch  800/1077 - Train Accuracy: 0.9586, Validation Accuracy: 0.9283, Loss: 0.0372\n",
      "Epoch  20 Batch 1000/1077 - Train Accuracy: 0.9103, Validation Accuracy: 0.9446, Loss: 0.0523\n",
      "Epoch  21 Batch  200/1077 - Train Accuracy: 0.9449, Validation Accuracy: 0.9411, Loss: 0.0447\n",
      "Epoch  21 Batch  400/1077 - Train Accuracy: 0.9301, Validation Accuracy: 0.9297, Loss: 0.0556\n",
      "Epoch  21 Batch  600/1077 - Train Accuracy: 0.9542, Validation Accuracy: 0.9364, Loss: 0.0466\n",
      "Epoch  21 Batch  800/1077 - Train Accuracy: 0.9566, Validation Accuracy: 0.9428, Loss: 0.0398\n",
      "Epoch  21 Batch 1000/1077 - Train Accuracy: 0.9226, Validation Accuracy: 0.9421, Loss: 0.0460\n",
      "Epoch  22 Batch  200/1077 - Train Accuracy: 0.9547, Validation Accuracy: 0.9545, Loss: 0.0417\n",
      "Epoch  22 Batch  400/1077 - Train Accuracy: 0.9316, Validation Accuracy: 0.9322, Loss: 0.0495\n",
      "Epoch  22 Batch  600/1077 - Train Accuracy: 0.9568, Validation Accuracy: 0.9467, Loss: 0.0435\n",
      "Epoch  22 Batch  800/1077 - Train Accuracy: 0.9672, Validation Accuracy: 0.9521, Loss: 0.0445\n",
      "Epoch  22 Batch 1000/1077 - Train Accuracy: 0.9156, Validation Accuracy: 0.9510, Loss: 0.0471\n",
      "Epoch  23 Batch  200/1077 - Train Accuracy: 0.9625, Validation Accuracy: 0.9428, Loss: 0.0406\n",
      "Epoch  23 Batch  400/1077 - Train Accuracy: 0.9477, Validation Accuracy: 0.9489, Loss: 0.0456\n",
      "Epoch  23 Batch  600/1077 - Train Accuracy: 0.9580, Validation Accuracy: 0.9471, Loss: 0.0433\n",
      "Epoch  23 Batch  800/1077 - Train Accuracy: 0.9652, Validation Accuracy: 0.9382, Loss: 0.0364\n",
      "Epoch  23 Batch 1000/1077 - Train Accuracy: 0.9263, Validation Accuracy: 0.9570, Loss: 0.0440\n",
      "Epoch  24 Batch  200/1077 - Train Accuracy: 0.9664, Validation Accuracy: 0.9528, Loss: 0.0370\n",
      "Epoch  24 Batch  400/1077 - Train Accuracy: 0.9437, Validation Accuracy: 0.9485, Loss: 0.0495\n",
      "Epoch  24 Batch  600/1077 - Train Accuracy: 0.9513, Validation Accuracy: 0.9556, Loss: 0.0432\n",
      "Epoch  24 Batch  800/1077 - Train Accuracy: 0.9566, Validation Accuracy: 0.9538, Loss: 0.0406\n",
      "Epoch  24 Batch 1000/1077 - Train Accuracy: 0.9260, Validation Accuracy: 0.9489, Loss: 0.0429\n",
      "Epoch  25 Batch  200/1077 - Train Accuracy: 0.9535, Validation Accuracy: 0.9485, Loss: 0.0390\n",
      "Epoch  25 Batch  400/1077 - Train Accuracy: 0.9457, Validation Accuracy: 0.9535, Loss: 0.0498\n",
      "Epoch  25 Batch  600/1077 - Train Accuracy: 0.9572, Validation Accuracy: 0.9471, Loss: 0.0436\n",
      "Epoch  25 Batch  800/1077 - Train Accuracy: 0.9609, Validation Accuracy: 0.9482, Loss: 0.0326\n",
      "Epoch  25 Batch 1000/1077 - Train Accuracy: 0.9200, Validation Accuracy: 0.9489, Loss: 0.0403\n",
      "Epoch  26 Batch  200/1077 - Train Accuracy: 0.9602, Validation Accuracy: 0.9506, Loss: 0.0367\n",
      "Epoch  26 Batch  400/1077 - Train Accuracy: 0.9414, Validation Accuracy: 0.9613, Loss: 0.0470\n",
      "Epoch  26 Batch  600/1077 - Train Accuracy: 0.9665, Validation Accuracy: 0.9570, Loss: 0.0384\n",
      "Epoch  26 Batch  800/1077 - Train Accuracy: 0.9543, Validation Accuracy: 0.9609, Loss: 0.0405\n",
      "Epoch  26 Batch 1000/1077 - Train Accuracy: 0.9129, Validation Accuracy: 0.9592, Loss: 0.0372\n",
      "Epoch  27 Batch  200/1077 - Train Accuracy: 0.9680, Validation Accuracy: 0.9556, Loss: 0.0351\n",
      "Epoch  27 Batch  400/1077 - Train Accuracy: 0.9461, Validation Accuracy: 0.9624, Loss: 0.0392\n",
      "Epoch  27 Batch  600/1077 - Train Accuracy: 0.9594, Validation Accuracy: 0.9602, Loss: 0.0354\n",
      "Epoch  27 Batch  800/1077 - Train Accuracy: 0.9672, Validation Accuracy: 0.9485, Loss: 0.0298\n",
      "Epoch  27 Batch 1000/1077 - Train Accuracy: 0.9401, Validation Accuracy: 0.9553, Loss: 0.0393\n",
      "Epoch  28 Batch  200/1077 - Train Accuracy: 0.9688, Validation Accuracy: 0.9656, Loss: 0.0312\n",
      "Epoch  28 Batch  400/1077 - Train Accuracy: 0.9523, Validation Accuracy: 0.9439, Loss: 0.0392\n",
      "Epoch  28 Batch  600/1077 - Train Accuracy: 0.9717, Validation Accuracy: 0.9418, Loss: 0.0358\n",
      "Epoch  28 Batch  800/1077 - Train Accuracy: 0.9559, Validation Accuracy: 0.9560, Loss: 0.0307\n",
      "Epoch  28 Batch 1000/1077 - Train Accuracy: 0.9394, Validation Accuracy: 0.9656, Loss: 0.0373\n",
      "Epoch  29 Batch  200/1077 - Train Accuracy: 0.9715, Validation Accuracy: 0.9602, Loss: 0.0369\n",
      "Epoch  29 Batch  400/1077 - Train Accuracy: 0.9652, Validation Accuracy: 0.9666, Loss: 0.0424\n",
      "Epoch  29 Batch  600/1077 - Train Accuracy: 0.9676, Validation Accuracy: 0.9474, Loss: 0.0356\n",
      "Epoch  29 Batch  800/1077 - Train Accuracy: 0.9633, Validation Accuracy: 0.9709, Loss: 0.0320\n",
      "Epoch  29 Batch 1000/1077 - Train Accuracy: 0.9394, Validation Accuracy: 0.9602, Loss: 0.0400\n",
      "Epoch  30 Batch  200/1077 - Train Accuracy: 0.9723, Validation Accuracy: 0.9638, Loss: 0.0344\n",
      "Epoch  30 Batch  400/1077 - Train Accuracy: 0.9574, Validation Accuracy: 0.9606, Loss: 0.0311\n",
      "Epoch  30 Batch  600/1077 - Train Accuracy: 0.9691, Validation Accuracy: 0.9517, Loss: 0.0386\n",
      "Epoch  30 Batch  800/1077 - Train Accuracy: 0.9516, Validation Accuracy: 0.9684, Loss: 0.0305\n",
      "Epoch  30 Batch 1000/1077 - Train Accuracy: 0.9315, Validation Accuracy: 0.9602, Loss: 0.0371\n",
      "Epoch  31 Batch  200/1077 - Train Accuracy: 0.9715, Validation Accuracy: 0.9634, Loss: 0.0261\n",
      "Epoch  31 Batch  400/1077 - Train Accuracy: 0.9578, Validation Accuracy: 0.9627, Loss: 0.0410\n",
      "Epoch  31 Batch  600/1077 - Train Accuracy: 0.9695, Validation Accuracy: 0.9553, Loss: 0.0332\n",
      "Epoch  31 Batch  800/1077 - Train Accuracy: 0.9656, Validation Accuracy: 0.9691, Loss: 0.0287\n",
      "Epoch  31 Batch 1000/1077 - Train Accuracy: 0.9252, Validation Accuracy: 0.9670, Loss: 0.0375\n",
      "Epoch  32 Batch  200/1077 - Train Accuracy: 0.9723, Validation Accuracy: 0.9616, Loss: 0.0288\n",
      "Epoch  32 Batch  400/1077 - Train Accuracy: 0.9563, Validation Accuracy: 0.9627, Loss: 0.0386\n",
      "Epoch  32 Batch  600/1077 - Train Accuracy: 0.9665, Validation Accuracy: 0.9588, Loss: 0.0254\n",
      "Epoch  32 Batch  800/1077 - Train Accuracy: 0.9672, Validation Accuracy: 0.9563, Loss: 0.0296\n",
      "Epoch  32 Batch 1000/1077 - Train Accuracy: 0.9342, Validation Accuracy: 0.9727, Loss: 0.0331\n",
      "Epoch  33 Batch  200/1077 - Train Accuracy: 0.9625, Validation Accuracy: 0.9577, Loss: 0.0294\n",
      "Epoch  33 Batch  400/1077 - Train Accuracy: 0.9621, Validation Accuracy: 0.9680, Loss: 0.0405\n",
      "Epoch  33 Batch  600/1077 - Train Accuracy: 0.9691, Validation Accuracy: 0.9656, Loss: 0.0360\n",
      "Epoch  33 Batch  800/1077 - Train Accuracy: 0.9703, Validation Accuracy: 0.9691, Loss: 0.0283\n",
      "Epoch  33 Batch 1000/1077 - Train Accuracy: 0.9461, Validation Accuracy: 0.9670, Loss: 0.0300\n",
      "Epoch  34 Batch  200/1077 - Train Accuracy: 0.9695, Validation Accuracy: 0.9609, Loss: 0.0266\n",
      "Epoch  34 Batch  400/1077 - Train Accuracy: 0.9680, Validation Accuracy: 0.9712, Loss: 0.0339\n",
      "Epoch  34 Batch  600/1077 - Train Accuracy: 0.9699, Validation Accuracy: 0.9695, Loss: 0.0291\n",
      "Epoch  34 Batch  800/1077 - Train Accuracy: 0.9777, Validation Accuracy: 0.9645, Loss: 0.0229\n",
      "Epoch  34 Batch 1000/1077 - Train Accuracy: 0.9464, Validation Accuracy: 0.9727, Loss: 0.0310\n",
      "Epoch  35 Batch  200/1077 - Train Accuracy: 0.9812, Validation Accuracy: 0.9620, Loss: 0.0281\n",
      "Epoch  35 Batch  400/1077 - Train Accuracy: 0.9566, Validation Accuracy: 0.9620, Loss: 0.0339\n",
      "Epoch  35 Batch  600/1077 - Train Accuracy: 0.9706, Validation Accuracy: 0.9631, Loss: 0.0288\n",
      "Epoch  35 Batch  800/1077 - Train Accuracy: 0.9723, Validation Accuracy: 0.9666, Loss: 0.0236\n",
      "Epoch  35 Batch 1000/1077 - Train Accuracy: 0.9408, Validation Accuracy: 0.9652, Loss: 0.0328\n",
      "Epoch  36 Batch  200/1077 - Train Accuracy: 0.9781, Validation Accuracy: 0.9688, Loss: 0.0258\n",
      "Epoch  36 Batch  400/1077 - Train Accuracy: 0.9637, Validation Accuracy: 0.9631, Loss: 0.0371\n",
      "Epoch  36 Batch  600/1077 - Train Accuracy: 0.9695, Validation Accuracy: 0.9631, Loss: 0.0322\n",
      "Epoch  36 Batch  800/1077 - Train Accuracy: 0.9777, Validation Accuracy: 0.9624, Loss: 0.0303\n",
      "Epoch  36 Batch 1000/1077 - Train Accuracy: 0.9423, Validation Accuracy: 0.9631, Loss: 0.0352\n",
      "Epoch  37 Batch  200/1077 - Train Accuracy: 0.9859, Validation Accuracy: 0.9606, Loss: 0.0240\n",
      "Epoch  37 Batch  400/1077 - Train Accuracy: 0.9676, Validation Accuracy: 0.9734, Loss: 0.0343\n",
      "Epoch  37 Batch  600/1077 - Train Accuracy: 0.9714, Validation Accuracy: 0.9556, Loss: 0.0304\n",
      "Epoch  37 Batch  800/1077 - Train Accuracy: 0.9621, Validation Accuracy: 0.9712, Loss: 0.0258\n",
      "Epoch  37 Batch 1000/1077 - Train Accuracy: 0.9408, Validation Accuracy: 0.9709, Loss: 0.0359\n",
      "Epoch  38 Batch  200/1077 - Train Accuracy: 0.9777, Validation Accuracy: 0.9677, Loss: 0.0256\n",
      "Epoch  38 Batch  400/1077 - Train Accuracy: 0.9645, Validation Accuracy: 0.9695, Loss: 0.0386\n",
      "Epoch  38 Batch  600/1077 - Train Accuracy: 0.9717, Validation Accuracy: 0.9670, Loss: 0.0264\n",
      "Epoch  38 Batch  800/1077 - Train Accuracy: 0.9691, Validation Accuracy: 0.9641, Loss: 0.0282\n",
      "Epoch  38 Batch 1000/1077 - Train Accuracy: 0.9420, Validation Accuracy: 0.9748, Loss: 0.0327\n",
      "Epoch  39 Batch  200/1077 - Train Accuracy: 0.9863, Validation Accuracy: 0.9641, Loss: 0.0208\n",
      "Epoch  39 Batch  400/1077 - Train Accuracy: 0.9633, Validation Accuracy: 0.9567, Loss: 0.0357\n",
      "Epoch  39 Batch  600/1077 - Train Accuracy: 0.9721, Validation Accuracy: 0.9588, Loss: 0.0258\n",
      "Epoch  39 Batch  800/1077 - Train Accuracy: 0.9711, Validation Accuracy: 0.9680, Loss: 0.0254\n",
      "Epoch  39 Batch 1000/1077 - Train Accuracy: 0.9487, Validation Accuracy: 0.9616, Loss: 0.0306\n",
      "Model Trained and Saved\n"
     ]
    }
   ],
   "source": [
    "\"\"\"\n",
    "DON'T MODIFY ANYTHING IN THIS CELL\n",
    "\"\"\"\n",
    "def get_accuracy(target, logits):\n",
    "    \"\"\"\n",
    "    Calculate accuracy\n",
    "    \"\"\"\n",
    "    max_seq = max(target.shape[1], logits.shape[1])\n",
    "    if max_seq - target.shape[1]:\n",
    "        target = np.pad(\n",
    "            target,\n",
    "            [(0,0),(0,max_seq - target.shape[1])],\n",
    "            'constant')\n",
    "    if max_seq - logits.shape[1]:\n",
    "        logits = np.pad(\n",
    "            logits,\n",
    "            [(0,0),(0,max_seq - logits.shape[1])],\n",
    "            'constant')\n",
    "\n",
    "    return np.mean(np.equal(target, logits))\n",
    "\n",
    "# Split data to training and validation sets\n",
    "train_source = source_int_text[batch_size:]\n",
    "train_target = target_int_text[batch_size:]\n",
    "valid_source = source_int_text[:batch_size]\n",
    "valid_target = target_int_text[:batch_size]\n",
    "(valid_sources_batch, valid_targets_batch, valid_sources_lengths, valid_targets_lengths ) = next(get_batches(valid_source,\n",
    "                                                                                                             valid_target,\n",
    "                                                                                                             batch_size,\n",
    "                                                                                                             source_vocab_to_int['<PAD>'],\n",
    "                                                                                                             target_vocab_to_int['<PAD>']))                                                                                                  \n",
    "with tf.Session(graph=train_graph) as sess:\n",
    "    sess.run(tf.global_variables_initializer())\n",
    "\n",
    "    for epoch_i in range(epochs):\n",
    "        for batch_i, (source_batch, target_batch, sources_lengths, targets_lengths) in enumerate(\n",
    "                get_batches(train_source, train_target, batch_size,\n",
    "                            source_vocab_to_int['<PAD>'],\n",
    "                            target_vocab_to_int['<PAD>'])):\n",
    "\n",
    "            _, loss = sess.run(\n",
    "                [train_op, cost],\n",
    "                {input_data: source_batch,\n",
    "                 targets: target_batch,\n",
    "                 lr: learning_rate,\n",
    "                 target_sequence_length: targets_lengths,\n",
    "                 source_sequence_length: sources_lengths,\n",
    "                 keep_prob: keep_probability})\n",
    "\n",
    "\n",
    "            if batch_i % display_step == 0 and batch_i > 0:\n",
    "\n",
    "\n",
    "                batch_train_logits = sess.run(\n",
    "                    inference_logits,\n",
    "                    {input_data: source_batch,\n",
    "                     source_sequence_length: sources_lengths,\n",
    "                     target_sequence_length: targets_lengths,\n",
    "                     keep_prob: 1.0})\n",
    "\n",
    "\n",
    "                batch_valid_logits = sess.run(\n",
    "                    inference_logits,\n",
    "                    {input_data: valid_sources_batch,\n",
    "                     source_sequence_length: valid_sources_lengths,\n",
    "                     target_sequence_length: valid_targets_lengths,\n",
    "                     keep_prob: 1.0})\n",
    "\n",
    "                train_acc = get_accuracy(target_batch, batch_train_logits)\n",
    "\n",
    "                valid_acc = get_accuracy(valid_targets_batch, batch_valid_logits)\n",
    "\n",
    "                print('Epoch {:>3} Batch {:>4}/{} - Train Accuracy: {:>6.4f}, Validation Accuracy: {:>6.4f}, Loss: {:>6.4f}'\n",
    "                      .format(epoch_i, batch_i, len(source_int_text) // batch_size, train_acc, valid_acc, loss))\n",
    "\n",
    "    # Save Model\n",
    "    saver = tf.train.Saver()\n",
    "    saver.save(sess, save_path)\n",
    "    print('Model Trained and Saved')"
   ]
  },
  {
   "cell_type": "markdown",
   "metadata": {},
   "source": [
    "### Save Parameters\n",
    "Save the `batch_size` and `save_path` parameters for inference."
   ]
  },
  {
   "cell_type": "code",
   "execution_count": 23,
   "metadata": {
    "collapsed": true
   },
   "outputs": [],
   "source": [
    "\"\"\"\n",
    "DON'T MODIFY ANYTHING IN THIS CELL\n",
    "\"\"\"\n",
    "# Save parameters for checkpoint\n",
    "helper.save_params(save_path)"
   ]
  },
  {
   "cell_type": "markdown",
   "metadata": {},
   "source": [
    "# Checkpoint"
   ]
  },
  {
   "cell_type": "code",
   "execution_count": 30,
   "metadata": {
    "collapsed": true
   },
   "outputs": [],
   "source": [
    "\"\"\"\n",
    "DON'T MODIFY ANYTHING IN THIS CELL\n",
    "\"\"\"\n",
    "import tensorflow as tf\n",
    "import numpy as np\n",
    "import helper\n",
    "import problem_unittests as tests\n",
    "\n",
    "_, (source_vocab_to_int, target_vocab_to_int), (source_int_to_vocab, target_int_to_vocab) = helper.load_preprocess()\n",
    "load_path = helper.load_params()"
   ]
  },
  {
   "cell_type": "markdown",
   "metadata": {},
   "source": [
    "## Sentence to Sequence\n",
    "To feed a sentence into the model for translation, you first need to preprocess it.  Implement the function `sentence_to_seq()` to preprocess new sentences.\n",
    "\n",
    "- Convert the sentence to lowercase\n",
    "- Convert words into ids using `vocab_to_int`\n",
    " - Convert words not in the vocabulary, to the `<UNK>` word id."
   ]
  },
  {
   "cell_type": "code",
   "execution_count": 28,
   "metadata": {
    "collapsed": false
   },
   "outputs": [
    {
     "name": "stdout",
     "output_type": "stream",
     "text": [
      "Tests Passed\n"
     ]
    }
   ],
   "source": [
    "def sentence_to_seq(sentence, vocab_to_int):\n",
    "    \"\"\"\n",
    "    Convert a sentence to a sequence of ids\n",
    "    :param sentence: String\n",
    "    :param vocab_to_int: Dictionary to go from the words to an id\n",
    "    :return: List of word ids\n",
    "    \"\"\"\n",
    "   \n",
    "    lowercased = sentence.lower()\n",
    "    words = lowercased.split(\" \")\n",
    "    return [vocab_to_int.get(word, vocab_to_int['<UNK>']) for word in words]\n",
    "\n",
    "\n",
    "\"\"\"\n",
    "DON'T MODIFY ANYTHING IN THIS CELL THAT IS BELOW THIS LINE\n",
    "\"\"\"\n",
    "tests.test_sentence_to_seq(sentence_to_seq)"
   ]
  },
  {
   "cell_type": "markdown",
   "metadata": {},
   "source": [
    "## Translate\n",
    "This will translate `translate_sentence` from English to French."
   ]
  },
  {
   "cell_type": "code",
   "execution_count": 34,
   "metadata": {
    "collapsed": false
   },
   "outputs": [
    {
     "name": "stdout",
     "output_type": "stream",
     "text": [
      "INFO:tensorflow:Restoring parameters from checkpoints/dev\n",
      "Input\n",
      "  Word Ids:      [229, 88, 86, 52, 84, 180, 64]\n",
      "  English Words: ['his', 'favorite', 'fruit', 'is', 'the', 'orange', '.']\n",
      "\n",
      "Prediction\n",
      "  Word Ids:      [291, 125, 114, 352, 322, 293, 1]\n",
      "  French Words: son fruit préféré est l'orange . <EOS>\n"
     ]
    }
   ],
   "source": [
    "translate_sentence = 'his favorite fruit is the orange .'\n",
    "\n",
    "\n",
    "\"\"\"\n",
    "DON'T MODIFY ANYTHING IN THIS CELL\n",
    "\"\"\"\n",
    "translate_sentence = sentence_to_seq(translate_sentence, source_vocab_to_int)\n",
    "\n",
    "loaded_graph = tf.Graph()\n",
    "with tf.Session(graph=loaded_graph) as sess:\n",
    "    # Load saved model\n",
    "    loader = tf.train.import_meta_graph(load_path + '.meta')\n",
    "    loader.restore(sess, load_path)\n",
    "\n",
    "    input_data = loaded_graph.get_tensor_by_name('input:0')\n",
    "    logits = loaded_graph.get_tensor_by_name('predictions:0')\n",
    "    target_sequence_length = loaded_graph.get_tensor_by_name('target_sequence_length:0')\n",
    "    source_sequence_length = loaded_graph.get_tensor_by_name('source_sequence_length:0')\n",
    "    keep_prob = loaded_graph.get_tensor_by_name('keep_prob:0')\n",
    "\n",
    "    translate_logits = sess.run(logits, {input_data: [translate_sentence]*batch_size,\n",
    "                                         target_sequence_length: [len(translate_sentence)*2]*batch_size,\n",
    "                                         source_sequence_length: [len(translate_sentence)]*batch_size,\n",
    "                                         keep_prob: 1.0})[0]\n",
    "\n",
    "print('Input')\n",
    "print('  Word Ids:      {}'.format([i for i in translate_sentence]))\n",
    "print('  English Words: {}'.format([source_int_to_vocab[i] for i in translate_sentence]))\n",
    "\n",
    "print('\\nPrediction')\n",
    "print('  Word Ids:      {}'.format([i for i in translate_logits]))\n",
    "print('  French Words: {}'.format(\" \".join([target_int_to_vocab[i] for i in translate_logits])))\n"
   ]
  },
  {
   "cell_type": "markdown",
   "metadata": {},
   "source": [
    "## Imperfect Translation\n",
    "You might notice that some sentences translate better than others.  Since the dataset you're using only has a vocabulary of 227 English words of the thousands that you use, you're only going to see good results using these words.  For this project, you don't need a perfect translation. However, if you want to create a better translation model, you'll need better data.\n",
    "\n",
    "You can train on the [WMT10 French-English corpus](http://www.statmt.org/wmt10/training-giga-fren.tar).  This dataset has more vocabulary and richer in topics discussed.  However, this will take you days to train, so make sure you've a GPU and the neural network is performing well on dataset we provided.  Just make sure you play with the WMT10 corpus after you've submitted this project.\n",
    "## Submitting This Project\n",
    "When submitting this project, make sure to run all the cells before saving the notebook. Save the notebook file as \"dlnd_language_translation.ipynb\" and save it as a HTML file under \"File\" -> \"Download as\". Include the \"helper.py\" and \"problem_unittests.py\" files in your submission."
   ]
  }
 ],
 "metadata": {
  "anaconda-cloud": {},
  "kernelspec": {
   "display_name": "Python 3",
   "language": "python",
   "name": "python3"
  },
  "language_info": {
   "codemirror_mode": {
    "name": "ipython",
    "version": 3
   },
   "file_extension": ".py",
   "mimetype": "text/x-python",
   "name": "python",
   "nbconvert_exporter": "python",
   "pygments_lexer": "ipython3",
   "version": "3.6.0"
  }
 },
 "nbformat": 4,
 "nbformat_minor": 1
}
