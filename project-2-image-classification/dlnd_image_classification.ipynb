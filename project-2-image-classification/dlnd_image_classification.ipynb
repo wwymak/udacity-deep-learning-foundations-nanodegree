{
 "cells": [
  {
   "cell_type": "markdown",
   "metadata": {
    "collapsed": true
   },
   "source": [
    "# Image Classification\n",
    "In this project, you'll classify images from the [CIFAR-10 dataset](https://www.cs.toronto.edu/~kriz/cifar.html).  The dataset consists of airplanes, dogs, cats, and other objects. You'll preprocess the images, then train a convolutional neural network on all the samples. The images need to be normalized and the labels need to be one-hot encoded.  You'll get to apply what you learned and build a convolutional, max pooling, dropout, and fully connected layers.  At the end, you'll get to see your neural network's predictions on the sample images.\n",
    "## Get the Data\n",
    "Run the following cell to download the [CIFAR-10 dataset for python](https://www.cs.toronto.edu/~kriz/cifar-10-python.tar.gz)."
   ]
  },
  {
   "cell_type": "code",
   "execution_count": 3,
   "metadata": {
    "collapsed": false
   },
   "outputs": [
    {
     "name": "stderr",
     "output_type": "stream",
     "text": [
      "CIFAR-10 Dataset: 171MB [00:06, 26.2MB/s]                              \n"
     ]
    },
    {
     "name": "stdout",
     "output_type": "stream",
     "text": [
      "All files found!\n"
     ]
    }
   ],
   "source": [
    "\"\"\"\n",
    "DON'T MODIFY ANYTHING IN THIS CELL THAT IS BELOW THIS LINE\n",
    "\"\"\"\n",
    "from urllib.request import urlretrieve\n",
    "from os.path import isfile, isdir\n",
    "from tqdm import tqdm\n",
    "import problem_unittests as tests\n",
    "import tarfile\n",
    "\n",
    "cifar10_dataset_folder_path = 'cifar-10-batches-py'\n",
    "\n",
    "# Use Floyd's cifar-10 dataset if present\n",
    "floyd_cifar10_location = '/input/cifar-10/python.tar.gz'\n",
    "if isfile(floyd_cifar10_location):\n",
    "    tar_gz_path = floyd_cifar10_location\n",
    "else:\n",
    "    tar_gz_path = 'cifar-10-python.tar.gz'\n",
    "\n",
    "class DLProgress(tqdm):\n",
    "    last_block = 0\n",
    "\n",
    "    def hook(self, block_num=1, block_size=1, total_size=None):\n",
    "        self.total = total_size\n",
    "        self.update((block_num - self.last_block) * block_size)\n",
    "        self.last_block = block_num\n",
    "\n",
    "if not isfile(tar_gz_path):\n",
    "    with DLProgress(unit='B', unit_scale=True, miniters=1, desc='CIFAR-10 Dataset') as pbar:\n",
    "        urlretrieve(\n",
    "            'https://www.cs.toronto.edu/~kriz/cifar-10-python.tar.gz',\n",
    "            tar_gz_path,\n",
    "            pbar.hook)\n",
    "\n",
    "if not isdir(cifar10_dataset_folder_path):\n",
    "    with tarfile.open(tar_gz_path) as tar:\n",
    "        tar.extractall()\n",
    "        tar.close()\n",
    "\n",
    "\n",
    "tests.test_folder_path(cifar10_dataset_folder_path)"
   ]
  },
  {
   "cell_type": "markdown",
   "metadata": {},
   "source": [
    "## Explore the Data\n",
    "The dataset is broken into batches to prevent your machine from running out of memory.  The CIFAR-10 dataset consists of 5 batches, named `data_batch_1`, `data_batch_2`, etc.. Each batch contains the labels and images that are one of the following:\n",
    "* airplane\n",
    "* automobile\n",
    "* bird\n",
    "* cat\n",
    "* deer\n",
    "* dog\n",
    "* frog\n",
    "* horse\n",
    "* ship\n",
    "* truck\n",
    "\n",
    "Understanding a dataset is part of making predictions on the data.  Play around with the code cell below by changing the `batch_id` and `sample_id`. The `batch_id` is the id for a batch (1-5). The `sample_id` is the id for a image and label pair in the batch.\n",
    "\n",
    "Ask yourself \"What are all possible labels?\", \"What is the range of values for the image data?\", \"Are the labels in order or random?\".  Answers to questions like these will help you preprocess the data and end up with better predictions."
   ]
  },
  {
   "cell_type": "code",
   "execution_count": 4,
   "metadata": {
    "collapsed": false
   },
   "outputs": [
    {
     "name": "stdout",
     "output_type": "stream",
     "text": [
      "\n",
      "Stats of batch 1:\n",
      "Samples: 10000\n",
      "Label Counts: {0: 1005, 1: 974, 2: 1032, 3: 1016, 4: 999, 5: 937, 6: 1030, 7: 1001, 8: 1025, 9: 981}\n",
      "First 20 Labels: [6, 9, 9, 4, 1, 1, 2, 7, 8, 3, 4, 7, 7, 2, 9, 9, 9, 3, 2, 6]\n",
      "\n",
      "Example of Image 5:\n",
      "Image - Min Value: 0 Max Value: 252\n",
      "Image - Shape: (32, 32, 3)\n",
      "Label - Label Id: 1 Name: automobile\n"
     ]
    },
    {
     "data": {
      "image/png": "[encoded data removed]",
      "text/plain": [
       "<matplotlib.figure.Figure at 0x7f188108c080>"
      ]
     },
     "metadata": {
      "image/png": {
       "height": 250,
       "width": 253
      }
     },
     "output_type": "display_data"
    }
   ],
   "source": [
    "%matplotlib inline\n",
    "%config InlineBackend.figure_format = 'retina'\n",
    "\n",
    "import helper\n",
    "import numpy as np\n",
    "\n",
    "# Explore the dataset\n",
    "batch_id = 1\n",
    "sample_id = 5\n",
    "helper.display_stats(cifar10_dataset_folder_path, batch_id, sample_id)"
   ]
  },
  {
   "cell_type": "code",
   "execution_count": 5,
   "metadata": {
    "collapsed": false
   },
   "outputs": [
    {
     "name": "stdout",
     "output_type": "stream",
     "text": [
      "\n",
      "Stats of batch 2:\n",
      "Samples: 10000\n",
      "Label Counts: {0: 984, 1: 1007, 2: 1010, 3: 995, 4: 1010, 5: 988, 6: 1008, 7: 1026, 8: 987, 9: 985}\n",
      "First 20 Labels: [1, 6, 6, 8, 8, 3, 4, 6, 0, 6, 0, 3, 6, 6, 5, 4, 8, 3, 2, 6]\n",
      "\n",
      "Example of Image 1601:\n",
      "Image - Min Value: 0 Max Value: 255\n",
      "Image - Shape: (32, 32, 3)\n",
      "Label - Label Id: 9 Name: truck\n"
     ]
    },
    {
     "data": {
      "image/png": "[encoded data removed]",
      "text/plain": [
       "<matplotlib.figure.Figure at 0x7f18d8082a20>"
      ]
     },
     "metadata": {
      "image/png": {
       "height": 250,
       "width": 253
      }
     },
     "output_type": "display_data"
    }
   ],
   "source": [
    "batch_id = 2\n",
    "sample_id = 1601\n",
    "helper.display_stats(cifar10_dataset_folder_path, batch_id, sample_id)"
   ]
  },
  {
   "cell_type": "code",
   "execution_count": 6,
   "metadata": {
    "collapsed": false
   },
   "outputs": [
    {
     "name": "stdout",
     "output_type": "stream",
     "text": [
      "\n",
      "Stats of batch 3:\n",
      "Samples: 10000\n",
      "Label Counts: {0: 994, 1: 1042, 2: 965, 3: 997, 4: 990, 5: 1029, 6: 978, 7: 1015, 8: 961, 9: 1029}\n",
      "First 20 Labels: [8, 5, 0, 6, 9, 2, 8, 3, 6, 2, 7, 4, 6, 9, 0, 0, 7, 3, 7, 2]\n",
      "\n",
      "Example of Image 6885:\n",
      "Image - Min Value: 10 Max Value: 201\n",
      "Image - Shape: (32, 32, 3)\n",
      "Label - Label Id: 6 Name: frog\n",
      "\n",
      "Stats of batch 4:\n",
      "Samples: 10000\n",
      "Label Counts: {0: 1003, 1: 963, 2: 1041, 3: 976, 4: 1004, 5: 1021, 6: 1004, 7: 981, 8: 1024, 9: 983}\n",
      "First 20 Labels: [0, 6, 0, 2, 7, 2, 1, 2, 4, 1, 5, 6, 6, 3, 1, 3, 5, 5, 8, 1]\n",
      "\n",
      "Example of Image 8146:\n",
      "Image - Min Value: 10 Max Value: 230\n",
      "Image - Shape: (32, 32, 3)\n",
      "Label - Label Id: 4 Name: deer\n",
      "\n",
      "Stats of batch 5:\n",
      "Samples: 10000\n",
      "Label Counts: {0: 1014, 1: 1014, 2: 952, 3: 1016, 4: 997, 5: 1025, 6: 980, 7: 977, 8: 1003, 9: 1022}\n",
      "First 20 Labels: [1, 8, 5, 1, 5, 7, 4, 3, 8, 2, 7, 2, 0, 1, 5, 9, 6, 2, 0, 8]\n",
      "\n",
      "Example of Image 9001:\n",
      "Image - Min Value: 0 Max Value: 255\n",
      "Image - Shape: (32, 32, 3)\n",
      "Label - Label Id: 9 Name: truck\n"
     ]
    },
    {
     "data": {
      "image/png": "[encoded data removed]",
      "text/plain": [
       "<matplotlib.figure.Figure at 0x7f187d74ab38>"
      ]
     },
     "metadata": {
      "image/png": {
       "height": 250,
       "width": 253
      }
     },
     "output_type": "display_data"
    }
   ],
   "source": [
    "for i in range(3,6):\n",
    "    sample_id = np.random.randint(0, 10000)\n",
    "    helper.display_stats(cifar10_dataset_folder_path, i, sample_id)"
   ]
  },
  {
   "cell_type": "markdown",
   "metadata": {},
   "source": [
    "a quick look at the stats for all the batches-- it seems the classes are fairly balanced, and the images \n",
    "are not bunched together. "
   ]
  },
  {
   "cell_type": "markdown",
   "metadata": {},
   "source": [
    "## Implement Preprocess Functions\n",
    "### Normalize\n",
    "In the cell below, implement the `normalize` function to take in image data, `x`, and return it as a normalized Numpy array. The values should be in the range of 0 to 1, inclusive.  The return object should be the same shape as `x`."
   ]
  },
  {
   "cell_type": "code",
   "execution_count": 7,
   "metadata": {
    "collapsed": false
   },
   "outputs": [
    {
     "name": "stdout",
     "output_type": "stream",
     "text": [
      "Tests Passed\n"
     ]
    }
   ],
   "source": [
    "def normalize(x):\n",
    "    \"\"\"\n",
    "    Normalize a list of sample image data in the range of 0 to 1\n",
    "    : x: List of image data.  The image shape is (32, 32, 3)\n",
    "    : return: Numpy array of normalize data\n",
    "    \"\"\"\n",
    "    max_x = np.max(x)\n",
    "    min_x = np.min(x)\n",
    "    g = np.vectorize(lambda x: (x- min_x)/ (max_x - min_x))\n",
    "    \n",
    "    normalised = g(x)\n",
    "    return normalised\n",
    "\n",
    "\n",
    "\"\"\"\n",
    "DON'T MODIFY ANYTHING IN THIS CELL THAT IS BELOW THIS LINE\n",
    "\"\"\"\n",
    "tests.test_normalize(normalize)"
   ]
  },
  {
   "cell_type": "markdown",
   "metadata": {},
   "source": [
    "### One-hot encode\n",
    "Just like the previous code cell, you'll be implementing a function for preprocessing.  This time, you'll implement the `one_hot_encode` function. The input, `x`, are a list of labels.  Implement the function to return the list of labels as One-Hot encoded Numpy array.  The possible values for labels are 0 to 9. The one-hot encoding function should return the same encoding for each value between each call to `one_hot_encode`.  Make sure to save the map of encodings outside the function.\n",
    "\n",
    "Hint: Don't reinvent the wheel."
   ]
  },
  {
   "cell_type": "code",
   "execution_count": 8,
   "metadata": {
    "collapsed": false
   },
   "outputs": [
    {
     "name": "stdout",
     "output_type": "stream",
     "text": [
      "Tests Passed\n"
     ]
    }
   ],
   "source": [
    "from sklearn import preprocessing\n",
    "import pandas as pd\n",
    "\n",
    "def one_hot_encode(x):\n",
    "    \"\"\"\n",
    "    One hot encode a list of sample labels. Return a one-hot encoded vector for each label.\n",
    "    : x: List of sample Labels\n",
    "    : return: Numpy array of one-hot encoded labels\n",
    "    \"\"\"\n",
    "    x_interim = pd.Series(x)\n",
    "    x_interim = x_interim.astype('category', categories=range(0, 10))\n",
    "    out = pd.get_dummies(x_interim)\n",
    "    return out.as_matrix()\n",
    "\n",
    "\"\"\"\n",
    "DON'T MODIFY ANYTHING IN THIS CELL THAT IS BELOW THIS LINE\n",
    "\"\"\"\n",
    "tests.test_one_hot_encode(one_hot_encode)"
   ]
  },
  {
   "cell_type": "markdown",
   "metadata": {},
   "source": [
    "### Randomize Data\n",
    "As you saw from exploring the data above, the order of the samples are randomized.  It doesn't hurt to randomize it again, but you don't need to for this dataset."
   ]
  },
  {
   "cell_type": "markdown",
   "metadata": {},
   "source": [
    "## Preprocess all the data and save it\n",
    "Running the code cell below will preprocess all the CIFAR-10 data and save it to file. The code below also uses 10% of the training data for validation."
   ]
  },
  {
   "cell_type": "code",
   "execution_count": 9,
   "metadata": {
    "collapsed": true
   },
   "outputs": [],
   "source": [
    "\"\"\"\n",
    "DON'T MODIFY ANYTHING IN THIS CELL\n",
    "\"\"\"\n",
    "# Preprocess Training, Validation, and Testing Data\n",
    "helper.preprocess_and_save_data(cifar10_dataset_folder_path, normalize, one_hot_encode)"
   ]
  },
  {
   "cell_type": "markdown",
   "metadata": {},
   "source": [
    "# Check Point\n",
    "This is your first checkpoint.  If you ever decide to come back to this notebook or have to restart the notebook, you can start from here.  The preprocessed data has been saved to disk."
   ]
  },
  {
   "cell_type": "code",
   "execution_count": 10,
   "metadata": {
    "collapsed": true
   },
   "outputs": [],
   "source": [
    "\"\"\"\n",
    "DON'T MODIFY ANYTHING IN THIS CELL\n",
    "\"\"\"\n",
    "%matplotlib inline\n",
    "%config InlineBackend.figure_format = 'retina'\n",
    "\n",
    "import numpy as np\n",
    "import pickle\n",
    "import problem_unittests as tests\n",
    "import helper\n",
    "\n",
    "# Load the Preprocessed Validation data\n",
    "valid_features, valid_labels = pickle.load(open('preprocess_validation.p', mode='rb'))"
   ]
  },
  {
   "cell_type": "markdown",
   "metadata": {},
   "source": [
    "## Build the network\n",
    "For the neural network, you'll build each layer into a function.  Most of the code you've seen has been outside of functions. To test your code more thoroughly, we require that you put each layer in a function.  This allows us to give you better feedback and test for simple mistakes using our unittests before you submit your project.\n",
    "\n",
    ">**Note:** If you're finding it hard to dedicate enough time for this course each week, we've provided a small shortcut to this part of the project. In the next couple of problems, you'll have the option to use classes from the [TensorFlow Layers](https://www.tensorflow.org/api_docs/python/tf/layers) or [TensorFlow Layers (contrib)](https://www.tensorflow.org/api_guides/python/contrib.layers) packages to build each layer, except the layers you build in the \"Convolutional and Max Pooling Layer\" section.  TF Layers is similar to Keras's and TFLearn's abstraction to layers, so it's easy to pickup.\n",
    "\n",
    ">However, if you would like to get the most out of this course, try to solve all the problems _without_ using anything from the TF Layers packages. You **can** still use classes from other packages that happen to have the same name as ones you find in TF Layers! For example, instead of using the TF Layers version of the `conv2d` class, [tf.layers.conv2d](https://www.tensorflow.org/api_docs/python/tf/layers/conv2d), you would want to use the TF Neural Network version of `conv2d`, [tf.nn.conv2d](https://www.tensorflow.org/api_docs/python/tf/nn/conv2d). \n",
    "\n",
    "Let's begin!\n",
    "\n",
    "### Input\n",
    "The neural network needs to read the image data, one-hot encoded labels, and dropout keep probability. Implement the following functions\n",
    "* Implement `neural_net_image_input`\n",
    " * Return a [TF Placeholder](https://www.tensorflow.org/api_docs/python/tf/placeholder)\n",
    " * Set the shape using `image_shape` with batch size set to `None`.\n",
    " * Name the TensorFlow placeholder \"x\" using the TensorFlow `name` parameter in the [TF Placeholder](https://www.tensorflow.org/api_docs/python/tf/placeholder).\n",
    "* Implement `neural_net_label_input`\n",
    " * Return a [TF Placeholder](https://www.tensorflow.org/api_docs/python/tf/placeholder)\n",
    " * Set the shape using `n_classes` with batch size set to `None`.\n",
    " * Name the TensorFlow placeholder \"y\" using the TensorFlow `name` parameter in the [TF Placeholder](https://www.tensorflow.org/api_docs/python/tf/placeholder).\n",
    "* Implement `neural_net_keep_prob_input`\n",
    " * Return a [TF Placeholder](https://www.tensorflow.org/api_docs/python/tf/placeholder) for dropout keep probability.\n",
    " * Name the TensorFlow placeholder \"keep_prob\" using the TensorFlow `name` parameter in the [TF Placeholder](https://www.tensorflow.org/api_docs/python/tf/placeholder).\n",
    "\n",
    "These names will be used at the end of the project to load your saved model.\n",
    "\n",
    "Note: `None` for shapes in TensorFlow allow for a dynamic size."
   ]
  },
  {
   "cell_type": "code",
   "execution_count": 2,
   "metadata": {
    "collapsed": false
   },
   "outputs": [
    {
     "name": "stdout",
     "output_type": "stream",
     "text": [
      "Image Input Tests Passed.\n",
      "Label Input Tests Passed.\n",
      "Keep Prob Tests Passed.\n"
     ]
    }
   ],
   "source": [
    "import tensorflow as tf\n",
    "\n",
    "def neural_net_image_input(image_shape):\n",
    "    \"\"\"\n",
    "    Return a Tensor for a batch of image input\n",
    "    : image_shape: Shape of the images\n",
    "    : return: Tensor for image input.\n",
    "    \"\"\"\n",
    "    return tf.placeholder(tf.float32, shape=(None, image_shape[0], image_shape[1], image_shape[2]), name='x')\n",
    "\n",
    "\n",
    "def neural_net_label_input(n_classes):\n",
    "    \"\"\"\n",
    "    Return a Tensor for a batch of label input\n",
    "    : n_classes: Number of classes\n",
    "    : return: Tensor for label input.\n",
    "    \"\"\"\n",
    "    return tf.placeholder(tf.float32, shape=(None, n_classes), name='y')\n",
    "\n",
    "\n",
    "def neural_net_keep_prob_input():\n",
    "    \"\"\"\n",
    "    Return a Tensor for keep probability\n",
    "    : return: Tensor for keep probability.\n",
    "    \"\"\"\n",
    "#     return tf.placeholder(tf.float32)\n",
    "    return tf.placeholder(tf.float32, name='keep_prob')\n",
    "    \n",
    "\n",
    "\n",
    "\"\"\"\n",
    "DON'T MODIFY ANYTHING IN THIS CELL THAT IS BELOW THIS LINE\n",
    "\"\"\"\n",
    "tf.reset_default_graph()\n",
    "tests.test_nn_image_inputs(neural_net_image_input)\n",
    "tests.test_nn_label_inputs(neural_net_label_input)\n",
    "tests.test_nn_keep_prob_inputs(neural_net_keep_prob_input)"
   ]
  },
  {
   "cell_type": "markdown",
   "metadata": {},
   "source": [
    "### Convolution and Max Pooling Layer\n",
    "Convolution layers have a lot of success with images. For this code cell, you should implement the function `conv2d_maxpool` to apply convolution then max pooling:\n",
    "* Create the weight and bias using `conv_ksize`, `conv_num_outputs` and the shape of `x_tensor`.\n",
    "* Apply a convolution to `x_tensor` using weight and `conv_strides`.\n",
    " * We recommend you use same padding, but you're welcome to use any padding.\n",
    "* Add bias\n",
    "* Add a nonlinear activation to the convolution.\n",
    "* Apply Max Pooling using `pool_ksize` and `pool_strides`.\n",
    " * We recommend you use same padding, but you're welcome to use any padding.\n",
    "\n",
    "**Note:** You **can't** use [TensorFlow Layers](https://www.tensorflow.org/api_docs/python/tf/layers) or [TensorFlow Layers (contrib)](https://www.tensorflow.org/api_guides/python/contrib.layers) for **this** layer, but you can still use TensorFlow's [Neural Network](https://www.tensorflow.org/api_docs/python/tf/nn) package. You may still use the shortcut option for all the **other** layers."
   ]
  },
  {
   "cell_type": "code",
   "execution_count": 3,
   "metadata": {
    "collapsed": false
   },
   "outputs": [
    {
     "name": "stdout",
     "output_type": "stream",
     "text": [
      "Tests Passed\n"
     ]
    }
   ],
   "source": [
    "def conv2d_maxpool(x_tensor, conv_num_outputs, conv_ksize, conv_strides, pool_ksize, pool_strides):\n",
    "    \"\"\"\n",
    "    Apply convolution then max pooling to x_tensor\n",
    "    :param x_tensor: TensorFlow Tensor\n",
    "    :param conv_num_outputs: Number of outputs for the convolutional layer\n",
    "    :param conv_ksize: kernal size 2-D Tuple for the convolutional layer\n",
    "    :param conv_strides: Stride 2-D Tuple for convolution\n",
    "    :param pool_ksize: kernal size 2-D Tuple for pool\n",
    "    :param pool_strides: Stride 2-D Tuple for pool\n",
    "    : return: A tensor that represents convolution and max pooling of x_tensor\n",
    "    \"\"\"\n",
    "    conv_weight = tf.Variable(tf.truncated_normal([conv_ksize[0], conv_ksize[1], x_tensor.get_shape().as_list()[3], \n",
    "                                                   conv_num_outputs],\n",
    "                                                  stddev=0.05))\n",
    "#                                                     stddev=(conv_ksize[0] * conv_ksize[1])**-0.5))\n",
    "    conv_bias = tf.Variable(tf.truncated_normal([conv_num_outputs], stddev=0.05))\n",
    "    \n",
    "    conv_layer = tf.nn.conv2d(x_tensor, conv_weight, [1, conv_strides[0],conv_strides[1], 1] ,padding='SAME')\n",
    "    conv_layer = tf.nn.bias_add(conv_layer, conv_bias)\n",
    "    conv_layer = tf.nn.relu(conv_layer)\n",
    "    conv_layer = tf.nn.max_pool(conv_layer, ksize=[1, pool_ksize[0], pool_ksize[1], 1], strides=[1, pool_strides[0], pool_strides[1], 1],padding='SAME')\n",
    "    \n",
    "    return conv_layer\n",
    "\n",
    "\n",
    "\"\"\"\n",
    "DON'T MODIFY ANYTHING IN THIS CELL THAT IS BELOW THIS LINE\n",
    "\"\"\"\n",
    "tests.test_con_pool(conv2d_maxpool)"
   ]
  },
  {
   "cell_type": "markdown",
   "metadata": {},
   "source": [
    "### Flatten Layer\n",
    "Implement the `flatten` function to change the dimension of `x_tensor` from a 4-D tensor to a 2-D tensor.  The output should be the shape (*Batch Size*, *Flattened Image Size*). Shortcut option: you can use classes from the [TensorFlow Layers](https://www.tensorflow.org/api_docs/python/tf/layers) or [TensorFlow Layers (contrib)](https://www.tensorflow.org/api_guides/python/contrib.layers) packages for this layer. For more of a challenge, only use other TensorFlow packages."
   ]
  },
  {
   "cell_type": "code",
   "execution_count": 4,
   "metadata": {
    "collapsed": false
   },
   "outputs": [
    {
     "name": "stdout",
     "output_type": "stream",
     "text": [
      "Tests Passed\n"
     ]
    }
   ],
   "source": [
    "def flatten(x_tensor):\n",
    "    \"\"\"\n",
    "    Flatten x_tensor to (Batch Size, Flattened Image Size)\n",
    "    : x_tensor: A tensor of size (Batch Size, ...), where ... are the image dimensions.\n",
    "    : return: A tensor of size (Batch Size, Flattened Image Size).\n",
    "    \"\"\"\n",
    "    shape = x_tensor.get_shape().as_list()\n",
    "    \n",
    "    x = tf.reshape(x_tensor, shape=[-1, shape[1] * shape[2] * shape[3]])\n",
    "    return x\n",
    "\n",
    "\n",
    "\"\"\"\n",
    "DON'T MODIFY ANYTHING IN THIS CELL THAT IS BELOW THIS LINE\n",
    "\"\"\"\n",
    "tests.test_flatten(flatten)"
   ]
  },
  {
   "cell_type": "markdown",
   "metadata": {},
   "source": [
    "### Fully-Connected Layer\n",
    "Implement the `fully_conn` function to apply a fully connected layer to `x_tensor` with the shape (*Batch Size*, *num_outputs*). Shortcut option: you can use classes from the [TensorFlow Layers](https://www.tensorflow.org/api_docs/python/tf/layers) or [TensorFlow Layers (contrib)](https://www.tensorflow.org/api_guides/python/contrib.layers) packages for this layer. For more of a challenge, only use other TensorFlow packages."
   ]
  },
  {
   "cell_type": "code",
   "execution_count": 5,
   "metadata": {
    "collapsed": false
   },
   "outputs": [
    {
     "name": "stdout",
     "output_type": "stream",
     "text": [
      "Tests Passed\n"
     ]
    }
   ],
   "source": [
    "def fully_conn(x_tensor, num_outputs):\n",
    "    \"\"\"\n",
    "    Apply a fully connected layer to x_tensor using weight and bias\n",
    "    : x_tensor: A 2-D tensor where the first dimension is batch size.\n",
    "    : num_outputs: The number of output that the new tensor should be.\n",
    "    : return: A 2-D tensor where the second dimension is num_outputs.\n",
    "    \"\"\"\n",
    "    weight = tf.Variable(tf.truncated_normal([x_tensor.get_shape().as_list()[1], num_outputs], stddev=0.01))\n",
    "#      weight = tf.Variable(tf.truncated_normal([x_tensor.get_shape().as_list()[1], num_outputs], stddev=x_tensor.get_shape().as_list()[1] ** -0.5))\n",
    "    bias = tf.Variable(tf.truncated_normal([num_outputs], stddev=0.01))\n",
    "    layer = tf.add(tf.matmul(x_tensor, weight), bias)\n",
    "    layer = tf.nn.relu(layer)\n",
    "    return layer\n",
    "\n",
    "\n",
    "\"\"\"\n",
    "DON'T MODIFY ANYTHING IN THIS CELL THAT IS BELOW THIS LINE\n",
    "\"\"\"\n",
    "tests.test_fully_conn(fully_conn)"
   ]
  },
  {
   "cell_type": "markdown",
   "metadata": {},
   "source": [
    "### Output Layer\n",
    "Implement the `output` function to apply a fully connected layer to `x_tensor` with the shape (*Batch Size*, *num_outputs*). Shortcut option: you can use classes from the [TensorFlow Layers](https://www.tensorflow.org/api_docs/python/tf/layers) or [TensorFlow Layers (contrib)](https://www.tensorflow.org/api_guides/python/contrib.layers) packages for this layer. For more of a challenge, only use other TensorFlow packages.\n",
    "\n",
    "**Note:** Activation, softmax, or cross entropy should **not** be applied to this."
   ]
  },
  {
   "cell_type": "code",
   "execution_count": 7,
   "metadata": {
    "collapsed": false
   },
   "outputs": [
    {
     "name": "stdout",
     "output_type": "stream",
     "text": [
      "Tests Passed\n"
     ]
    }
   ],
   "source": [
    "def output(x_tensor, num_outputs):\n",
    "    \"\"\"\n",
    "    Apply a output layer to x_tensor using weight and bias\n",
    "    : x_tensor: A 2-D tensor where the first dimension is batch size.\n",
    "    : num_outputs: The number of output that the new tensor should be.\n",
    "    : return: A 2-D tensor where the second dimension is num_outputs.\n",
    "    \"\"\"\n",
    "    weight = tf.Variable(tf.truncated_normal([x_tensor.get_shape().as_list()[1], num_outputs], stddev=x_tensor.get_shape().as_list()[1] ** -0.5))\n",
    "    bias = tf.Variable(tf.truncated_normal([num_outputs], stddev=0.01))\n",
    "    layer = tf.add(tf.matmul(x_tensor, weight), bias)\n",
    "    return layer\n",
    "\n",
    "\n",
    "\"\"\"\n",
    "DON'T MODIFY ANYTHING IN THIS CELL THAT IS BELOW THIS LINE\n",
    "\"\"\"\n",
    "tests.test_output(output)"
   ]
  },
  {
   "cell_type": "markdown",
   "metadata": {},
   "source": [
    "### Create Convolutional Model\n",
    "Implement the function `conv_net` to create a convolutional neural network model. The function takes in a batch of images, `x`, and outputs logits.  Use the layers you created above to create this model:\n",
    "\n",
    "* Apply 1, 2, or 3 Convolution and Max Pool layers\n",
    "* Apply a Flatten Layer\n",
    "* Apply 1, 2, or 3 Fully Connected Layers\n",
    "* Apply an Output Layer\n",
    "* Return the output\n",
    "* Apply [TensorFlow's Dropout](https://www.tensorflow.org/api_docs/python/tf/nn/dropout) to one or more layers in the model using `keep_prob`. "
   ]
  },
  {
   "cell_type": "code",
   "execution_count": 8,
   "metadata": {
    "collapsed": false
   },
   "outputs": [
    {
     "name": "stdout",
     "output_type": "stream",
     "text": [
      "Neural Network Built!\n"
     ]
    }
   ],
   "source": [
    "# various tweaks to see what works. So at the moment going with 2 conv layers, 1 flatten layer , 2 fully connected\n",
    "# with dropout in between\n",
    "def conv_net(x, keep_prob):\n",
    "    \"\"\"\n",
    "    Create a convolutional neural network model\n",
    "    : x: Placeholder tensor that holds image data.\n",
    "    : keep_prob: Placeholder tensor that hold dropout keep probability.\n",
    "    : return: Tensor that represents logits\n",
    "    \"\"\"\n",
    "    layer = conv2d_maxpool(x, 20, (5,5), (1,1), (2,2), (2, 2))\n",
    "#     layer = tf.nn.dropout(layer, keep_prob=keep_prob)\n",
    "    layer = conv2d_maxpool(layer, 100, (5,5), (1,1), (2,2), (2, 2))\n",
    "#     layer = tf.nn.dropout(layer, keep_prob=keep_prob)\n",
    "#     layer = conv2d_maxpool(layer, 84, (1,1), (2,2), (2,2), (2, 2))\n",
    "#     layer = tf.nn.dropout(layer, keep_prob=keep_prob)\n",
    "    \n",
    "\n",
    "    # flatten layer\n",
    "    layer = flatten(layer)\n",
    "    \n",
    "\n",
    "    # TODO: Apply 1, 2, or 3 Fully Connected Layers\n",
    "    #    Play around with different number of outputs\n",
    "    # Function Definition from Above:\n",
    "    layer = fully_conn(layer, 360)\n",
    "    layer = tf.nn.dropout(layer, keep_prob=keep_prob)\n",
    "    layer = fully_conn(layer, 100)\n",
    "    return output(layer, 10)\n",
    "\n",
    "\n",
    "\"\"\"\n",
    "DON'T MODIFY ANYTHING IN THIS CELL THAT IS BELOW THIS LINE\n",
    "\"\"\"\n",
    "\n",
    "##############################\n",
    "## Build the Neural Network ##\n",
    "##############################\n",
    "\n",
    "# Remove previous weights, bias, inputs, etc..\n",
    "tf.reset_default_graph()\n",
    "\n",
    "# Inputs\n",
    "x = neural_net_image_input((32, 32, 3))\n",
    "y = neural_net_label_input(10)\n",
    "keep_prob = neural_net_keep_prob_input()\n",
    "\n",
    "# Model\n",
    "logits = conv_net(x, keep_prob)\n",
    "\n",
    "# Name logits Tensor, so that is can be loaded from disk after training\n",
    "logits = tf.identity(logits, name='logits')\n",
    "\n",
    "# Loss and Optimizer\n",
    "cost = tf.reduce_mean(tf.nn.softmax_cross_entropy_with_logits(logits=logits, labels=y))\n",
    "optimizer = tf.train.AdamOptimizer(learning_rate=0.001).minimize(cost)\n",
    "\n",
    "# Accuracy\n",
    "correct_pred = tf.equal(tf.argmax(logits, 1), tf.argmax(y, 1))\n",
    "accuracy = tf.reduce_mean(tf.cast(correct_pred, tf.float32), name='accuracy')\n",
    "\n",
    "tests.test_conv_net(conv_net)"
   ]
  },
  {
   "cell_type": "markdown",
   "metadata": {},
   "source": [
    "## Train the Neural Network\n",
    "### Single Optimization\n",
    "Implement the function `train_neural_network` to do a single optimization.  The optimization should use `optimizer` to optimize in `session` with a `feed_dict` of the following:\n",
    "* `x` for image input\n",
    "* `y` for labels\n",
    "* `keep_prob` for keep probability for dropout\n",
    "\n",
    "This function will be called for each batch, so `tf.global_variables_initializer()` has already been called.\n",
    "\n",
    "Note: Nothing needs to be returned. This function is only optimizing the neural network."
   ]
  },
  {
   "cell_type": "code",
   "execution_count": 11,
   "metadata": {
    "collapsed": false
   },
   "outputs": [
    {
     "name": "stdout",
     "output_type": "stream",
     "text": [
      "Tests Passed\n"
     ]
    }
   ],
   "source": [
    "def train_neural_network(session, optimizer, keep_probability, feature_batch, label_batch):\n",
    "    \"\"\"\n",
    "    Optimize the session on a batch of images and labels\n",
    "    : session: Current TensorFlow session\n",
    "    : optimizer: TensorFlow optimizer function\n",
    "    : keep_probability: keep probability\n",
    "    : feature_batch: Batch of Numpy image data\n",
    "    : label_batch: Batch of Numpy label data\n",
    "    \"\"\"\n",
    "    if type(keep_probability)  == np.ndarray:\n",
    "        keep_probability = keep_probability[0]\n",
    "    \n",
    "    session.run(optimizer, feed_dict={x:feature_batch, y:label_batch, keep_prob: keep_probability })\n",
    "    \n",
    "\n",
    "\n",
    "\"\"\"\n",
    "DON'T MODIFY ANYTHING IN THIS CELL THAT IS BELOW THIS LINE\n",
    "\"\"\"\n",
    "tests.test_train_nn(train_neural_network)"
   ]
  },
  {
   "cell_type": "markdown",
   "metadata": {},
   "source": [
    "### Show Stats\n",
    "Implement the function `print_stats` to print loss and validation accuracy.  Use the global variables `valid_features` and `valid_labels` to calculate validation accuracy.  Use a keep probability of `1.0` to calculate the loss and validation accuracy."
   ]
  },
  {
   "cell_type": "code",
   "execution_count": 19,
   "metadata": {
    "collapsed": true
   },
   "outputs": [],
   "source": [
    "\n",
    "def print_stats(session, feature_batch, label_batch, cost, accuracy):\n",
    "    \"\"\"\n",
    "    Print information about loss and validation accuracy\n",
    "    : session: Current TensorFlow session\n",
    "    : feature_batch: Batch of Numpy image data\n",
    "    : label_batch: Batch of Numpy label data\n",
    "    : cost: TensorFlow cost function\n",
    "    : accuracy: TensorFlow accuracy function\n",
    "    \"\"\"\n",
    "    cost = session.run(cost, feed_dict={x: feature_batch, y: label_batch, keep_prob: keep_probability})\n",
    "    acc= session.run(accuracy, feed_dict={x: feature_batch, y: label_batch, keep_prob: keep_probability})\n",
    "    \n",
    "    \n",
    "    print('cost: {}'.format(cost))\n",
    "    print('training accuracy: {}'.format(acc))\n",
    "    \n",
    "    # Get accuracy in batches for memory limitations (if you try to load all of the validation images at once the gpu runs out of memory...)\n",
    "    valid_batch_acc_total = 0\n",
    "    valid_batch_count = 0\n",
    "\n",
    "    for valid_feature_batch, valid_label_batch in helper.batch_features_labels(feature_batch, label_batch, batch_size):\n",
    "        valid_batch_acc_total += sess.run(\n",
    "            accuracy,\n",
    "            feed_dict={x: valid_feature_batch, y: valid_label_batch, keep_prob: 1.0})\n",
    "        valid_batch_count += 1\n",
    "        \n",
    "    print('validation accuracy: {}'.format(valid_batch_acc_total))\n",
    "    "
   ]
  },
  {
   "cell_type": "markdown",
   "metadata": {},
   "source": [
    "### Hyperparameters\n",
    "Tune the following parameters:\n",
    "* Set `epochs` to the number of iterations until the network stops learning or start overfitting\n",
    "* Set `batch_size` to the highest number that your machine has memory for.  Most people set them to common sizes of memory:\n",
    " * 64\n",
    " * 128\n",
    " * 256\n",
    " * ...\n",
    "* Set `keep_probability` to the probability of keeping a node using dropout"
   ]
  },
  {
   "cell_type": "code",
   "execution_count": 15,
   "metadata": {
    "collapsed": true
   },
   "outputs": [],
   "source": [
    "epochs = 30\n",
    "batch_size = 128\n",
    "keep_probability = 0.8"
   ]
  },
  {
   "cell_type": "markdown",
   "metadata": {},
   "source": [
    "### Train on a Single CIFAR-10 Batch\n",
    "Instead of training the neural network on all the CIFAR-10 batches of data, let's use a single batch. This should save time while you iterate on the model to get a better accuracy.  Once the final validation accuracy is 50% or greater, run the model on all the data in the next section."
   ]
  },
  {
   "cell_type": "code",
   "execution_count": 20,
   "metadata": {
    "collapsed": false
   },
   "outputs": [
    {
     "name": "stdout",
     "output_type": "stream",
     "text": [
      "Checking the Training on a Single Batch...\n",
      "epoch is :0\n",
      "Epoch  1, CIFAR-10 Batch 1:  cost: 2.0617783069610596\n",
      "training accuracy: 0.3500000238418579\n",
      "validation accuracy: 0.2750000059604645\n",
      "epoch is :1\n",
      "Epoch  2, CIFAR-10 Batch 1:  cost: 1.783921480178833\n",
      "training accuracy: 0.375\n",
      "validation accuracy: 0.3999999761581421\n",
      "epoch is :2\n",
      "Epoch  3, CIFAR-10 Batch 1:  cost: 1.6150104999542236\n",
      "training accuracy: 0.45000001788139343\n",
      "validation accuracy: 0.4749999940395355\n",
      "epoch is :3\n",
      "Epoch  4, CIFAR-10 Batch 1:  cost: 1.407044529914856\n",
      "training accuracy: 0.550000011920929\n",
      "validation accuracy: 0.5249999761581421\n",
      "epoch is :4\n",
      "Epoch  5, CIFAR-10 Batch 1:  cost: 1.190145492553711\n",
      "training accuracy: 0.5250000357627869\n",
      "validation accuracy: 0.5500000715255737\n",
      "epoch is :5\n",
      "Epoch  6, CIFAR-10 Batch 1:  cost: 0.9817941784858704\n",
      "training accuracy: 0.6499999761581421\n",
      "validation accuracy: 0.6749999523162842\n",
      "epoch is :6\n",
      "Epoch  7, CIFAR-10 Batch 1:  cost: 0.8012444376945496\n",
      "training accuracy: 0.75\n",
      "validation accuracy: 0.7749999761581421\n",
      "epoch is :7\n",
      "Epoch  8, CIFAR-10 Batch 1:  cost: 0.7249649167060852\n",
      "training accuracy: 0.7250000238418579\n",
      "validation accuracy: 0.7750000357627869\n",
      "epoch is :8\n",
      "Epoch  9, CIFAR-10 Batch 1:  cost: 0.6931132674217224\n",
      "training accuracy: 0.8500000238418579\n",
      "validation accuracy: 0.875\n",
      "epoch is :9\n",
      "Epoch 10, CIFAR-10 Batch 1:  cost: 0.5023440718650818\n",
      "training accuracy: 0.8000000715255737\n",
      "validation accuracy: 0.8500000238418579\n",
      "epoch is :10\n",
      "Epoch 11, CIFAR-10 Batch 1:  cost: 0.4029307961463928\n",
      "training accuracy: 0.8250000476837158\n",
      "validation accuracy: 0.8500000238418579\n",
      "epoch is :11\n",
      "Epoch 12, CIFAR-10 Batch 1:  cost: 0.35252460837364197\n",
      "training accuracy: 0.8750000596046448\n",
      "validation accuracy: 0.925000011920929\n",
      "epoch is :12\n",
      "Epoch 13, CIFAR-10 Batch 1:  cost: 0.223235622048378\n",
      "training accuracy: 0.9000000357627869\n",
      "validation accuracy: 0.9749999642372131\n",
      "epoch is :13\n",
      "Epoch 14, CIFAR-10 Batch 1:  cost: 0.1619972586631775\n",
      "training accuracy: 1.0\n",
      "validation accuracy: 1.0\n",
      "epoch is :14\n",
      "Epoch 15, CIFAR-10 Batch 1:  cost: 0.10584640502929688\n",
      "training accuracy: 0.9749999642372131\n",
      "validation accuracy: 1.0\n",
      "epoch is :15\n",
      "Epoch 16, CIFAR-10 Batch 1:  cost: 0.07379163801670074\n",
      "training accuracy: 1.0\n",
      "validation accuracy: 1.0\n",
      "epoch is :16\n",
      "Epoch 17, CIFAR-10 Batch 1:  cost: 0.08706443011760712\n",
      "training accuracy: 1.0\n",
      "validation accuracy: 1.0\n",
      "epoch is :17\n",
      "Epoch 18, CIFAR-10 Batch 1:  cost: 0.045639533549547195\n",
      "training accuracy: 0.9750000238418579\n",
      "validation accuracy: 1.0\n",
      "epoch is :18\n",
      "Epoch 19, CIFAR-10 Batch 1:  cost: 0.10624348372220993\n",
      "training accuracy: 1.0\n",
      "validation accuracy: 1.0\n",
      "epoch is :19\n",
      "Epoch 20, CIFAR-10 Batch 1:  cost: 0.074540875852108\n",
      "training accuracy: 1.0\n",
      "validation accuracy: 1.0\n",
      "epoch is :20\n",
      "Epoch 21, CIFAR-10 Batch 1:  cost: 0.03964835777878761\n",
      "training accuracy: 1.0\n",
      "validation accuracy: 1.0\n",
      "epoch is :21\n",
      "Epoch 22, CIFAR-10 Batch 1:  cost: 0.027246370911598206\n",
      "training accuracy: 1.0\n",
      "validation accuracy: 1.0\n",
      "epoch is :22\n",
      "Epoch 23, CIFAR-10 Batch 1:  cost: 0.07423935830593109\n",
      "training accuracy: 0.9749999642372131\n",
      "validation accuracy: 1.0\n",
      "epoch is :23\n",
      "Epoch 24, CIFAR-10 Batch 1:  cost: 0.09274006634950638\n",
      "training accuracy: 1.0\n",
      "validation accuracy: 1.0\n",
      "epoch is :24\n",
      "Epoch 25, CIFAR-10 Batch 1:  cost: 0.019656917080283165\n",
      "training accuracy: 1.0\n",
      "validation accuracy: 1.0\n",
      "epoch is :25\n",
      "Epoch 26, CIFAR-10 Batch 1:  cost: 0.10272568464279175\n",
      "training accuracy: 1.0\n",
      "validation accuracy: 1.0\n",
      "epoch is :26\n",
      "Epoch 27, CIFAR-10 Batch 1:  cost: 0.007706693839281797\n",
      "training accuracy: 0.9749999642372131\n",
      "validation accuracy: 1.0\n",
      "epoch is :27\n",
      "Epoch 28, CIFAR-10 Batch 1:  cost: 0.006356512662023306\n",
      "training accuracy: 1.0\n",
      "validation accuracy: 1.0\n",
      "epoch is :28\n",
      "Epoch 29, CIFAR-10 Batch 1:  cost: 0.01339035015553236\n",
      "training accuracy: 1.0\n",
      "validation accuracy: 1.0\n",
      "epoch is :29\n",
      "Epoch 30, CIFAR-10 Batch 1:  cost: 0.007541547529399395\n",
      "training accuracy: 1.0\n",
      "validation accuracy: 1.0\n"
     ]
    }
   ],
   "source": [
    "\"\"\"\n",
    "DON'T MODIFY ANYTHING IN THIS CELL\n",
    "\"\"\"\n",
    "print('Checking the Training on a Single Batch...')\n",
    "with tf.Session() as sess:\n",
    "    # Initializing the variables\n",
    "    sess.run(tf.global_variables_initializer())\n",
    "    \n",
    "    # Training cycle\n",
    "    for epoch in range(epochs):\n",
    "        print('epoch is :{}'.format(epoch))\n",
    "        batch_i = 1\n",
    "        for batch_features, batch_labels in helper.load_preprocess_training_batch(batch_i, batch_size):\n",
    "            train_neural_network(sess, optimizer, keep_probability, batch_features, batch_labels)\n",
    "        print('Epoch {:>2}, CIFAR-10 Batch {}:  '.format(epoch + 1, batch_i), end='')\n",
    "        print_stats(sess, batch_features, batch_labels, cost, accuracy)"
   ]
  },
  {
   "cell_type": "markdown",
   "metadata": {},
   "source": [
    "### Fully Train the Model\n",
    "Now that you got a good accuracy with a single CIFAR-10 batch, try it with all five batches."
   ]
  },
  {
   "cell_type": "code",
   "execution_count": 21,
   "metadata": {
    "collapsed": false
   },
   "outputs": [
    {
     "name": "stdout",
     "output_type": "stream",
     "text": [
      "Training...\n",
      "Epoch  1, CIFAR-10 Batch 1:  cost: 2.014995813369751\n",
      "training accuracy: 0.20000000298023224\n",
      "validation accuracy: 0.32500001788139343\n",
      "Epoch  1, CIFAR-10 Batch 2:  cost: 1.6509560346603394\n",
      "training accuracy: 0.42500001192092896\n",
      "validation accuracy: 0.44999998807907104\n",
      "Epoch  1, CIFAR-10 Batch 3:  cost: 1.3260705471038818\n",
      "training accuracy: 0.45000001788139343\n",
      "validation accuracy: 0.45000001788139343\n",
      "Epoch  1, CIFAR-10 Batch 4:  cost: 1.3811469078063965\n",
      "training accuracy: 0.3500000238418579\n",
      "validation accuracy: 0.3750000298023224\n",
      "Epoch  1, CIFAR-10 Batch 5:  cost: 1.422778844833374\n",
      "training accuracy: 0.5249999761581421\n",
      "validation accuracy: 0.5999999642372131\n",
      "Epoch  2, CIFAR-10 Batch 1:  cost: 1.4321625232696533\n",
      "training accuracy: 0.5\n",
      "validation accuracy: 0.5249999761581421\n",
      "Epoch  2, CIFAR-10 Batch 2:  cost: 1.1200228929519653\n",
      "training accuracy: 0.6750000715255737\n",
      "validation accuracy: 0.6500000357627869\n",
      "Epoch  2, CIFAR-10 Batch 3:  cost: 1.068819284439087\n",
      "training accuracy: 0.574999988079071\n",
      "validation accuracy: 0.574999988079071\n",
      "Epoch  2, CIFAR-10 Batch 4:  cost: 0.9741906523704529\n",
      "training accuracy: 0.6499999761581421\n",
      "validation accuracy: 0.7000000476837158\n",
      "Epoch  2, CIFAR-10 Batch 5:  cost: 0.9681828618049622\n",
      "training accuracy: 0.6750000715255737\n",
      "validation accuracy: 0.75\n",
      "Epoch  3, CIFAR-10 Batch 1:  cost: 1.1719160079956055\n",
      "training accuracy: 0.625\n",
      "validation accuracy: 0.6749999523162842\n",
      "Epoch  3, CIFAR-10 Batch 2:  cost: 0.8204179406166077\n",
      "training accuracy: 0.7749999761581421\n",
      "validation accuracy: 0.7749999761581421\n",
      "Epoch  3, CIFAR-10 Batch 3:  cost: 0.8212420344352722\n",
      "training accuracy: 0.800000011920929\n",
      "validation accuracy: 0.8500000238418579\n",
      "Epoch  3, CIFAR-10 Batch 4:  cost: 0.7400823831558228\n",
      "training accuracy: 0.7000000476837158\n",
      "validation accuracy: 0.75\n",
      "Epoch  3, CIFAR-10 Batch 5:  cost: 0.8120038509368896\n",
      "training accuracy: 0.7749999761581421\n",
      "validation accuracy: 0.8250000476837158\n",
      "Epoch  4, CIFAR-10 Batch 1:  cost: 0.8123965263366699\n",
      "training accuracy: 0.75\n",
      "validation accuracy: 0.75\n",
      "Epoch  4, CIFAR-10 Batch 2:  cost: 0.6091743111610413\n",
      "training accuracy: 0.8250000476837158\n",
      "validation accuracy: 0.8500000834465027\n",
      "Epoch  4, CIFAR-10 Batch 3:  cost: 0.6429865956306458\n",
      "training accuracy: 0.8750000596046448\n",
      "validation accuracy: 0.8500000238418579\n",
      "Epoch  4, CIFAR-10 Batch 4:  cost: 0.5203952193260193\n",
      "training accuracy: 0.8750000596046448\n",
      "validation accuracy: 0.9000000357627869\n",
      "Epoch  4, CIFAR-10 Batch 5:  cost: 0.5691224336624146\n",
      "training accuracy: 0.75\n",
      "validation accuracy: 0.875\n",
      "Epoch  5, CIFAR-10 Batch 1:  cost: 0.5548084378242493\n",
      "training accuracy: 0.7749999761581421\n",
      "validation accuracy: 0.7999999523162842\n",
      "Epoch  5, CIFAR-10 Batch 2:  cost: 0.4630926251411438\n",
      "training accuracy: 0.875\n",
      "validation accuracy: 0.8750000596046448\n",
      "Epoch  5, CIFAR-10 Batch 3:  cost: 0.3736529052257538\n",
      "training accuracy: 0.9000000357627869\n",
      "validation accuracy: 0.925000011920929\n",
      "Epoch  5, CIFAR-10 Batch 4:  cost: 0.3680490553379059\n",
      "training accuracy: 0.875\n",
      "validation accuracy: 0.8500000238418579\n",
      "Epoch  5, CIFAR-10 Batch 5:  cost: 0.3272046446800232\n",
      "training accuracy: 0.949999988079071\n",
      "validation accuracy: 0.925000011920929\n",
      "Epoch  6, CIFAR-10 Batch 1:  cost: 0.37051963806152344\n",
      "training accuracy: 0.8500000238418579\n",
      "validation accuracy: 0.9000000357627869\n",
      "Epoch  6, CIFAR-10 Batch 2:  cost: 0.4331047534942627\n",
      "training accuracy: 0.9000000357627869\n",
      "validation accuracy: 0.8750000596046448\n",
      "Epoch  6, CIFAR-10 Batch 3:  cost: 0.23624944686889648\n",
      "training accuracy: 0.949999988079071\n",
      "validation accuracy: 0.9749999642372131\n",
      "Epoch  6, CIFAR-10 Batch 4:  cost: 0.3107086718082428\n",
      "training accuracy: 0.9000000357627869\n",
      "validation accuracy: 0.9749999642372131\n",
      "Epoch  6, CIFAR-10 Batch 5:  cost: 0.295576810836792\n",
      "training accuracy: 0.949999988079071\n",
      "validation accuracy: 1.0\n",
      "Epoch  7, CIFAR-10 Batch 1:  cost: 0.23398461937904358\n",
      "training accuracy: 0.9000000357627869\n",
      "validation accuracy: 0.925000011920929\n",
      "Epoch  7, CIFAR-10 Batch 2:  cost: 0.25098907947540283\n",
      "training accuracy: 0.949999988079071\n",
      "validation accuracy: 0.949999988079071\n",
      "Epoch  7, CIFAR-10 Batch 3:  cost: 0.2275712490081787\n",
      "training accuracy: 1.0\n",
      "validation accuracy: 1.0\n",
      "Epoch  7, CIFAR-10 Batch 4:  cost: 0.18963077664375305\n",
      "training accuracy: 0.949999988079071\n",
      "validation accuracy: 0.9749999642372131\n",
      "Epoch  7, CIFAR-10 Batch 5:  cost: 0.15650570392608643\n",
      "training accuracy: 1.0\n",
      "validation accuracy: 1.0\n",
      "Epoch  8, CIFAR-10 Batch 1:  cost: 0.2431231141090393\n",
      "training accuracy: 0.925000011920929\n",
      "validation accuracy: 0.949999988079071\n",
      "Epoch  8, CIFAR-10 Batch 2:  cost: 0.15025532245635986\n",
      "training accuracy: 1.0\n",
      "validation accuracy: 1.0\n",
      "Epoch  8, CIFAR-10 Batch 3:  cost: 0.15236127376556396\n",
      "training accuracy: 0.949999988079071\n",
      "validation accuracy: 1.0\n",
      "Epoch  8, CIFAR-10 Batch 4:  cost: 0.13506202399730682\n",
      "training accuracy: 0.949999988079071\n",
      "validation accuracy: 1.0\n",
      "Epoch  8, CIFAR-10 Batch 5:  cost: 0.11858038604259491\n",
      "training accuracy: 0.925000011920929\n",
      "validation accuracy: 1.0\n",
      "Epoch  9, CIFAR-10 Batch 1:  cost: 0.14604756236076355\n",
      "training accuracy: 0.9749999642372131\n",
      "validation accuracy: 0.9749999642372131\n",
      "Epoch  9, CIFAR-10 Batch 2:  cost: 0.08605652302503586\n",
      "training accuracy: 1.0\n",
      "validation accuracy: 1.0\n",
      "Epoch  9, CIFAR-10 Batch 3:  cost: 0.10959295183420181\n",
      "training accuracy: 0.9749999642372131\n",
      "validation accuracy: 1.0\n",
      "Epoch  9, CIFAR-10 Batch 4:  cost: 0.11900022625923157\n",
      "training accuracy: 0.949999988079071\n",
      "validation accuracy: 0.9750000238418579\n",
      "Epoch  9, CIFAR-10 Batch 5:  cost: 0.09390469640493393\n",
      "training accuracy: 0.949999988079071\n",
      "validation accuracy: 1.0\n",
      "Epoch 10, CIFAR-10 Batch 1:  cost: 0.09027602523565292\n",
      "training accuracy: 0.9750000238418579\n",
      "validation accuracy: 1.0\n",
      "Epoch 10, CIFAR-10 Batch 2:  cost: 0.14657950401306152\n",
      "training accuracy: 1.0\n",
      "validation accuracy: 1.0\n",
      "Epoch 10, CIFAR-10 Batch 3:  cost: 0.13197273015975952\n",
      "training accuracy: 1.0\n",
      "validation accuracy: 1.0\n",
      "Epoch 10, CIFAR-10 Batch 4:  cost: 0.11142967641353607\n",
      "training accuracy: 1.0\n",
      "validation accuracy: 1.0\n",
      "Epoch 10, CIFAR-10 Batch 5:  cost: 0.05131322890520096\n",
      "training accuracy: 1.0\n",
      "validation accuracy: 1.0\n",
      "Epoch 11, CIFAR-10 Batch 1:  cost: 0.09969462454319\n",
      "training accuracy: 1.0\n",
      "validation accuracy: 0.9749999642372131\n",
      "Epoch 11, CIFAR-10 Batch 2:  cost: 0.054119955748319626\n",
      "training accuracy: 1.0\n",
      "validation accuracy: 1.0\n",
      "Epoch 11, CIFAR-10 Batch 3:  cost: 0.059921957552433014\n",
      "training accuracy: 1.0\n",
      "validation accuracy: 1.0\n",
      "Epoch 11, CIFAR-10 Batch 4:  cost: 0.10979312658309937\n",
      "training accuracy: 0.949999988079071\n",
      "validation accuracy: 0.9749999642372131\n",
      "Epoch 11, CIFAR-10 Batch 5:  cost: 0.022332798689603806\n",
      "training accuracy: 0.9750000238418579\n",
      "validation accuracy: 1.0\n",
      "Epoch 12, CIFAR-10 Batch 1:  cost: 0.10092972218990326\n",
      "training accuracy: 0.9749999642372131\n",
      "validation accuracy: 1.0\n",
      "Epoch 12, CIFAR-10 Batch 2:  cost: 0.07260234653949738\n",
      "training accuracy: 0.9749999642372131\n",
      "validation accuracy: 1.0\n",
      "Epoch 12, CIFAR-10 Batch 3:  cost: 0.05352494865655899\n",
      "training accuracy: 0.9749999642372131\n",
      "validation accuracy: 1.0\n",
      "Epoch 12, CIFAR-10 Batch 4:  cost: 0.054907217621803284\n",
      "training accuracy: 0.9749999642372131\n",
      "validation accuracy: 1.0\n",
      "Epoch 12, CIFAR-10 Batch 5:  cost: 0.10627686232328415\n",
      "training accuracy: 1.0\n",
      "validation accuracy: 1.0\n",
      "Epoch 13, CIFAR-10 Batch 1:  cost: 0.1094517782330513\n",
      "training accuracy: 0.9749999642372131\n",
      "validation accuracy: 1.0\n",
      "Epoch 13, CIFAR-10 Batch 2:  cost: 0.047827526926994324\n",
      "training accuracy: 1.0\n",
      "validation accuracy: 1.0\n",
      "Epoch 13, CIFAR-10 Batch 3:  cost: 0.10667821764945984\n",
      "training accuracy: 1.0\n",
      "validation accuracy: 1.0\n",
      "Epoch 13, CIFAR-10 Batch 4:  cost: 0.09886303544044495\n",
      "training accuracy: 0.949999988079071\n",
      "validation accuracy: 0.9749999642372131\n",
      "Epoch 13, CIFAR-10 Batch 5:  cost: 0.06481678783893585\n",
      "training accuracy: 1.0\n",
      "validation accuracy: 1.0\n",
      "Epoch 14, CIFAR-10 Batch 1:  cost: 0.05078108608722687\n",
      "training accuracy: 0.9750000238418579\n",
      "validation accuracy: 1.0\n",
      "Epoch 14, CIFAR-10 Batch 2:  cost: 0.05702313408255577\n",
      "training accuracy: 1.0\n",
      "validation accuracy: 1.0\n",
      "Epoch 14, CIFAR-10 Batch 3:  cost: 0.025881757959723473\n",
      "training accuracy: 1.0\n",
      "validation accuracy: 1.0\n",
      "Epoch 14, CIFAR-10 Batch 4:  cost: 0.10531894862651825\n",
      "training accuracy: 0.9749999642372131\n",
      "validation accuracy: 0.9749999642372131\n",
      "Epoch 14, CIFAR-10 Batch 5:  cost: 0.04495072364807129\n",
      "training accuracy: 1.0\n",
      "validation accuracy: 1.0\n",
      "Epoch 15, CIFAR-10 Batch 1:  cost: 0.08839371055364609\n",
      "training accuracy: 1.0\n",
      "validation accuracy: 1.0\n",
      "Epoch 15, CIFAR-10 Batch 2:  cost: 0.12968076765537262\n",
      "training accuracy: 0.9749999642372131\n",
      "validation accuracy: 1.0\n",
      "Epoch 15, CIFAR-10 Batch 3:  cost: 0.013607178814709187\n",
      "training accuracy: 1.0\n",
      "validation accuracy: 1.0\n",
      "Epoch 15, CIFAR-10 Batch 4:  cost: 0.07352964580059052\n",
      "training accuracy: 0.9749999642372131\n",
      "validation accuracy: 1.0\n",
      "Epoch 15, CIFAR-10 Batch 5:  cost: 0.006158348638564348\n",
      "training accuracy: 1.0\n",
      "validation accuracy: 1.0\n",
      "Epoch 16, CIFAR-10 Batch 1:  cost: 0.014639286324381828\n",
      "training accuracy: 0.9749999642372131\n",
      "validation accuracy: 1.0\n",
      "Epoch 16, CIFAR-10 Batch 2:  cost: 0.009932179003953934\n",
      "training accuracy: 1.0\n",
      "validation accuracy: 1.0\n",
      "Epoch 16, CIFAR-10 Batch 3:  cost: 0.03361101076006889\n",
      "training accuracy: 1.0\n",
      "validation accuracy: 1.0\n",
      "Epoch 16, CIFAR-10 Batch 4:  cost: 0.012119715102016926\n",
      "training accuracy: 0.9749999642372131\n",
      "validation accuracy: 1.0\n",
      "Epoch 16, CIFAR-10 Batch 5:  cost: 0.028811655938625336\n",
      "training accuracy: 1.0\n",
      "validation accuracy: 1.0\n",
      "Epoch 17, CIFAR-10 Batch 1:  cost: 0.02357029914855957\n",
      "training accuracy: 0.9749999642372131\n",
      "validation accuracy: 1.0\n",
      "Epoch 17, CIFAR-10 Batch 2:  cost: 0.05256270617246628\n",
      "training accuracy: 1.0\n",
      "validation accuracy: 1.0\n",
      "Epoch 17, CIFAR-10 Batch 3:  cost: 0.00622581597417593\n",
      "training accuracy: 1.0\n",
      "validation accuracy: 1.0\n",
      "Epoch 17, CIFAR-10 Batch 4:  cost: 0.03878746181726456\n",
      "training accuracy: 0.9749999642372131\n",
      "validation accuracy: 1.0\n",
      "Epoch 17, CIFAR-10 Batch 5:  cost: 0.01564187929034233\n",
      "training accuracy: 0.9749999642372131\n",
      "validation accuracy: 1.0\n",
      "Epoch 18, CIFAR-10 Batch 1:  cost: 0.03477560728788376\n",
      "training accuracy: 1.0\n",
      "validation accuracy: 1.0\n",
      "Epoch 18, CIFAR-10 Batch 2:  cost: 0.028468342497944832\n",
      "training accuracy: 1.0\n",
      "validation accuracy: 1.0\n",
      "Epoch 18, CIFAR-10 Batch 3:  cost: 0.018471304327249527\n",
      "training accuracy: 0.9749999642372131\n",
      "validation accuracy: 1.0\n",
      "Epoch 18, CIFAR-10 Batch 4:  cost: 0.010648160241544247\n",
      "training accuracy: 1.0\n",
      "validation accuracy: 1.0\n",
      "Epoch 18, CIFAR-10 Batch 5:  cost: 0.15405289828777313\n",
      "training accuracy: 1.0\n",
      "validation accuracy: 1.0\n",
      "Epoch 19, CIFAR-10 Batch 1:  cost: 0.0370415560901165\n",
      "training accuracy: 0.9749999642372131\n",
      "validation accuracy: 1.0\n",
      "Epoch 19, CIFAR-10 Batch 2:  cost: 0.0031917826272547245\n",
      "training accuracy: 0.9750000238418579\n",
      "validation accuracy: 1.0\n",
      "Epoch 19, CIFAR-10 Batch 3:  cost: 0.002975387731567025\n",
      "training accuracy: 0.9750000238418579\n",
      "validation accuracy: 1.0\n",
      "Epoch 19, CIFAR-10 Batch 4:  cost: 0.05466199666261673\n",
      "training accuracy: 0.9749999642372131\n",
      "validation accuracy: 1.0\n",
      "Epoch 19, CIFAR-10 Batch 5:  cost: 0.07057828456163406\n",
      "training accuracy: 1.0\n",
      "validation accuracy: 1.0\n",
      "Epoch 20, CIFAR-10 Batch 1:  cost: 0.006739144213497639\n",
      "training accuracy: 1.0\n",
      "validation accuracy: 1.0\n",
      "Epoch 20, CIFAR-10 Batch 2:  cost: 0.0291490126401186\n",
      "training accuracy: 1.0\n",
      "validation accuracy: 1.0\n",
      "Epoch 20, CIFAR-10 Batch 3:  cost: 0.09760924428701401\n",
      "training accuracy: 0.9750000238418579\n",
      "validation accuracy: 1.0\n",
      "Epoch 20, CIFAR-10 Batch 4:  cost: 0.013955204747617245\n",
      "training accuracy: 1.0\n",
      "validation accuracy: 1.0\n",
      "Epoch 20, CIFAR-10 Batch 5:  cost: 0.09726503491401672\n",
      "training accuracy: 0.9749999642372131\n",
      "validation accuracy: 1.0\n",
      "Epoch 21, CIFAR-10 Batch 1:  cost: 0.010393330827355385\n",
      "training accuracy: 0.9749999642372131\n",
      "validation accuracy: 1.0\n",
      "Epoch 21, CIFAR-10 Batch 2:  cost: 0.10371071100234985\n",
      "training accuracy: 1.0\n",
      "validation accuracy: 1.0\n",
      "Epoch 21, CIFAR-10 Batch 3:  cost: 0.00747694494202733\n",
      "training accuracy: 1.0\n",
      "validation accuracy: 1.0\n",
      "Epoch 21, CIFAR-10 Batch 4:  cost: 0.01843227446079254\n",
      "training accuracy: 1.0\n",
      "validation accuracy: 1.0\n",
      "Epoch 21, CIFAR-10 Batch 5:  cost: 0.002122360048815608\n",
      "training accuracy: 1.0\n",
      "validation accuracy: 1.0\n",
      "Epoch 22, CIFAR-10 Batch 1:  cost: 0.010428479872643948\n",
      "training accuracy: 1.0\n",
      "validation accuracy: 1.0\n",
      "Epoch 22, CIFAR-10 Batch 2:  cost: 0.01186177134513855\n",
      "training accuracy: 1.0\n",
      "validation accuracy: 1.0\n",
      "Epoch 22, CIFAR-10 Batch 3:  cost: 0.0026994438376277685\n",
      "training accuracy: 1.0\n",
      "validation accuracy: 1.0\n",
      "Epoch 22, CIFAR-10 Batch 4:  cost: 0.019057651981711388\n",
      "training accuracy: 1.0\n",
      "validation accuracy: 1.0\n",
      "Epoch 22, CIFAR-10 Batch 5:  cost: 0.0025721925776451826\n",
      "training accuracy: 0.9750000238418579\n",
      "validation accuracy: 1.0\n",
      "Epoch 23, CIFAR-10 Batch 1:  cost: 0.010793991386890411\n",
      "training accuracy: 1.0\n",
      "validation accuracy: 1.0\n",
      "Epoch 23, CIFAR-10 Batch 2:  cost: 0.005153250880539417\n",
      "training accuracy: 1.0\n",
      "validation accuracy: 1.0\n",
      "Epoch 23, CIFAR-10 Batch 3:  cost: 0.003238735953345895\n",
      "training accuracy: 1.0\n",
      "validation accuracy: 1.0\n",
      "Epoch 23, CIFAR-10 Batch 4:  cost: 0.013820000924170017\n",
      "training accuracy: 1.0\n",
      "validation accuracy: 1.0\n",
      "Epoch 23, CIFAR-10 Batch 5:  cost: 0.01207578182220459\n",
      "training accuracy: 1.0\n",
      "validation accuracy: 1.0\n",
      "Epoch 24, CIFAR-10 Batch 1:  cost: 0.010572412982583046\n",
      "training accuracy: 1.0\n",
      "validation accuracy: 1.0\n",
      "Epoch 24, CIFAR-10 Batch 2:  cost: 0.007978860288858414\n",
      "training accuracy: 1.0\n",
      "validation accuracy: 1.0\n",
      "Epoch 24, CIFAR-10 Batch 3:  cost: 0.029357630759477615\n",
      "training accuracy: 1.0\n",
      "validation accuracy: 1.0\n",
      "Epoch 24, CIFAR-10 Batch 4:  cost: 0.02677302621304989\n",
      "training accuracy: 1.0\n",
      "validation accuracy: 1.0\n",
      "Epoch 24, CIFAR-10 Batch 5:  cost: 0.01715894415974617\n",
      "training accuracy: 1.0\n",
      "validation accuracy: 1.0\n",
      "Epoch 25, CIFAR-10 Batch 1:  cost: 0.004025732167065144\n",
      "training accuracy: 1.0\n",
      "validation accuracy: 1.0\n",
      "Epoch 25, CIFAR-10 Batch 2:  cost: 0.03579361364245415\n",
      "training accuracy: 1.0\n",
      "validation accuracy: 1.0\n",
      "Epoch 25, CIFAR-10 Batch 3:  cost: 0.008078853599727154\n",
      "training accuracy: 1.0\n",
      "validation accuracy: 1.0\n",
      "Epoch 25, CIFAR-10 Batch 4:  cost: 0.0027287527918815613\n",
      "training accuracy: 1.0\n",
      "validation accuracy: 1.0\n",
      "Epoch 25, CIFAR-10 Batch 5:  cost: 0.0007090152357704937\n",
      "training accuracy: 0.949999988079071\n",
      "validation accuracy: 1.0\n",
      "Epoch 26, CIFAR-10 Batch 1:  cost: 0.01615392416715622\n",
      "training accuracy: 1.0\n",
      "validation accuracy: 1.0\n",
      "Epoch 26, CIFAR-10 Batch 2:  cost: 0.007952600717544556\n",
      "training accuracy: 0.9749999642372131\n",
      "validation accuracy: 1.0\n",
      "Epoch 26, CIFAR-10 Batch 3:  cost: 0.0038658692501485348\n",
      "training accuracy: 0.9749999642372131\n",
      "validation accuracy: 1.0\n",
      "Epoch 26, CIFAR-10 Batch 4:  cost: 0.007975514978170395\n",
      "training accuracy: 1.0\n",
      "validation accuracy: 1.0\n",
      "Epoch 26, CIFAR-10 Batch 5:  cost: 0.03926096484065056\n",
      "training accuracy: 0.9500000476837158\n",
      "validation accuracy: 1.0\n",
      "Epoch 27, CIFAR-10 Batch 1:  cost: 0.10652905702590942\n",
      "training accuracy: 1.0\n",
      "validation accuracy: 1.0\n",
      "Epoch 27, CIFAR-10 Batch 2:  cost: 0.09269455075263977\n",
      "training accuracy: 0.9749999642372131\n",
      "validation accuracy: 1.0\n",
      "Epoch 27, CIFAR-10 Batch 3:  cost: 0.09032116830348969\n",
      "training accuracy: 1.0\n",
      "validation accuracy: 1.0\n",
      "Epoch 27, CIFAR-10 Batch 4:  cost: 0.028798673301935196\n",
      "training accuracy: 1.0\n",
      "validation accuracy: 1.0\n",
      "Epoch 27, CIFAR-10 Batch 5:  cost: 0.006107219494879246\n",
      "training accuracy: 1.0\n",
      "validation accuracy: 1.0\n",
      "Epoch 28, CIFAR-10 Batch 1:  cost: 0.03783338516950607\n",
      "training accuracy: 1.0\n",
      "validation accuracy: 1.0\n",
      "Epoch 28, CIFAR-10 Batch 2:  cost: 0.015426065772771835\n",
      "training accuracy: 1.0\n",
      "validation accuracy: 1.0\n",
      "Epoch 28, CIFAR-10 Batch 3:  cost: 0.03755021467804909\n",
      "training accuracy: 0.9749999642372131\n",
      "validation accuracy: 0.9749999642372131\n",
      "Epoch 28, CIFAR-10 Batch 4:  cost: 0.008055116049945354\n",
      "training accuracy: 1.0\n",
      "validation accuracy: 1.0\n",
      "Epoch 28, CIFAR-10 Batch 5:  cost: 0.014933528378605843\n",
      "training accuracy: 1.0\n",
      "validation accuracy: 1.0\n",
      "Epoch 29, CIFAR-10 Batch 1:  cost: 0.0010085778776556253\n",
      "training accuracy: 1.0\n",
      "validation accuracy: 1.0\n",
      "Epoch 29, CIFAR-10 Batch 2:  cost: 0.0005695848958566785\n",
      "training accuracy: 1.0\n",
      "validation accuracy: 1.0\n",
      "Epoch 29, CIFAR-10 Batch 3:  cost: 0.08717618882656097\n",
      "training accuracy: 0.9749999642372131\n",
      "validation accuracy: 1.0\n",
      "Epoch 29, CIFAR-10 Batch 4:  cost: 0.01598966494202614\n",
      "training accuracy: 1.0\n",
      "validation accuracy: 1.0\n",
      "Epoch 29, CIFAR-10 Batch 5:  cost: 0.02072797156870365\n",
      "training accuracy: 1.0\n",
      "validation accuracy: 1.0\n",
      "Epoch 30, CIFAR-10 Batch 1:  cost: 0.004277421161532402\n",
      "training accuracy: 1.0\n",
      "validation accuracy: 1.0\n",
      "Epoch 30, CIFAR-10 Batch 2:  cost: 0.009669983759522438\n",
      "training accuracy: 1.0\n",
      "validation accuracy: 1.0\n",
      "Epoch 30, CIFAR-10 Batch 3:  cost: 0.023799972608685493\n",
      "training accuracy: 0.9749999642372131\n",
      "validation accuracy: 1.0\n",
      "Epoch 30, CIFAR-10 Batch 4:  cost: 0.19215407967567444\n",
      "training accuracy: 1.0\n",
      "validation accuracy: 1.0\n",
      "Epoch 30, CIFAR-10 Batch 5:  cost: 0.009101907722651958\n",
      "training accuracy: 1.0\n",
      "validation accuracy: 1.0\n"
     ]
    }
   ],
   "source": [
    "\"\"\"\n",
    "DON'T MODIFY ANYTHING IN THIS CELL\n",
    "\"\"\"\n",
    "save_model_path = './image_classification'\n",
    "\n",
    "print('Training...')\n",
    "with tf.Session() as sess:\n",
    "    # Initializing the variables\n",
    "    sess.run(tf.global_variables_initializer())\n",
    "    \n",
    "    # Training cycle\n",
    "    for epoch in range(epochs):\n",
    "        # Loop over all batches\n",
    "        n_batches = 5\n",
    "        for batch_i in range(1, n_batches + 1):\n",
    "            for batch_features, batch_labels in helper.load_preprocess_training_batch(batch_i, batch_size):\n",
    "                train_neural_network(sess, optimizer, keep_probability, batch_features, batch_labels)\n",
    "            print('Epoch {:>2}, CIFAR-10 Batch {}:  '.format(epoch + 1, batch_i), end='')\n",
    "            print_stats(sess, batch_features, batch_labels, cost, accuracy)\n",
    "            \n",
    "    # Save Model\n",
    "    saver = tf.train.Saver()\n",
    "    save_path = saver.save(sess, save_model_path)"
   ]
  },
  {
   "cell_type": "markdown",
   "metadata": {},
   "source": [
    "# Checkpoint\n",
    "The model has been saved to disk.\n",
    "## Test Model\n",
    "Test your model against the test dataset.  This will be your final accuracy. You should have an accuracy greater than 50%. If you don't, keep tweaking the model architecture and parameters."
   ]
  },
  {
   "cell_type": "code",
   "execution_count": 23,
   "metadata": {
    "collapsed": false
   },
   "outputs": [
    {
     "name": "stdout",
     "output_type": "stream",
     "text": [
      "INFO:tensorflow:Restoring parameters from ./image_classification\n",
      "Testing Accuracy: 0.6895767405063291\n",
      "\n"
     ]
    },
    {
     "data": {
      "image/png": "[encoded data removed]",
      "text/plain": [
       "<matplotlib.figure.Figure at 0x7f25734e7080>"
      ]
     },
     "metadata": {
      "image/png": {
       "height": 319,
       "width": 349
      }
     },
     "output_type": "display_data"
    }
   ],
   "source": [
    "\"\"\"\n",
    "DON'T MODIFY ANYTHING IN THIS CELL\n",
    "\"\"\"\n",
    "%matplotlib inline\n",
    "%config InlineBackend.figure_format = 'retina'\n",
    "\n",
    "import tensorflow as tf\n",
    "import pickle\n",
    "import helper\n",
    "import random\n",
    "\n",
    "# Set batch size if not already set\n",
    "try:\n",
    "    if batch_size:\n",
    "        pass\n",
    "except NameError:\n",
    "    batch_size = 64\n",
    "\n",
    "save_model_path = './image_classification'\n",
    "n_samples = 4\n",
    "top_n_predictions = 3\n",
    "\n",
    "def test_model():\n",
    "    \"\"\"\n",
    "    Test the saved model against the test dataset\n",
    "    \"\"\"\n",
    "\n",
    "    test_features, test_labels = pickle.load(open('preprocess_test.p', mode='rb'))\n",
    "    loaded_graph = tf.Graph()\n",
    "\n",
    "    with tf.Session(graph=loaded_graph) as sess:\n",
    "        # Load model\n",
    "        loader = tf.train.import_meta_graph(save_model_path + '.meta')\n",
    "        loader.restore(sess, save_model_path)\n",
    "\n",
    "        # Get Tensors from loaded model\n",
    "        loaded_x = loaded_graph.get_tensor_by_name('x:0')\n",
    "        loaded_y = loaded_graph.get_tensor_by_name('y:0')\n",
    "        loaded_keep_prob = loaded_graph.get_tensor_by_name('keep_prob:0')\n",
    "        loaded_logits = loaded_graph.get_tensor_by_name('logits:0')\n",
    "        loaded_acc = loaded_graph.get_tensor_by_name('accuracy:0')\n",
    "        \n",
    "        # Get accuracy in batches for memory limitations\n",
    "        test_batch_acc_total = 0\n",
    "        test_batch_count = 0\n",
    "        \n",
    "        for test_feature_batch, test_label_batch in helper.batch_features_labels(test_features, test_labels, batch_size):\n",
    "            test_batch_acc_total += sess.run(\n",
    "                loaded_acc,\n",
    "                feed_dict={loaded_x: test_feature_batch, loaded_y: test_label_batch, loaded_keep_prob: 1.0})\n",
    "            test_batch_count += 1\n",
    "\n",
    "        print('Testing Accuracy: {}\\n'.format(test_batch_acc_total/test_batch_count))\n",
    "\n",
    "        # Print Random Samples\n",
    "        random_test_features, random_test_labels = tuple(zip(*random.sample(list(zip(test_features, test_labels)), n_samples)))\n",
    "        random_test_predictions = sess.run(\n",
    "            tf.nn.top_k(tf.nn.softmax(loaded_logits), top_n_predictions),\n",
    "            feed_dict={loaded_x: random_test_features, loaded_y: random_test_labels, loaded_keep_prob: 1.0})\n",
    "        helper.display_image_predictions(random_test_features, random_test_labels, random_test_predictions)\n",
    "\n",
    "\n",
    "test_model()"
   ]
  },
  {
   "cell_type": "markdown",
   "metadata": {},
   "source": [
    "## Why 50-80% Accuracy?\n",
    "You might be wondering why you can't get an accuracy any higher. First things first, 50% isn't bad for a simple CNN.  Pure guessing would get you 10% accuracy. However, you might notice people are getting scores [well above 80%](http://rodrigob.github.io/are_we_there_yet/build/classification_datasets_results.html#43494641522d3130).  That's because we haven't taught you all there is to know about neural networks. We still need to cover a few more techniques.\n",
    "## Submitting This Project\n",
    "When submitting this project, make sure to run all the cells before saving the notebook.  Save the notebook file as \"dlnd_image_classification.ipynb\" and save it as a HTML file under \"File\" -> \"Download as\".  Include the \"helper.py\" and \"problem_unittests.py\" files in your submission."
   ]
  }
 ],
 "metadata": {
  "anaconda-cloud": {},
  "kernelspec": {
   "display_name": "Python 3",
   "language": "python",
   "name": "python3"
  },
  "language_info": {
   "codemirror_mode": {
    "name": "ipython",
    "version": 3
   },
   "file_extension": ".py",
   "mimetype": "text/x-python",
   "name": "python",
   "nbconvert_exporter": "python",
   "pygments_lexer": "ipython3",
   "version": "3.6.0"
  }
 },
 "nbformat": 4,
 "nbformat_minor": 1
}
